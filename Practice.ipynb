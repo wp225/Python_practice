{
 "cells": [
  {
   "metadata": {},
   "cell_type": "markdown",
   "source": "### PYCHECK.IO",
   "id": "f094284349932a03"
  },
  {
   "cell_type": "code",
   "id": "initial_id",
   "metadata": {
    "collapsed": true,
    "ExecuteTime": {
     "end_time": "2024-04-16T07:23:13.986579Z",
     "start_time": "2024-04-16T07:23:13.978150Z"
    }
   },
   "source": [
    "#sorting by absolute value \n",
    "def checkio(values: list) -> list:\n",
    "    return sorted(values,key= lambda x:abs(x))\n",
    "    \n",
    "\n",
    "print(\"Example:\")\n",
    "print(checkio([-20, -5, 10, 15]))\n",
    "\n",
    "# These \"asserts\" are used for self-checking\n",
    "assert checkio([-20, -5, 10, 15]) == [-5, 10, 15, -20]\n",
    "assert checkio([1, 2, 3, 0]) == [0, 1, 2, 3]\n",
    "assert checkio([-1, -2, -3, 0]) == [0, -1, -2, -3]\n",
    "\n",
    "print(\"The mission is done! Click 'Check Solution' to earn rewards!\")\n"
   ],
   "outputs": [
    {
     "name": "stdout",
     "output_type": "stream",
     "text": [
      "Example:\n",
      "[-5, 10, 15, -20]\n",
      "The mission is done! Click 'Check Solution' to earn rewards!\n"
     ]
    }
   ],
   "execution_count": 2
  },
  {
   "metadata": {
    "ExecuteTime": {
     "end_time": "2024-04-16T07:30:42.230716Z",
     "start_time": "2024-04-16T07:30:42.223906Z"
    }
   },
   "cell_type": "code",
   "source": [
    "import re\n",
    "def count_vowels(text: str) -> int:\n",
    "    return len(re.findall(\"[aeiou]\", text,re.IGNORECASE))    \n",
    "\n",
    "print(\"Example:\")\n",
    "print(count_vowels(\"Hello\"))\n",
    "\n",
    "\n",
    "\n",
    "# These \"asserts\" are used for self-checking\n",
    "assert count_vowels(\"hello\") == 2\n",
    "assert count_vowels(\"openai\") == 4\n",
    "assert count_vowels(\"typescript\") == 2\n",
    "assert count_vowels(\"a\") == 1\n",
    "assert count_vowels(\"b\") == 0\n",
    "assert count_vowels(\"aeiou\") == 5\n",
    "assert count_vowels(\"AEIOU\") == 5\n",
    "assert count_vowels(\"The quick brown fox\") == 5\n",
    "assert count_vowels(\"Jumps over the lazy dog\") == 6\n",
    "assert count_vowels(\"\") == 0\n",
    "\n",
    "print(\"The mission is done! Click 'Check Solution' to earn rewards!\")"
   ],
   "id": "820b56354b556f4b",
   "outputs": [
    {
     "name": "stdout",
     "output_type": "stream",
     "text": [
      "Example:\n",
      "2\n",
      "The mission is done! Click 'Check Solution' to earn rewards!\n"
     ]
    }
   ],
   "execution_count": 11
  },
  {
   "metadata": {
    "ExecuteTime": {
     "end_time": "2024-04-16T07:39:19.396078Z",
     "start_time": "2024-04-16T07:39:19.389856Z"
    }
   },
   "cell_type": "code",
   "source": [
    "from typing import Any, Iterable\n",
    "import numpy as np \n",
    "\n",
    "\n",
    "def split_list(items: list[Any]) -> Iterable[list[Any]]:\n",
    "    base_len = int(np.ceil(len(items) / 2))\n",
    "    new_list = list([items[0:base_len],items[base_len:len(items)]])\n",
    "    return new_list\n",
    "    \n",
    "    \n",
    "print(\"Example:\")\n",
    "print(list(split_list([])))\n",
    "assert list(split_list([1, 2, 3])) == [[1, 2], [3]]\n",
    "assert list(split_list([\"banana\", \"apple\", \"orange\", \"cherry\", \"watermelon\"])) == [\n",
    "    [\"banana\", \"apple\", \"orange\"],\n",
    "    [\"cherry\", \"watermelon\"],\n",
    "]\n",
    "assert list(split_list([1])) == [[1], []]\n",
    "\n"
   ],
   "id": "c4b3eb4e135e1bec",
   "outputs": [
    {
     "name": "stdout",
     "output_type": "stream",
     "text": [
      "Example:\n",
      "[[], []]\n"
     ]
    }
   ],
   "execution_count": 28
  },
  {
   "metadata": {
    "ExecuteTime": {
     "end_time": "2024-04-16T08:09:24.374898Z",
     "start_time": "2024-04-16T08:09:24.369596Z"
    }
   },
   "cell_type": "code",
   "source": [
    "from datetime import datetime\n",
    "def date_time(time: str) -> str:\n",
    "    t=datetime.strptime(time,'%d.%m.%Y %H:%M')\n",
    "    return t.strftime(f'%-d %B %Y year %-H hour{\"s\" if t.hour!=1 else \"\"} %-M minute{\"s\" if t.minute!=1 else \"\"}')\n",
    "\n",
    "print(\"Example:\")\n",
    "print(date_time(\"01.01.2000 00:00\"))\n",
    "\n",
    "assert date_time(\"01.01.2000 00:00\") == \"1 January 2000 year 0 hours 0 minutes\"\n",
    "assert date_time(\"09.05.1945 06:07\") == \"9 May 1945 year 6 hours 7 minutes\"\n",
    "\n",
    "print(\"The mission is done! Click 'Check Solution' to earn rewards!\")\n"
   ],
   "id": "67d1ed6448e64319",
   "outputs": [
    {
     "name": "stdout",
     "output_type": "stream",
     "text": [
      "Example:\n",
      "1 January 2000 year 0 hours 0 minutes\n",
      "The mission is done! Click 'Check Solution' to earn rewards!\n"
     ]
    }
   ],
   "execution_count": 74
  },
  {
   "metadata": {
    "ExecuteTime": {
     "end_time": "2024-04-18T05:58:10.459017Z",
     "start_time": "2024-04-18T05:58:10.448945Z"
    }
   },
   "cell_type": "code",
   "source": [
    "from typing import Iterable\n",
    "\n",
    "\n",
    "def replace_last(line: list) -> Iterable:\n",
    "    if len(line)>1:\n",
    "        x1 =line.pop(-1)\n",
    "        line.insert(0,x1)\n",
    "        return line\n",
    "    else:\n",
    "        return line\n",
    "\n",
    "print(\"Example:\")\n",
    "print(list(replace_last([])))"
   ],
   "id": "f723181f9f39accc",
   "outputs": [
    {
     "name": "stdout",
     "output_type": "stream",
     "text": [
      "Example:\n",
      "[]\n"
     ]
    }
   ],
   "execution_count": 13
  },
  {
   "metadata": {
    "ExecuteTime": {
     "end_time": "2024-04-18T06:24:23.796385Z",
     "start_time": "2024-04-18T06:24:23.783014Z"
    }
   },
   "cell_type": "code",
   "source": [
    "MORSE = {\n",
    "    \".-\": \"a\",\n",
    "    \"-...\": \"b\",\n",
    "    \"-.-.\": \"c\",\n",
    "    \"-..\": \"d\",\n",
    "    \".\": \"e\",\n",
    "    \"..-.\": \"f\",\n",
    "    \"--.\": \"g\",\n",
    "    \"....\": \"h\",\n",
    "    \"..\": \"i\",\n",
    "    \".---\": \"j\",\n",
    "    \"-.-\": \"k\",\n",
    "    \".-..\": \"l\",\n",
    "    \"--\": \"m\",\n",
    "    \"-.\": \"n\",\n",
    "    \"---\": \"o\",\n",
    "    \".--.\": \"p\",\n",
    "    \"--.-\": \"q\",\n",
    "    \".-.\": \"r\",\n",
    "    \"...\": \"s\",\n",
    "    \"-\": \"t\",\n",
    "    \"..-\": \"u\",\n",
    "    \"...-\": \"v\",\n",
    "    \".--\": \"w\",\n",
    "    \"-..-\": \"x\",\n",
    "    \"-.--\": \"y\",\n",
    "    \"--..\": \"z\",\n",
    "    \"-----\": \"0\",\n",
    "    \".----\": \"1\",\n",
    "    \"..---\": \"2\",\n",
    "    \"...--\": \"3\",\n",
    "    \"....-\": \"4\",\n",
    "    \".....\": \"5\",\n",
    "    \"-....\": \"6\",\n",
    "    \"--...\": \"7\",\n",
    "    \"---..\": \"8\",\n",
    "    \"----.\": \"9\",\n",
    "}\n",
    "\n",
    "\n",
    "def morse_decoder(code: str) -> str:\n",
    "    return ' '.join((''.join (MORSE[i] for i in cod.split())) for cod in code.split('   ')).capitalize()\n",
    "print(\"Example:\")\n",
    "print(morse_decoder(\"... --- -- .   - . -..- -\"))\n",
    "# These \"asserts\" are used for self-checking\n",
    "assert morse_decoder(\"... --- -- .   - . -..- -\") == \"Some text\"\n",
    "assert (\n",
    "    morse_decoder(\"..   .-- .- ...   -... --- .-. -.   .. -.   .---- ----. ----. -----\")\n",
    "    == \"I was born in 1990\"\n",
    ")\n",
    "\n",
    "print(\"The mission is done! Click 'Check Solution' to earn rewards!\")"
   ],
   "id": "27cf13f89442d60",
   "outputs": [
    {
     "name": "stdout",
     "output_type": "stream",
     "text": [
      "Example:\n",
      "Some text\n",
      "The mission is done! Click 'Check Solution' to earn rewards!\n"
     ]
    }
   ],
   "execution_count": 24
  },
  {
   "metadata": {},
   "cell_type": "markdown",
   "source": "    return ' '.join(''.join([MORSE[i] for i in cod.split()]) for cod in code.split('   ')).capitalize()",
   "id": "a48884762f81b2fc"
  },
  {
   "metadata": {
    "ExecuteTime": {
     "end_time": "2024-04-18T06:29:38.040142Z",
     "start_time": "2024-04-18T06:29:38.035618Z"
    }
   },
   "cell_type": "code",
   "source": [
    "def remove_all_before(items: list, border: int) -> Iterable:\n",
    "    if border in items:\n",
    "        return items[items.index(border):len(items)]\n",
    "    else:\n",
    "        return items\n",
    "\n",
    "\n",
    "print(\"Example:\")\n",
    "print(list(remove_all_before([1, 1, 2, 2, 3, 3], 2)))"
   ],
   "id": "2945f0beecfaacd7",
   "outputs": [
    {
     "name": "stdout",
     "output_type": "stream",
     "text": [
      "Example:\n",
      "[2, 2, 3, 3]\n"
     ]
    }
   ],
   "execution_count": 37
  },
  {
   "metadata": {
    "ExecuteTime": {
     "end_time": "2024-04-18T06:34:34.893732Z",
     "start_time": "2024-04-18T06:34:34.888931Z"
    }
   },
   "cell_type": "code",
   "source": [
    "\n",
    "def replace_first(items: list) -> Iterable:\n",
    "    if items:\n",
    "        x1 = items.pop(0)\n",
    "        items.insert(len(items),x1)\n",
    "        return items\n",
    "    else:\n",
    "        return items\n",
    "\n",
    "# These \"asserts\" are used for self-checking\n",
    "print(\"Example:\")\n",
    "print(list(replace_first([1, 2, 3, 4])))\n",
    "\n",
    "assert replace_first([1, 2, 3, 4]) == [2, 3, 4, 1]\n",
    "assert replace_first([1]) == [1]\n",
    "assert replace_first([]) == []"
   ],
   "id": "59662be446602d9b",
   "outputs": [
    {
     "name": "stdout",
     "output_type": "stream",
     "text": [
      "Example:\n",
      "[2, 3, 4, 1]\n"
     ]
    }
   ],
   "execution_count": 41
  },
  {
   "metadata": {
    "ExecuteTime": {
     "end_time": "2024-04-18T06:44:18.618319Z",
     "start_time": "2024-04-18T06:44:18.611910Z"
    }
   },
   "cell_type": "code",
   "source": [
    "def max_digit(value: int) -> int:\n",
    "    s1 = set(str(value))\n",
    "    print(max(s1))\n",
    "print(\"Example:\")\n",
    "print(max_digit(10))"
   ],
   "id": "bf4cedef522b40a5",
   "outputs": [
    {
     "name": "stdout",
     "output_type": "stream",
     "text": [
      "Example:\n",
      "1\n",
      "None\n"
     ]
    }
   ],
   "execution_count": 60
  },
  {
   "metadata": {
    "ExecuteTime": {
     "end_time": "2024-04-18T07:01:12.856374Z",
     "start_time": "2024-04-18T07:01:12.845458Z"
    }
   },
   "cell_type": "code",
   "source": [
    "import re\n",
    "def beginning_zeros(a: str) -> int:\n",
    "    int_a = int(a)\n",
    "    if int_a != 0:\n",
    "        return len(a)-len(str(int_a))\n",
    "    else:\n",
    "        return len(a)\n",
    "    \n",
    "\n",
    "print(\"Example:\")\n",
    "print(beginning_zeros(\"0000\"))\n",
    "\n",
    "# These \"asserts\" are used for self-checking\n",
    "assert beginning_zeros(\"100\") == 0\n",
    "assert beginning_zeros(\"001\") == 2\n",
    "assert beginning_zeros(\"100100\") == 0\n",
    "assert beginning_zeros(\"001001\") == 2\n",
    "assert beginning_zeros(\"012345679\") == 1\n",
    "assert beginning_zeros(\"0000\") == 4\n",
    "\n",
    "print(\"The mission is done! Click 'Check Solution' to earn rewards!\")"
   ],
   "id": "f99a253366464faf",
   "outputs": [
    {
     "name": "stdout",
     "output_type": "stream",
     "text": [
      "Example:\n",
      "4\n",
      "The mission is done! Click 'Check Solution' to earn rewards!\n"
     ]
    }
   ],
   "execution_count": 74
  },
  {
   "metadata": {
    "ExecuteTime": {
     "end_time": "2024-04-18T15:50:07.468553Z",
     "start_time": "2024-04-18T15:50:07.449984Z"
    }
   },
   "cell_type": "code",
   "source": [
    "def to_title_case(sentence: str) -> str:\n",
    "    return \" \".join(map(lambda x:x.capitalize(),sentence.split(' ')))\n",
    "\n",
    "print(\"Example:\")\n",
    "print(to_title_case(\"hello world\"))\n",
    "\n",
    "# These \"asserts\" are used for self-checking\n",
    "assert to_title_case(\"hello world\") == \"Hello World\"\n",
    "assert to_title_case(\"openai gpt-4\") == \"Openai Gpt-4\"\n",
    "assert to_title_case(\"this is a title\") == \"This Is A Title\"\n",
    "assert to_title_case(\"THE QUICK BROWN FOX\") == \"The Quick Brown Fox\"\n",
    "assert to_title_case(\"JUMPs ovER a LAZy dog\") == \"Jumps Over A Lazy Dog\"\n",
    "assert to_title_case(\"typescript is great\") == \"Typescript Is Great\"\n",
    "assert to_title_case(\"the answer is 42\") == \"The Answer Is 42\"\n",
    "assert to_title_case(\"to be or not to be\") == \"To Be Or Not To Be\"\n",
    "assert to_title_case(\"that is the question\") == \"That Is The Question\"\n",
    "assert to_title_case(\"\") == \"\"\n"
   ],
   "id": "37bc25514fcaff20",
   "outputs": [
    {
     "name": "stdout",
     "output_type": "stream",
     "text": [
      "Example:\n",
      "Hello World\n"
     ]
    }
   ],
   "execution_count": 82
  },
  {
   "metadata": {
    "ExecuteTime": {
     "end_time": "2024-04-20T03:11:21.286613Z",
     "start_time": "2024-04-20T03:11:21.280655Z"
    }
   },
   "cell_type": "code",
   "source": [
    "def words_order(text: str, words: list) -> bool:\n",
    "\n",
    "    if len(set(words)) < len(words):\n",
    "        return False\n",
    "    new_word = []\n",
    "    for w in text.split(' '):\n",
    "        if w in words and w not in new_word: \n",
    "            new_word.append(w)\n",
    "    return new_word==words\n",
    "\n",
    "\n",
    "# Test cases\n",
    "print(words_order(\"hi world im here\", [\"world\", \"here\"]))"
   ],
   "id": "9f11c1602e1c6295",
   "outputs": [
    {
     "name": "stdout",
     "output_type": "stream",
     "text": [
      "True\n"
     ]
    }
   ],
   "execution_count": 32
  },
  {
   "metadata": {
    "ExecuteTime": {
     "end_time": "2024-04-20T03:26:14.141Z",
     "start_time": "2024-04-20T03:26:14.133098Z"
    }
   },
   "cell_type": "code",
   "source": [
    "from functools import reduce\n",
    "def checkio(number: int) -> int:\n",
    "    a= [int(dig) for dig in str(number).replace('0','')]\n",
    "    return reduce((lambda x,y: x*y), a)\n",
    "\n",
    "print(\"Example:\")\n",
    "print(checkio(1234005))"
   ],
   "id": "cb35986df2a75048",
   "outputs": [
    {
     "name": "stdout",
     "output_type": "stream",
     "text": [
      "Example:\n",
      "120\n"
     ]
    }
   ],
   "execution_count": 68
  },
  {
   "metadata": {
    "ExecuteTime": {
     "end_time": "2024-04-20T03:30:33.176347Z",
     "start_time": "2024-04-20T03:30:33.169806Z"
    }
   },
   "cell_type": "code",
   "source": [
    "# Taken from mission Acceptable Password I\n",
    "import re\n",
    "def is_acceptable_password(password: str) -> bool:\n",
    "    # your code here\n",
    "    if len(list(password))>6 and re.findall(\"[0-9]\",str(password)):\n",
    "        return True\n",
    "    else:\n",
    "        return False\n",
    "    \n",
    "print(is_acceptable_password(\"shorttt9\"))\n",
    "\n"
   ],
   "id": "d1a46a08d7cc0e60",
   "outputs": [
    {
     "name": "stdout",
     "output_type": "stream",
     "text": [
      "True\n"
     ]
    }
   ],
   "execution_count": 73
  },
  {
   "metadata": {
    "ExecuteTime": {
     "end_time": "2024-04-20T03:32:30.497454Z",
     "start_time": "2024-04-20T03:32:30.479921Z"
    }
   },
   "cell_type": "code",
   "source": [
    "# Taken from mission Acceptable Password II\n",
    "\n",
    "# Taken from mission Acceptable Password I\n",
    "import re\n",
    "def is_acceptable_password(password: str) -> bool:\n",
    "    # your code here\n",
    "    if len(list(password))>6 and re.findall(\"[0-9]\",str(password)) and re.findall(\"[a-z]\",str(password)):\n",
    "        return True\n",
    "    else:\n",
    "        return False\n",
    "\n",
    "\n",
    "print(\"Example:\")\n",
    "print(is_acceptable_password(\"short\"))\n",
    "\n",
    "# These \"asserts\" are used for self-checking\n",
    "assert is_acceptable_password(\"short\") == False\n",
    "assert is_acceptable_password(\"muchlonger\") == False\n",
    "assert is_acceptable_password(\"ashort\") == False\n",
    "assert is_acceptable_password(\"muchlonger5\") == True\n",
    "assert is_acceptable_password(\"sh5\") == False\n",
    "assert is_acceptable_password(\"1234567\") == False\n",
    "\n",
    "print(\"The mission is done! Click 'Check Solution' to earn rewards!\")\n"
   ],
   "id": "62b45c61fa376b1e",
   "outputs": [
    {
     "name": "stdout",
     "output_type": "stream",
     "text": [
      "Example:\n",
      "False\n",
      "The mission is done! Click 'Check Solution' to earn rewards!\n"
     ]
    }
   ],
   "execution_count": 74
  },
  {
   "metadata": {},
   "cell_type": "code",
   "outputs": [
    {
     "name": "stdout",
     "output_type": "stream",
     "text": [
      "Example:\n",
      "False\n",
      "The mission is done! Click 'Check Solution' to earn rewards!\n"
     ]
    }
   ],
   "execution_count": 76,
   "source": [
    "# Taken from mission Acceptable Password III\n",
    "\n",
    "# Taken from mission Acceptable Password II\n",
    "# Taken from mission Acceptable Password I\n",
    "import re\n",
    "def is_acceptable_password(password: str) -> bool:\n",
    "    # your code here\n",
    "    if (len(list(password))>6 and len(list(password))) and re.findall(\"[0-9]\",str(password)) and re.findall(\"[a-z]\",str(password)):\n",
    "        return True\n",
    "    elif len(list(password))>9:\n",
    "        return True\n",
    "    else:\n",
    "        return False\n",
    "\n",
    "\n",
    "print(\"Example:\")\n",
    "print(is_acceptable_password(\"short\"))\n",
    "\n",
    "# These \"asserts\" are used for self-checking\n",
    "assert is_acceptable_password(\"short\") == False\n",
    "assert is_acceptable_password(\"short54\") == True\n",
    "assert is_acceptable_password(\"muchlonger\") == True\n",
    "assert is_acceptable_password(\"ashort\") == False\n",
    "assert is_acceptable_password(\"notshort\") == False\n",
    "assert is_acceptable_password(\"muchlonger5\") == True\n",
    "assert is_acceptable_password(\"sh5\") == False\n",
    "assert is_acceptable_password(\"1234567\") == False\n",
    "assert is_acceptable_password(\"12345678910\") == True\n",
    "\n",
    "print(\"The mission is done! Click 'Check Solution' to earn rewards!\")"
   ],
   "id": "5281a3eae690778d"
  },
  {
   "metadata": {
    "ExecuteTime": {
     "end_time": "2024-04-20T03:40:33.096244Z",
     "start_time": "2024-04-20T03:40:33.090309Z"
    }
   },
   "cell_type": "code",
   "source": [
    "# Taken from mission Acceptable Password III\n",
    "\n",
    "# Taken from mission Acceptable Password II\n",
    "# Taken from mission Acceptable Password I\n",
    "import re\n",
    "def is_acceptable_password(password: str) -> bool:\n",
    "    # your code here\n",
    "    if (len(list(password))>6 and len(list(password))) and re.findall(\"[0-9]\",str(password)) and re.findall(\"[a-z]\",str(password)) and not re.findall('password', str(password).lower()):\n",
    "        return True\n",
    "    elif len(list(password))>9 and not re.findall('password', str(password).lower()):\n",
    "        return True\n",
    "    else:\n",
    "        return False\n",
    "\n",
    "\n",
    "print(\"Example:\")\n",
    "print(is_acceptable_password(\"short\"))\n",
    "\n",
    "# These \"asserts\" are used for self-checking\n",
    "assert is_acceptable_password(\"short\") == False\n",
    "assert is_acceptable_password(\"short54\") == True\n",
    "assert is_acceptable_password(\"muchlonger\") == True\n",
    "assert is_acceptable_password(\"ashort\") == False\n",
    "assert is_acceptable_password(\"notshort\") == False\n",
    "assert is_acceptable_password(\"muchlonger5\") == True\n",
    "assert is_acceptable_password(\"sh5\") == False\n",
    "assert is_acceptable_password(\"1234567\") == False\n",
    "assert is_acceptable_password(\"PASSWORD12345\") == False\n",
    "\n",
    "print(\"The mission is done! Click 'Check Solution' to earn rewards!\")"
   ],
   "id": "9611aee8d338c9f4",
   "outputs": [
    {
     "name": "stdout",
     "output_type": "stream",
     "text": [
      "Example:\n",
      "False\n",
      "The mission is done! Click 'Check Solution' to earn rewards!\n"
     ]
    }
   ],
   "execution_count": 79
  },
  {
   "metadata": {
    "ExecuteTime": {
     "end_time": "2024-04-20T04:07:21.770885Z",
     "start_time": "2024-04-20T04:07:21.766524Z"
    }
   },
   "cell_type": "code",
   "source": [
    "import re\n",
    "\n",
    "def is_acceptable_password(password: str) -> bool:\n",
    "    # Condition 1: Length should be bigger than 6\n",
    "    if len(password) <= 6:\n",
    "        return False\n",
    "    \n",
    "    # Condition 2: Should contain at least one digit, but cannot consist of just digits\n",
    "    if (password.isdigit() or password.isnumeric()) and len(password)<9:\n",
    "        return False\n",
    "    \n",
    "    # Condition 3: Having numbers or containing just numbers does not apply to the password longer than 9\n",
    "    \n",
    "    # Condition 4: A string should not contain the word \"password\" in any case\n",
    "    if \"password\" in password.lower():\n",
    "        return False\n",
    "    \n",
    "    # Condition 5: Must contain at least 3 different (case-sensitive) letters or digits even if it is longer than 10\n",
    "    unique_chars = set(password)\n",
    "    if len(unique_chars) < 3 and len(password)<9:\n",
    "        return False\n",
    "    \n",
    "    return True\n",
    "\n",
    "# Test cases\n",
    "print(is_acceptable_password(\"12345678910\"))               # False\n",
    "\n",
    "\n"
   ],
   "id": "bbf7eb288f99ec9b",
   "outputs": [
    {
     "name": "stdout",
     "output_type": "stream",
     "text": [
      "True\n"
     ]
    }
   ],
   "execution_count": 108
  },
  {
   "metadata": {
    "ExecuteTime": {
     "end_time": "2024-04-20T05:52:30.113473Z",
     "start_time": "2024-04-20T05:52:30.101763Z"
    }
   },
   "cell_type": "code",
   "source": [
    "def changing_direction(elements: list[int]) -> int:\n",
    "    # your code here\n",
    "    dirs = []\n",
    "    for i,j in zip(elements,elements[1:]):\n",
    "        print(i,j)\n",
    "\n",
    "\n",
    "print(\"Example:\")\n",
    "print(changing_direction([1, 2, 3, 2, 1]))"
   ],
   "id": "5b5edfc907de9844",
   "outputs": [
    {
     "name": "stdout",
     "output_type": "stream",
     "text": [
      "Example:\n",
      "1 2\n",
      "2 3\n",
      "3 2\n",
      "2 1\n",
      "None\n"
     ]
    }
   ],
   "execution_count": 115
  },
  {
   "metadata": {},
   "cell_type": "code",
   "outputs": [],
   "execution_count": null,
   "source": "",
   "id": "1bfe38ceec823e7c"
  },
  {
   "metadata": {},
   "cell_type": "code",
   "outputs": [],
   "execution_count": null,
   "source": "",
   "id": "3fdcde542ea27437"
  },
  {
   "metadata": {},
   "cell_type": "code",
   "outputs": [],
   "execution_count": null,
   "source": "",
   "id": "2a7ad25fb470eeb8"
  },
  {
   "metadata": {},
   "cell_type": "code",
   "outputs": [],
   "execution_count": null,
   "source": "",
   "id": "fd7ef4bf2e908814"
  },
  {
   "metadata": {},
   "cell_type": "code",
   "outputs": [],
   "execution_count": null,
   "source": "",
   "id": "ef25f5d01e6e5792"
  },
  {
   "metadata": {},
   "cell_type": "code",
   "outputs": [],
   "execution_count": null,
   "source": "",
   "id": "c3000f26388fe9f0"
  },
  {
   "metadata": {},
   "cell_type": "markdown",
   "source": "### Hacker Rank",
   "id": "cba1c0aa9e394e84"
  },
  {
   "metadata": {
    "ExecuteTime": {
     "end_time": "2024-04-19T02:18:08.327862Z",
     "start_time": "2024-04-19T02:18:03.670711Z"
    }
   },
   "cell_type": "code",
   "source": [
    "#hacker rank\n",
    "import re\n",
    "import sys\n",
    "\n",
    "\n",
    "\n",
    "if __name__ == '__main__':\n",
    "    N = int(input().strip())\n",
    "    if (N & 1 == 1) or (N & 1 == 0 and (N>=6 and N<=20)):\n",
    "        print('Weird')\n",
    "    elif (N>=2 and N<=5) or N>0:\n",
    "        print('Not Weird')\n",
    "        \n",
    "     "
   ],
   "id": "f70662c7a475545",
   "outputs": [
    {
     "name": "stdout",
     "output_type": "stream",
     "text": [
      "Weird\n"
     ]
    }
   ],
   "execution_count": 89
  },
  {
   "metadata": {
    "ExecuteTime": {
     "end_time": "2024-04-19T02:35:26.001380Z",
     "start_time": "2024-04-19T02:35:21.844637Z"
    }
   },
   "cell_type": "code",
   "source": [
    "class Person:\n",
    "    def __init__(self, initialAge):\n",
    "        if initialAge < 0:\n",
    "            print(\"Age is not valid, setting age to 0.\")\n",
    "            self.age = 0\n",
    "        else:\n",
    "            self.age = initialAge\n",
    "\n",
    "    def amIOld(self):\n",
    "        if self.age < 13:\n",
    "            print('You are young.')\n",
    "        elif 13 <= self.age < 18:\n",
    "            print('You are a teenager.')\n",
    "        else:\n",
    "            print('You are old.')\n",
    "\n",
    "    def yearPasses(self):\n",
    "        self.age += 1\n",
    "\n",
    "# Provided code for testing\n",
    "t = int(input(\"Enter the number of test cases: \"))\n",
    "for _ in range(t):\n",
    "    age = int(input(\"Enter the age: \"))\n",
    "    person = Person(age)\n",
    "    person.amIOld()\n",
    "    for _ in range(3):\n",
    "        person.yearPasses()\n",
    "    person.amIOld()\n",
    "    print(\"\")\n"
   ],
   "id": "bee53e9721d0cd16",
   "outputs": [
    {
     "name": "stdout",
     "output_type": "stream",
     "text": [
      "Age is not valid, setting age to 0.\n",
      "You are young.\n",
      "You are young.\n",
      "\n"
     ]
    }
   ],
   "execution_count": 99
  },
  {
   "metadata": {
    "ExecuteTime": {
     "end_time": "2024-04-19T02:39:43.602378Z",
     "start_time": "2024-04-19T02:39:42.631774Z"
    }
   },
   "cell_type": "code",
   "source": [
    "import math\n",
    "import os\n",
    "import random\n",
    "import re\n",
    "import sys\n",
    "\n",
    "\n",
    "\n",
    "if __name__ == '__main__':\n",
    "    n = int(input().strip())\n",
    "    for i in range(1,11):\n",
    "        print(f\"{i} * {n} = {n*i}\")"
   ],
   "id": "2a0a4559cadecd34",
   "outputs": [
    {
     "name": "stdout",
     "output_type": "stream",
     "text": [
      "1 * 2 = 2\n",
      "2 * 2 = 4\n",
      "3 * 2 = 6\n",
      "4 * 2 = 8\n",
      "5 * 2 = 10\n",
      "6 * 2 = 12\n",
      "7 * 2 = 14\n",
      "8 * 2 = 16\n",
      "9 * 2 = 18\n",
      "10 * 2 = 20\n"
     ]
    }
   ],
   "execution_count": 106
  },
  {
   "metadata": {
    "ExecuteTime": {
     "end_time": "2024-04-19T03:12:23.002204Z",
     "start_time": "2024-04-19T03:12:22.986779Z"
    }
   },
   "cell_type": "code",
   "source": [
    "words = 'hacker rank'\n",
    "op = str()\n",
    "for word in words.split():\n",
    "    f= {}\n",
    "    even=[]\n",
    "    odd = []\n",
    "    for i in range(len(word)):\n",
    "        f[i] = word[i]\n",
    "    for key, value in f.items():\n",
    "        if key % 2 == 0:\n",
    "            even.append(value)\n",
    "        else:\n",
    "            odd.append(value)\n",
    "    \n",
    "    op += ''.join(even) + ' ' + ''.join(odd) + '\\n'\n",
    "print(op)"
   ],
   "id": "a46b7d66dd0e760a",
   "outputs": [
    {
     "name": "stdout",
     "output_type": "stream",
     "text": [
      "hce akr\n",
      "rn ak\n",
      "\n"
     ]
    }
   ],
   "execution_count": 162
  },
  {
   "metadata": {
    "ExecuteTime": {
     "end_time": "2024-04-19T03:02:10.984407Z",
     "start_time": "2024-04-19T03:02:06.548323Z"
    }
   },
   "cell_type": "code",
   "source": [
    "\n",
    "# Sentence to process\n",
    "sentence = input(\"Enter a sentence: \")\n",
    "\n",
    "# Split the sentence into words\n",
    "words = sentence.split()\n",
    "\n",
    "# Initialize lists to store even and odd characters for all words\n",
    "all_even = []\n",
    "all_odd = []\n",
    "\n",
    "# Iterate over each word in the sentence\n",
    "for word in words:\n",
    "    # Separate even and odd indexed characters for the current word\n",
    "    even = ''.join(word[i] for i in range(len(word)) if i % 2 == 0)\n",
    "    odd = ''.join(word[i] for i in range(len(word)) if i % 2 != 0)\n",
    "    \n",
    "    # Add even and odd characters for the current word to the lists\n",
    "    all_even.append(even)\n",
    "    all_odd.append(odd)\n",
    "\n",
    "# Print even and odd characters for all words while maintaining order\n",
    "print(' '.join(all_even), ' '.join(all_odd))\n"
   ],
   "id": "6449a6b98488beb",
   "outputs": [
    {
     "name": "stdout",
     "output_type": "stream",
     "text": [
      "hce rn akr ak\n"
     ]
    }
   ],
   "execution_count": 131
  },
  {
   "metadata": {
    "ExecuteTime": {
     "end_time": "2024-04-20T02:06:51.078981Z",
     "start_time": "2024-04-20T02:06:49.989481Z"
    }
   },
   "cell_type": "code",
   "source": [
    "#!/bin/python3\n",
    "#hacker rank \n",
    "import math\n",
    "import os\n",
    "import random\n",
    "import re\n",
    "import sys\n",
    "\n",
    "#\n",
    "# Complete the 'factorial' function below.\n",
    "#\n",
    "# The function is expected to return an INTEGER.\n",
    "# The function accepts INTEGER n as parameter.\n",
    "#\n",
    "\n",
    "def factorial(n):\n",
    "    if n>0:\n",
    "        return n*factorial(n-1)\n",
    "    else:\n",
    "        return 1\n",
    "    \n",
    "if __name__ == '__main__':\n",
    "\n",
    "    n = int(input().strip())\n",
    "\n",
    "    result = factorial(n)\n",
    "    print(result)"
   ],
   "id": "7343c90945d03dd9",
   "outputs": [
    {
     "name": "stdout",
     "output_type": "stream",
     "text": [
      "6\n"
     ]
    }
   ],
   "execution_count": 4
  },
  {
   "metadata": {
    "ExecuteTime": {
     "end_time": "2024-04-20T02:06:57.625424Z",
     "start_time": "2024-04-20T02:06:55.224344Z"
    }
   },
   "cell_type": "code",
   "source": [
    "# Enter your code here. Read input from STDIN. Print output to STDOUT\n",
    "N = int(input())\n",
    "book = {}\n",
    "for i in range(N):\n",
    "    name , phone = input().split(' ')\n",
    "    book[name] = phone\n",
    "\n",
    "names = []\n",
    "while True:\n",
    "    try:\n",
    "        name = input().strip()\n",
    "        if not name:\n",
    "            break  \n",
    "        names.append(name)\n",
    "    except EOFError:\n",
    "        break  \n",
    "\n",
    "op=''\n",
    "for name in names:  \n",
    "    if name in book:\n",
    "        phone = book[name]\n",
    "        op += name + '=' + phone + '\\n'\n",
    "    elif name not in book:\n",
    "        op += 'Not found'+ '\\n'\n",
    "\n",
    "print(op)\n"
   ],
   "id": "b8db50fbec0cc1f0",
   "outputs": [
    {
     "ename": "ValueError",
     "evalue": "invalid literal for int() with base 10: ''",
     "output_type": "error",
     "traceback": [
      "\u001B[0;31m---------------------------------------------------------------------------\u001B[0m",
      "\u001B[0;31mValueError\u001B[0m                                Traceback (most recent call last)",
      "Cell \u001B[0;32mIn[5], line 2\u001B[0m\n\u001B[1;32m      1\u001B[0m \u001B[38;5;66;03m# Enter your code here. Read input from STDIN. Print output to STDOUT\u001B[39;00m\n\u001B[0;32m----> 2\u001B[0m N \u001B[38;5;241m=\u001B[39m \u001B[38;5;28;43mint\u001B[39;49m\u001B[43m(\u001B[49m\u001B[38;5;28;43minput\u001B[39;49m\u001B[43m(\u001B[49m\u001B[43m)\u001B[49m\u001B[43m)\u001B[49m\n\u001B[1;32m      3\u001B[0m book \u001B[38;5;241m=\u001B[39m {}\n\u001B[1;32m      4\u001B[0m \u001B[38;5;28;01mfor\u001B[39;00m i \u001B[38;5;129;01min\u001B[39;00m \u001B[38;5;28mrange\u001B[39m(N):\n",
      "\u001B[0;31mValueError\u001B[0m: invalid literal for int() with base 10: ''"
     ]
    }
   ],
   "execution_count": 5
  },
  {
   "metadata": {},
   "cell_type": "code",
   "outputs": [],
   "execution_count": null,
   "source": "",
   "id": "65004e225f1fdbf"
  },
  {
   "metadata": {},
   "cell_type": "code",
   "outputs": [],
   "execution_count": null,
   "source": "",
   "id": "c1f6103f91bee90f"
  },
  {
   "metadata": {},
   "cell_type": "code",
   "outputs": [],
   "execution_count": null,
   "source": "",
   "id": "2210a1d5b43e3c6d"
  },
  {
   "metadata": {},
   "cell_type": "code",
   "outputs": [],
   "execution_count": null,
   "source": "",
   "id": "7cf1f9c3e1b7fd03"
  },
  {
   "metadata": {
    "ExecuteTime": {
     "end_time": "2024-04-20T02:14:06.229086Z",
     "start_time": "2024-04-20T02:14:06.223194Z"
    }
   },
   "cell_type": "code",
   "source": [
    "def containsDuplicate(nums) -> bool:\n",
    "    return (len(set(nums)) == len(nums))\n",
    "\n",
    "containsDuplicate([2,3,32,2])"
   ],
   "id": "1d694788f30507b0",
   "outputs": [
    {
     "data": {
      "text/plain": [
       "False"
      ]
     },
     "execution_count": 17,
     "metadata": {},
     "output_type": "execute_result"
    }
   ],
   "execution_count": 17
  },
  {
   "metadata": {},
   "cell_type": "code",
   "outputs": [],
   "execution_count": null,
   "source": "",
   "id": "1061a1adb1d63155"
  }
 ],
 "metadata": {
  "kernelspec": {
   "display_name": "Python 3",
   "language": "python",
   "name": "python3"
  },
  "language_info": {
   "codemirror_mode": {
    "name": "ipython",
    "version": 2
   },
   "file_extension": ".py",
   "mimetype": "text/x-python",
   "name": "python",
   "nbconvert_exporter": "python",
   "pygments_lexer": "ipython2",
   "version": "2.7.6"
  }
 },
 "nbformat": 4,
 "nbformat_minor": 5
}
