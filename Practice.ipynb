{
 "cells": [
  {
   "cell_type": "code",
   "id": "initial_id",
   "metadata": {
    "collapsed": true,
    "ExecuteTime": {
     "end_time": "2024-04-16T07:23:13.986579Z",
     "start_time": "2024-04-16T07:23:13.978150Z"
    }
   },
   "source": [
    "#sorting by absolute value \n",
    "def checkio(values: list) -> list:\n",
    "    return sorted(values,key= lambda x:abs(x))\n",
    "    \n",
    "\n",
    "print(\"Example:\")\n",
    "print(checkio([-20, -5, 10, 15]))\n",
    "\n",
    "# These \"asserts\" are used for self-checking\n",
    "assert checkio([-20, -5, 10, 15]) == [-5, 10, 15, -20]\n",
    "assert checkio([1, 2, 3, 0]) == [0, 1, 2, 3]\n",
    "assert checkio([-1, -2, -3, 0]) == [0, -1, -2, -3]\n",
    "\n",
    "print(\"The mission is done! Click 'Check Solution' to earn rewards!\")\n"
   ],
   "outputs": [
    {
     "name": "stdout",
     "output_type": "stream",
     "text": [
      "Example:\n",
      "[-5, 10, 15, -20]\n",
      "The mission is done! Click 'Check Solution' to earn rewards!\n"
     ]
    }
   ],
   "execution_count": 2
  },
  {
   "metadata": {
    "ExecuteTime": {
     "end_time": "2024-04-16T07:30:42.230716Z",
     "start_time": "2024-04-16T07:30:42.223906Z"
    }
   },
   "cell_type": "code",
   "source": [
    "import re\n",
    "def count_vowels(text: str) -> int:\n",
    "    return len(re.findall(\"[aeiou]\", text,re.IGNORECASE))    \n",
    "\n",
    "print(\"Example:\")\n",
    "print(count_vowels(\"Hello\"))\n",
    "\n",
    "\n",
    "\n",
    "# These \"asserts\" are used for self-checking\n",
    "assert count_vowels(\"hello\") == 2\n",
    "assert count_vowels(\"openai\") == 4\n",
    "assert count_vowels(\"typescript\") == 2\n",
    "assert count_vowels(\"a\") == 1\n",
    "assert count_vowels(\"b\") == 0\n",
    "assert count_vowels(\"aeiou\") == 5\n",
    "assert count_vowels(\"AEIOU\") == 5\n",
    "assert count_vowels(\"The quick brown fox\") == 5\n",
    "assert count_vowels(\"Jumps over the lazy dog\") == 6\n",
    "assert count_vowels(\"\") == 0\n",
    "\n",
    "print(\"The mission is done! Click 'Check Solution' to earn rewards!\")"
   ],
   "id": "820b56354b556f4b",
   "outputs": [
    {
     "name": "stdout",
     "output_type": "stream",
     "text": [
      "Example:\n",
      "2\n",
      "The mission is done! Click 'Check Solution' to earn rewards!\n"
     ]
    }
   ],
   "execution_count": 11
  },
  {
   "metadata": {
    "ExecuteTime": {
     "end_time": "2024-04-16T07:39:19.396078Z",
     "start_time": "2024-04-16T07:39:19.389856Z"
    }
   },
   "cell_type": "code",
   "source": [
    "from typing import Any, Iterable\n",
    "import numpy as np \n",
    "\n",
    "\n",
    "def split_list(items: list[Any]) -> Iterable[list[Any]]:\n",
    "    base_len = int(np.ceil(len(items) / 2))\n",
    "    new_list = list([items[0:base_len],items[base_len:len(items)]])\n",
    "    return new_list\n",
    "    \n",
    "    \n",
    "print(\"Example:\")\n",
    "print(list(split_list([])))\n",
    "assert list(split_list([1, 2, 3])) == [[1, 2], [3]]\n",
    "assert list(split_list([\"banana\", \"apple\", \"orange\", \"cherry\", \"watermelon\"])) == [\n",
    "    [\"banana\", \"apple\", \"orange\"],\n",
    "    [\"cherry\", \"watermelon\"],\n",
    "]\n",
    "assert list(split_list([1])) == [[1], []]\n",
    "\n"
   ],
   "id": "c4b3eb4e135e1bec",
   "outputs": [
    {
     "name": "stdout",
     "output_type": "stream",
     "text": [
      "Example:\n",
      "[[], []]\n"
     ]
    }
   ],
   "execution_count": 28
  },
  {
   "metadata": {
    "ExecuteTime": {
     "end_time": "2024-04-16T08:09:24.374898Z",
     "start_time": "2024-04-16T08:09:24.369596Z"
    }
   },
   "cell_type": "code",
   "source": [
    "from datetime import datetime\n",
    "def date_time(time: str) -> str:\n",
    "    t=datetime.strptime(time,'%d.%m.%Y %H:%M')\n",
    "    return t.strftime(f'%-d %B %Y year %-H hour{\"s\" if t.hour!=1 else \"\"} %-M minute{\"s\" if t.minute!=1 else \"\"}')\n",
    "\n",
    "print(\"Example:\")\n",
    "print(date_time(\"01.01.2000 00:00\"))\n",
    "\n",
    "assert date_time(\"01.01.2000 00:00\") == \"1 January 2000 year 0 hours 0 minutes\"\n",
    "assert date_time(\"09.05.1945 06:07\") == \"9 May 1945 year 6 hours 7 minutes\"\n",
    "\n",
    "print(\"The mission is done! Click 'Check Solution' to earn rewards!\")\n"
   ],
   "id": "67d1ed6448e64319",
   "outputs": [
    {
     "name": "stdout",
     "output_type": "stream",
     "text": [
      "Example:\n",
      "1 January 2000 year 0 hours 0 minutes\n",
      "The mission is done! Click 'Check Solution' to earn rewards!\n"
     ]
    }
   ],
   "execution_count": 74
  },
  {
   "metadata": {
    "ExecuteTime": {
     "end_time": "2024-04-18T05:58:10.459017Z",
     "start_time": "2024-04-18T05:58:10.448945Z"
    }
   },
   "cell_type": "code",
   "source": [
    "from typing import Iterable\n",
    "\n",
    "\n",
    "def replace_last(line: list) -> Iterable:\n",
    "    if len(line)>1:\n",
    "        x1 =line.pop(-1)\n",
    "        line.insert(0,x1)\n",
    "        return line\n",
    "    else:\n",
    "        return line\n",
    "\n",
    "print(\"Example:\")\n",
    "print(list(replace_last([])))"
   ],
   "id": "f723181f9f39accc",
   "outputs": [
    {
     "name": "stdout",
     "output_type": "stream",
     "text": [
      "Example:\n",
      "[]\n"
     ]
    }
   ],
   "execution_count": 13
  },
  {
   "metadata": {
    "ExecuteTime": {
     "end_time": "2024-04-18T06:24:23.796385Z",
     "start_time": "2024-04-18T06:24:23.783014Z"
    }
   },
   "cell_type": "code",
   "source": [
    "MORSE = {\n",
    "    \".-\": \"a\",\n",
    "    \"-...\": \"b\",\n",
    "    \"-.-.\": \"c\",\n",
    "    \"-..\": \"d\",\n",
    "    \".\": \"e\",\n",
    "    \"..-.\": \"f\",\n",
    "    \"--.\": \"g\",\n",
    "    \"....\": \"h\",\n",
    "    \"..\": \"i\",\n",
    "    \".---\": \"j\",\n",
    "    \"-.-\": \"k\",\n",
    "    \".-..\": \"l\",\n",
    "    \"--\": \"m\",\n",
    "    \"-.\": \"n\",\n",
    "    \"---\": \"o\",\n",
    "    \".--.\": \"p\",\n",
    "    \"--.-\": \"q\",\n",
    "    \".-.\": \"r\",\n",
    "    \"...\": \"s\",\n",
    "    \"-\": \"t\",\n",
    "    \"..-\": \"u\",\n",
    "    \"...-\": \"v\",\n",
    "    \".--\": \"w\",\n",
    "    \"-..-\": \"x\",\n",
    "    \"-.--\": \"y\",\n",
    "    \"--..\": \"z\",\n",
    "    \"-----\": \"0\",\n",
    "    \".----\": \"1\",\n",
    "    \"..---\": \"2\",\n",
    "    \"...--\": \"3\",\n",
    "    \"....-\": \"4\",\n",
    "    \".....\": \"5\",\n",
    "    \"-....\": \"6\",\n",
    "    \"--...\": \"7\",\n",
    "    \"---..\": \"8\",\n",
    "    \"----.\": \"9\",\n",
    "}\n",
    "\n",
    "\n",
    "def morse_decoder(code: str) -> str:\n",
    "    return ' '.join((''.join (MORSE[i] for i in cod.split())) for cod in code.split('   ')).capitalize()\n",
    "print(\"Example:\")\n",
    "print(morse_decoder(\"... --- -- .   - . -..- -\"))\n",
    "# These \"asserts\" are used for self-checking\n",
    "assert morse_decoder(\"... --- -- .   - . -..- -\") == \"Some text\"\n",
    "assert (\n",
    "    morse_decoder(\"..   .-- .- ...   -... --- .-. -.   .. -.   .---- ----. ----. -----\")\n",
    "    == \"I was born in 1990\"\n",
    ")\n",
    "\n",
    "print(\"The mission is done! Click 'Check Solution' to earn rewards!\")"
   ],
   "id": "27cf13f89442d60",
   "outputs": [
    {
     "name": "stdout",
     "output_type": "stream",
     "text": [
      "Example:\n",
      "Some text\n",
      "The mission is done! Click 'Check Solution' to earn rewards!\n"
     ]
    }
   ],
   "execution_count": 24
  },
  {
   "metadata": {},
   "cell_type": "markdown",
   "source": "    return ' '.join(''.join([MORSE[i] for i in cod.split()]) for cod in code.split('   ')).capitalize()",
   "id": "a48884762f81b2fc"
  },
  {
   "metadata": {
    "ExecuteTime": {
     "end_time": "2024-04-18T06:29:38.040142Z",
     "start_time": "2024-04-18T06:29:38.035618Z"
    }
   },
   "cell_type": "code",
   "source": [
    "def remove_all_before(items: list, border: int) -> Iterable:\n",
    "    if border in items:\n",
    "        return items[items.index(border):len(items)]\n",
    "    else:\n",
    "        return items\n",
    "\n",
    "\n",
    "print(\"Example:\")\n",
    "print(list(remove_all_before([1, 1, 2, 2, 3, 3], 2)))"
   ],
   "id": "2945f0beecfaacd7",
   "outputs": [
    {
     "name": "stdout",
     "output_type": "stream",
     "text": [
      "Example:\n",
      "[2, 2, 3, 3]\n"
     ]
    }
   ],
   "execution_count": 37
  },
  {
   "metadata": {
    "ExecuteTime": {
     "end_time": "2024-04-18T06:34:34.893732Z",
     "start_time": "2024-04-18T06:34:34.888931Z"
    }
   },
   "cell_type": "code",
   "source": [
    "\n",
    "def replace_first(items: list) -> Iterable:\n",
    "    if items:\n",
    "        x1 = items.pop(0)\n",
    "        items.insert(len(items),x1)\n",
    "        return items\n",
    "    else:\n",
    "        return items\n",
    "\n",
    "# These \"asserts\" are used for self-checking\n",
    "print(\"Example:\")\n",
    "print(list(replace_first([1, 2, 3, 4])))\n",
    "\n",
    "assert replace_first([1, 2, 3, 4]) == [2, 3, 4, 1]\n",
    "assert replace_first([1]) == [1]\n",
    "assert replace_first([]) == []"
   ],
   "id": "59662be446602d9b",
   "outputs": [
    {
     "name": "stdout",
     "output_type": "stream",
     "text": [
      "Example:\n",
      "[2, 3, 4, 1]\n"
     ]
    }
   ],
   "execution_count": 41
  },
  {
   "metadata": {
    "ExecuteTime": {
     "end_time": "2024-04-18T06:44:18.618319Z",
     "start_time": "2024-04-18T06:44:18.611910Z"
    }
   },
   "cell_type": "code",
   "source": [
    "def max_digit(value: int) -> int:\n",
    "    s1 = set(str(value))\n",
    "    print(max(s1))\n",
    "print(\"Example:\")\n",
    "print(max_digit(10))"
   ],
   "id": "bf4cedef522b40a5",
   "outputs": [
    {
     "name": "stdout",
     "output_type": "stream",
     "text": [
      "Example:\n",
      "1\n",
      "None\n"
     ]
    }
   ],
   "execution_count": 60
  },
  {
   "metadata": {
    "ExecuteTime": {
     "end_time": "2024-04-18T07:01:12.856374Z",
     "start_time": "2024-04-18T07:01:12.845458Z"
    }
   },
   "cell_type": "code",
   "source": [
    "import re\n",
    "def beginning_zeros(a: str) -> int:\n",
    "    int_a = int(a)\n",
    "    if int_a != 0:\n",
    "        return len(a)-len(str(int_a))\n",
    "    else:\n",
    "        return len(a)\n",
    "    \n",
    "\n",
    "print(\"Example:\")\n",
    "print(beginning_zeros(\"0000\"))\n",
    "\n",
    "# These \"asserts\" are used for self-checking\n",
    "assert beginning_zeros(\"100\") == 0\n",
    "assert beginning_zeros(\"001\") == 2\n",
    "assert beginning_zeros(\"100100\") == 0\n",
    "assert beginning_zeros(\"001001\") == 2\n",
    "assert beginning_zeros(\"012345679\") == 1\n",
    "assert beginning_zeros(\"0000\") == 4\n",
    "\n",
    "print(\"The mission is done! Click 'Check Solution' to earn rewards!\")"
   ],
   "id": "f99a253366464faf",
   "outputs": [
    {
     "name": "stdout",
     "output_type": "stream",
     "text": [
      "Example:\n",
      "4\n",
      "The mission is done! Click 'Check Solution' to earn rewards!\n"
     ]
    }
   ],
   "execution_count": 74
  },
  {
   "metadata": {
    "ExecuteTime": {
     "end_time": "2024-04-18T07:03:39.547059Z",
     "start_time": "2024-04-18T07:03:39.537210Z"
    }
   },
   "cell_type": "code",
   "source": [
    "def to_title_case(sentence: str) -> str:\n",
    "    return \" \".join(map(lambda x:x.capitalize(),sentence.split(' ')))\n",
    "\n",
    "print(\"Example:\")\n",
    "print(to_title_case(\"hello world\"))\n",
    "\n",
    "# These \"asserts\" are used for self-checking\n",
    "assert to_title_case(\"hello world\") == \"Hello World\"\n",
    "assert to_title_case(\"openai gpt-4\") == \"Openai Gpt-4\"\n",
    "assert to_title_case(\"this is a title\") == \"This Is A Title\"\n",
    "assert to_title_case(\"THE QUICK BROWN FOX\") == \"The Quick Brown Fox\"\n",
    "assert to_title_case(\"JUMPs ovER a LAZy dog\") == \"Jumps Over A Lazy Dog\"\n",
    "assert to_title_case(\"typescript is great\") == \"Typescript Is Great\"\n",
    "assert to_title_case(\"the answer is 42\") == \"The Answer Is 42\"\n",
    "assert to_title_case(\"to be or not to be\") == \"To Be Or Not To Be\"\n",
    "assert to_title_case(\"that is the question\") == \"That Is The Question\"\n",
    "assert to_title_case(\"\") == \"\"\n"
   ],
   "id": "37bc25514fcaff20",
   "outputs": [
    {
     "name": "stdout",
     "output_type": "stream",
     "text": [
      "Example:\n",
      "Hello World\n"
     ]
    }
   ],
   "execution_count": 81
  },
  {
   "metadata": {},
   "cell_type": "code",
   "outputs": [],
   "execution_count": null,
   "source": "",
   "id": "f70662c7a475545"
  }
 ],
 "metadata": {
  "kernelspec": {
   "display_name": "Python 3",
   "language": "python",
   "name": "python3"
  },
  "language_info": {
   "codemirror_mode": {
    "name": "ipython",
    "version": 2
   },
   "file_extension": ".py",
   "mimetype": "text/x-python",
   "name": "python",
   "nbconvert_exporter": "python",
   "pygments_lexer": "ipython2",
   "version": "2.7.6"
  }
 },
 "nbformat": 4,
 "nbformat_minor": 5
}
