{
 "cells": [
  {
   "metadata": {
    "ExecuteTime": {
     "end_time": "2024-05-13T14:55:55.951203Z",
     "start_time": "2024-05-13T14:55:55.935348Z"
    }
   },
   "cell_type": "code",
   "source": [
    "from typing import List\n",
    "def plusOne(digits: List[int]) -> List[int]:\n",
    "    for i in range(1,len(digits)+1):\n",
    "        if digits[-i] == 9:\n",
    "            digits[-i] = 0\n",
    "        else:\n",
    "            digits[-i]+=1\n",
    "            return digits\n",
    "    \n",
    "    return [1]+digits\n",
    "\n",
    "plusOne([9])"
   ],
   "id": "b5f8809fe8f3b81a",
   "outputs": [
    {
     "data": {
      "text/plain": [
       "[1, 0]"
      ]
     },
     "execution_count": 26,
     "metadata": {},
     "output_type": "execute_result"
    }
   ],
   "execution_count": 26
  },
  {
   "metadata": {
    "ExecuteTime": {
     "end_time": "2024-05-12T16:23:15.160529Z",
     "start_time": "2024-05-12T16:23:15.155939Z"
    }
   },
   "cell_type": "code",
   "source": [
    "def reverse(x: int) -> int:\n",
    "    if x<0:first= '-'\n",
    "    reversed_str = first + ''.join(filter(lambda char: char != '0' and char.isdigit(), str(x)[::-1]))\n",
    "    return int(reversed_str)\n",
    "    \n",
    "reverse(-100)\n",
    "    "
   ],
   "id": "b3ebffca0f492d9",
   "outputs": [
    {
     "data": {
      "text/plain": [
       "-1"
      ]
     },
     "execution_count": 24,
     "metadata": {},
     "output_type": "execute_result"
    }
   ],
   "execution_count": 24
  },
  {
   "metadata": {
    "ExecuteTime": {
     "end_time": "2024-05-12T16:04:47.555799Z",
     "start_time": "2024-05-12T16:04:47.549759Z"
    }
   },
   "cell_type": "code",
   "source": [
    "from typing import List\n",
    "def twoSum( numbers: List[int], target: int) -> List[int]:\n",
    "    l = 0\n",
    "    r = len(numbers) - 1 \n",
    "\n",
    "    while l<r:\n",
    "        if numbers[l] + numbers[r] > target:\n",
    "            r-=1\n",
    "        elif numbers[l] + numbers[r] < target:\n",
    "            l+=1\n",
    "        elif numbers[l] + numbers[r] == target:\n",
    "            return [l+1,r+1]\n",
    "    \n",
    "    return None\n",
    "\n",
    "twoSum([2,3,4],6)"
   ],
   "id": "5e3d73c7856f66a9",
   "outputs": [
    {
     "data": {
      "text/plain": [
       "[1, 3]"
      ]
     },
     "execution_count": 5,
     "metadata": {},
     "output_type": "execute_result"
    }
   ],
   "execution_count": 5
  },
  {
   "metadata": {
    "ExecuteTime": {
     "end_time": "2024-05-11T11:45:15.791072Z",
     "start_time": "2024-05-11T11:45:15.787978Z"
    }
   },
   "cell_type": "code",
   "source": [
    "def checkio(line1: str, line2: str) -> str:\n",
    "    line1_list = line1.split(',')\n",
    "    line2_list = line2.split(',')\n",
    "    \n",
    "    common_elements = filter(lambda x: x in line2_list, line1_list)\n",
    "    result = ','.join(common_elements)\n",
    "    \n",
    "    return result\n",
    "\n",
    "\n",
    "print(\"Example:\")\n",
    "print(checkio(\"hello,world\", \"hello,earth\"))"
   ],
   "id": "da1c6c99dd2a72d6",
   "outputs": [
    {
     "name": "stdout",
     "output_type": "stream",
     "text": [
      "Example:\n",
      "hello\n"
     ]
    }
   ],
   "execution_count": 15
  },
  {
   "metadata": {
    "ExecuteTime": {
     "end_time": "2024-05-10T06:10:40.302189Z",
     "start_time": "2024-05-10T06:10:40.296391Z"
    }
   },
   "cell_type": "code",
   "source": [
    "    \n",
    "def check_all_alphabets(text):\n",
    "    s = set(filter(lambda x:x.isalpha(),text))\n",
    "    return s\n",
    "\n",
    "print(check_all_alphabets('test1224'))"
   ],
   "id": "2560bc502c0ca4f1",
   "outputs": [
    {
     "name": "stdout",
     "output_type": "stream",
     "text": [
      "{'e', 's', 't'}\n"
     ]
    }
   ],
   "execution_count": 3
  },
  {
   "metadata": {
    "ExecuteTime": {
     "end_time": "2024-05-09T13:09:06.910094Z",
     "start_time": "2024-05-09T13:09:06.874811Z"
    }
   },
   "cell_type": "code",
   "source": [
    "from collections import Counter\n",
    "def groupAnagrams(strs):\n",
    "    s = {}\n",
    "    for i in range(len(strs)):\n",
    "        if Counter(strs[i]) in s:\n",
    "            s[list(Counter(strs[i]))].append(strs[i])\n",
    "        else:\n",
    "            s[((Counter(strs[i])))] = [strs[i]]\n",
    "            \n",
    "    return list(s)\n",
    "\n",
    "groupAnagrams(['aa,bb,aa'])"
   ],
   "id": "7e19bbf2e1795539",
   "outputs": [
    {
     "ename": "TypeError",
     "evalue": "unhashable type: 'Counter'",
     "output_type": "error",
     "traceback": [
      "\u001B[0;31m---------------------------------------------------------------------------\u001B[0m",
      "\u001B[0;31mTypeError\u001B[0m                                 Traceback (most recent call last)",
      "Cell \u001B[0;32mIn[12], line 12\u001B[0m\n\u001B[1;32m      8\u001B[0m             s[(listCounter(strs[i]))] \u001B[38;5;241m=\u001B[39m [strs[i]]\n\u001B[1;32m     10\u001B[0m     \u001B[38;5;28;01mreturn\u001B[39;00m \u001B[38;5;28mlist\u001B[39m(s)\n\u001B[0;32m---> 12\u001B[0m \u001B[43mgroupAnagrams\u001B[49m\u001B[43m(\u001B[49m\u001B[43m[\u001B[49m\u001B[38;5;124;43m'\u001B[39;49m\u001B[38;5;124;43maa,bb,aa\u001B[39;49m\u001B[38;5;124;43m'\u001B[39;49m\u001B[43m]\u001B[49m\u001B[43m)\u001B[49m\n",
      "Cell \u001B[0;32mIn[12], line 5\u001B[0m, in \u001B[0;36mgroupAnagrams\u001B[0;34m(strs)\u001B[0m\n\u001B[1;32m      3\u001B[0m s \u001B[38;5;241m=\u001B[39m {}\n\u001B[1;32m      4\u001B[0m \u001B[38;5;28;01mfor\u001B[39;00m i \u001B[38;5;129;01min\u001B[39;00m \u001B[38;5;28mrange\u001B[39m(\u001B[38;5;28mlen\u001B[39m(strs)):\n\u001B[0;32m----> 5\u001B[0m     \u001B[38;5;28;01mif\u001B[39;00m \u001B[43mCounter\u001B[49m\u001B[43m(\u001B[49m\u001B[43mstrs\u001B[49m\u001B[43m[\u001B[49m\u001B[43mi\u001B[49m\u001B[43m]\u001B[49m\u001B[43m)\u001B[49m\u001B[43m \u001B[49m\u001B[38;5;129;43;01min\u001B[39;49;00m\u001B[43m \u001B[49m\u001B[43ms\u001B[49m:\n\u001B[1;32m      6\u001B[0m         s[\u001B[38;5;28mlist\u001B[39m(Counter(strs[i]))]\u001B[38;5;241m.\u001B[39mappend(strs[i])\n\u001B[1;32m      7\u001B[0m     \u001B[38;5;28;01melse\u001B[39;00m:\n",
      "\u001B[0;31mTypeError\u001B[0m: unhashable type: 'Counter'"
     ]
    }
   ],
   "execution_count": 12
  },
  {
   "metadata": {
    "ExecuteTime": {
     "end_time": "2024-05-09T13:27:49.524408Z",
     "start_time": "2024-05-09T13:27:49.521935Z"
    }
   },
   "cell_type": "code",
   "source": [
    "from collections import Counter\n",
    "def top(nums,k):\n",
    "  counts = Counter(nums)\n",
    "  sorted_keys = list(sorted(counts.keys(),key=lambda x:counts[x],reverse=True))\n",
    "  print(sorted_keys)\n",
    "\n",
    "top([0,0,3,1,1,2],k=1)"
   ],
   "id": "5d713e9dfe3e2",
   "outputs": [
    {
     "name": "stdout",
     "output_type": "stream",
     "text": [
      "[0, 1, 3, 2]\n"
     ]
    }
   ],
   "execution_count": 39
  },
  {
   "metadata": {
    "ExecuteTime": {
     "end_time": "2024-05-09T13:27:44.797975Z",
     "start_time": "2024-05-09T13:27:44.796028Z"
    }
   },
   "cell_type": "code",
   "source": "",
   "id": "60b0b2d6b5a701ee",
   "outputs": [],
   "execution_count": 38
  },
  {
   "metadata": {
    "ExecuteTime": {
     "end_time": "2024-05-09T12:55:04.459653Z",
     "start_time": "2024-05-09T12:55:04.454185Z"
    }
   },
   "cell_type": "code",
   "source": [
    "def sum2(nums,target):\n",
    "    s = {}\n",
    "    for i,val in enumerate(nums):\n",
    "        if (target-val) in s:\n",
    "            return [s[(target-val)],i]\n",
    "        s[val] = i\n",
    "    \n",
    "    return None   \n",
    "sum2([1,-3,-2,4],-5)\n"
   ],
   "id": "950fe493763c5b98",
   "outputs": [
    {
     "data": {
      "text/plain": [
       "[1, 2]"
      ]
     },
     "execution_count": 8,
     "metadata": {},
     "output_type": "execute_result"
    }
   ],
   "execution_count": 8
  },
  {
   "metadata": {
    "ExecuteTime": {
     "end_time": "2024-05-08T12:04:59.633962Z",
     "start_time": "2024-05-08T12:04:59.628612Z"
    }
   },
   "cell_type": "code",
   "source": [
    "s = \"   fly me   to   the moon  \"\n",
    "len(s.strip(' ').split(' ')[-1])"
   ],
   "id": "100fcab3acdae2bb",
   "outputs": [
    {
     "data": {
      "text/plain": [
       "4"
      ]
     },
     "execution_count": 14,
     "metadata": {},
     "output_type": "execute_result"
    }
   ],
   "execution_count": 14
  },
  {
   "metadata": {
    "ExecuteTime": {
     "end_time": "2024-05-08T03:22:34.448316Z",
     "start_time": "2024-05-08T03:22:34.444932Z"
    }
   },
   "cell_type": "code",
   "source": [
    "models = {\n",
    "    'Linear':1,\n",
    "    'Lasso': 2,\n",
    "    'Ridge': 3,\n",
    "    'Random Forrest':4,\n",
    "    'SVR':5,\n",
    "    'CatBooste':15,\n",
    "    'KNN':9,\n",
    "}\n",
    "\n",
    "bets = max(sorted(models.values()))\n",
    "idx = list(models.values())\n",
    "s = list(sorted(models.items(),key= lambda x:x[1]))\n",
    "s[-1]"
   ],
   "id": "d2bc02532e647969",
   "outputs": [
    {
     "data": {
      "text/plain": [
       "('CatBooste', 15)"
      ]
     },
     "execution_count": 22,
     "metadata": {},
     "output_type": "execute_result"
    }
   ],
   "execution_count": 22
  },
  {
   "metadata": {
    "ExecuteTime": {
     "end_time": "2024-05-08T11:30:17.457216Z",
     "start_time": "2024-05-08T11:30:17.453997Z"
    }
   },
   "cell_type": "code",
   "source": [
    "from collections import Counter\n",
    "a = 'dvvvvsaa'\n",
    "b = 'saa'\n",
    "c = Counter(b)\n",
    "for i in range(len(a)):\n",
    "    if a[i] in b:\n",
    "        t = Counter(a[i:i+len(b)+1])\n",
    "        print(i)\n",
    "        break"
   ],
   "id": "ec2e739182748c35",
   "outputs": [
    {
     "name": "stdout",
     "output_type": "stream",
     "text": [
      "5\n"
     ]
    }
   ],
   "execution_count": 2
  },
  {
   "metadata": {},
   "cell_type": "markdown",
   "source": [
    "\n",
    "### PYCHECK.IO"
   ],
   "id": "f094284349932a03"
  },
  {
   "metadata": {
    "ExecuteTime": {
     "end_time": "2024-05-06T09:41:10.377365Z",
     "start_time": "2024-05-06T09:41:10.370443Z"
    }
   },
   "cell_type": "code",
   "source": [
    "def l_substring(s, k):\n",
    "    count = {}\n",
    "    l = 0\n",
    "    result = 0\n",
    "    max_f= 0\n",
    "    for r in range(len(s)):\n",
    "        count[s[r]] = 1 + count.get(s[r], 0)\n",
    "        max_f= max(count[s[r]],max_f)\n",
    "        \n",
    "        while (r-l+1) - max_f > k:\n",
    "            count[s[l]] -= 1\n",
    "            l+=1\n",
    "        \n",
    "        result = max(result,r-l+1)\n",
    "\n",
    "    return result\n",
    "\n",
    "l_substring('BAAAB',k=2)\n",
    "    "
   ],
   "id": "36956e6d830b36d9",
   "outputs": [
    {
     "data": {
      "text/plain": [
       "5"
      ]
     },
     "execution_count": 17,
     "metadata": {},
     "output_type": "execute_result"
    }
   ],
   "execution_count": 17
  },
  {
   "metadata": {},
   "cell_type": "code",
   "outputs": [],
   "execution_count": null,
   "source": "",
   "id": "8484b901548f2cc5"
  },
  {
   "metadata": {
    "ExecuteTime": {
     "end_time": "2024-05-07T08:25:13.810138Z",
     "start_time": "2024-05-07T08:25:13.804363Z"
    }
   },
   "cell_type": "code",
   "source": "def checkInclusion(s1: str, s2: str) -> bool:\n",
   "id": "8c9ef9708c1a7b8f",
   "outputs": [
    {
     "name": "stdout",
     "output_type": "stream",
     "text": [
      "True\n"
     ]
    }
   ],
   "execution_count": 40
  },
  {
   "metadata": {
    "ExecuteTime": {
     "end_time": "2024-05-07T10:36:12.788506Z",
     "start_time": "2024-05-07T10:34:40.278019Z"
    }
   },
   "cell_type": "code",
   "source": [
    "from collections import Counter\n",
    "\n",
    "def checkInclusion(s1: str, s2: str) -> bool:\n",
    "    count = Counter(s1)\n",
    "    window = Counter(s2[:len(s1)])  # Create initial window\n",
    "    \n",
    "    if window == count:\n",
    "        return True\n",
    "    \n",
    "    for i in range(len(s1), len(s2)):\n",
    "        # Remove the character leaving the window\n",
    "        v=i - len(s1)\n",
    "        left_char = s2[v]\n",
    "        if window[left_char] == 1:\n",
    "            del window[left_char]\n",
    "        else:\n",
    "            window[left_char] -= 1\n",
    "        \n",
    "        # Add the new character entering the window\n",
    "        right_char = s2[i]\n",
    "        window[right_char] += 1\n",
    "        \n",
    "        if window == count:\n",
    "            return True\n",
    "    \n",
    "    return False\n",
    "\n",
    "print(checkInclusion('bab','ebboaooabb'))  # Output: True\n"
   ],
   "id": "cc0236966e860c9e",
   "outputs": [
    {
     "ename": "KeyboardInterrupt",
     "evalue": "",
     "output_type": "error",
     "traceback": [
      "\u001B[0;31m---------------------------------------------------------------------------\u001B[0m",
      "\u001B[0;31mKeyboardInterrupt\u001B[0m                         Traceback (most recent call last)",
      "Cell \u001B[0;32mIn[78], line 28\u001B[0m\n\u001B[1;32m     24\u001B[0m             \u001B[38;5;28;01mreturn\u001B[39;00m \u001B[38;5;28;01mTrue\u001B[39;00m\n\u001B[1;32m     26\u001B[0m     \u001B[38;5;28;01mreturn\u001B[39;00m \u001B[38;5;28;01mFalse\u001B[39;00m\n\u001B[0;32m---> 28\u001B[0m \u001B[38;5;28mprint\u001B[39m(\u001B[43mcheckInclusion\u001B[49m\u001B[43m(\u001B[49m\u001B[38;5;124;43m'\u001B[39;49m\u001B[38;5;124;43mbab\u001B[39;49m\u001B[38;5;124;43m'\u001B[39;49m\u001B[43m,\u001B[49m\u001B[38;5;124;43m'\u001B[39;49m\u001B[38;5;124;43mebboaooabb\u001B[39;49m\u001B[38;5;124;43m'\u001B[39;49m\u001B[43m)\u001B[49m)  \u001B[38;5;66;03m# Output: True\u001B[39;00m\n",
      "Cell \u001B[0;32mIn[78], line 13\u001B[0m, in \u001B[0;36mcheckInclusion\u001B[0;34m(s1, s2)\u001B[0m\n\u001B[1;32m     10\u001B[0m \u001B[38;5;28;01mfor\u001B[39;00m i \u001B[38;5;129;01min\u001B[39;00m \u001B[38;5;28mrange\u001B[39m(\u001B[38;5;28mlen\u001B[39m(s1), \u001B[38;5;28mlen\u001B[39m(s2)):\n\u001B[1;32m     11\u001B[0m     \u001B[38;5;66;03m# Remove the character leaving the window\u001B[39;00m\n\u001B[1;32m     12\u001B[0m     v\u001B[38;5;241m=\u001B[39mi \u001B[38;5;241m-\u001B[39m \u001B[38;5;28mlen\u001B[39m(s1)\n\u001B[0;32m---> 13\u001B[0m     left_char \u001B[38;5;241m=\u001B[39m \u001B[43ms2\u001B[49m[v]\n\u001B[1;32m     14\u001B[0m     \u001B[38;5;28;01mif\u001B[39;00m window[left_char] \u001B[38;5;241m==\u001B[39m \u001B[38;5;241m1\u001B[39m:\n\u001B[1;32m     15\u001B[0m         \u001B[38;5;28;01mdel\u001B[39;00m window[left_char]\n",
      "Cell \u001B[0;32mIn[78], line 13\u001B[0m, in \u001B[0;36mcheckInclusion\u001B[0;34m(s1, s2)\u001B[0m\n\u001B[1;32m     10\u001B[0m \u001B[38;5;28;01mfor\u001B[39;00m i \u001B[38;5;129;01min\u001B[39;00m \u001B[38;5;28mrange\u001B[39m(\u001B[38;5;28mlen\u001B[39m(s1), \u001B[38;5;28mlen\u001B[39m(s2)):\n\u001B[1;32m     11\u001B[0m     \u001B[38;5;66;03m# Remove the character leaving the window\u001B[39;00m\n\u001B[1;32m     12\u001B[0m     v\u001B[38;5;241m=\u001B[39mi \u001B[38;5;241m-\u001B[39m \u001B[38;5;28mlen\u001B[39m(s1)\n\u001B[0;32m---> 13\u001B[0m     left_char \u001B[38;5;241m=\u001B[39m \u001B[43ms2\u001B[49m[v]\n\u001B[1;32m     14\u001B[0m     \u001B[38;5;28;01mif\u001B[39;00m window[left_char] \u001B[38;5;241m==\u001B[39m \u001B[38;5;241m1\u001B[39m:\n\u001B[1;32m     15\u001B[0m         \u001B[38;5;28;01mdel\u001B[39;00m window[left_char]\n",
      "File \u001B[0;32m_pydevd_bundle/pydevd_cython_darwin_39_64.pyx:1187\u001B[0m, in \u001B[0;36m_pydevd_bundle.pydevd_cython_darwin_39_64.SafeCallWrapper.__call__\u001B[0;34m()\u001B[0m\n",
      "File \u001B[0;32m_pydevd_bundle/pydevd_cython_darwin_39_64.pyx:627\u001B[0m, in \u001B[0;36m_pydevd_bundle.pydevd_cython_darwin_39_64.PyDBFrame.trace_dispatch\u001B[0;34m()\u001B[0m\n",
      "File \u001B[0;32m_pydevd_bundle/pydevd_cython_darwin_39_64.pyx:1103\u001B[0m, in \u001B[0;36m_pydevd_bundle.pydevd_cython_darwin_39_64.PyDBFrame.trace_dispatch\u001B[0;34m()\u001B[0m\n",
      "File \u001B[0;32m_pydevd_bundle/pydevd_cython_darwin_39_64.pyx:1061\u001B[0m, in \u001B[0;36m_pydevd_bundle.pydevd_cython_darwin_39_64.PyDBFrame.trace_dispatch\u001B[0;34m()\u001B[0m\n",
      "File \u001B[0;32m~/Library/Application Support/JetBrains/Toolbox/apps/PyCharm-P/ch-0/241.14494.241/PyCharm.app/Contents/plugins/python/helpers-pro/jupyter_debug/pydev_jupyter_plugin.py:169\u001B[0m, in \u001B[0;36mstop\u001B[0;34m(plugin, pydb, frame, event, args, stop_info, arg, step_cmd)\u001B[0m\n\u001B[1;32m    167\u001B[0m     frame \u001B[38;5;241m=\u001B[39m suspend_jupyter(main_debugger, thread, frame, step_cmd)\n\u001B[1;32m    168\u001B[0m     \u001B[38;5;28;01mif\u001B[39;00m frame:\n\u001B[0;32m--> 169\u001B[0m         \u001B[43mmain_debugger\u001B[49m\u001B[38;5;241;43m.\u001B[39;49m\u001B[43mdo_wait_suspend\u001B[49m\u001B[43m(\u001B[49m\u001B[43mthread\u001B[49m\u001B[43m,\u001B[49m\u001B[43m \u001B[49m\u001B[43mframe\u001B[49m\u001B[43m,\u001B[49m\u001B[43m \u001B[49m\u001B[43mevent\u001B[49m\u001B[43m,\u001B[49m\u001B[43m \u001B[49m\u001B[43marg\u001B[49m\u001B[43m)\u001B[49m\n\u001B[1;32m    170\u001B[0m         \u001B[38;5;28;01mreturn\u001B[39;00m \u001B[38;5;28;01mTrue\u001B[39;00m\n\u001B[1;32m    171\u001B[0m \u001B[38;5;28;01mreturn\u001B[39;00m \u001B[38;5;28;01mFalse\u001B[39;00m\n",
      "File \u001B[0;32m~/Library/Application Support/JetBrains/Toolbox/apps/PyCharm-P/ch-0/241.14494.241/PyCharm.app/Contents/plugins/python/helpers/pydev/pydevd.py:1185\u001B[0m, in \u001B[0;36mPyDB.do_wait_suspend\u001B[0;34m(self, thread, frame, event, arg, send_suspend_message, is_unhandled_exception)\u001B[0m\n\u001B[1;32m   1182\u001B[0m         from_this_thread\u001B[38;5;241m.\u001B[39mappend(frame_id)\n\u001B[1;32m   1184\u001B[0m \u001B[38;5;28;01mwith\u001B[39;00m \u001B[38;5;28mself\u001B[39m\u001B[38;5;241m.\u001B[39m_threads_suspended_single_notification\u001B[38;5;241m.\u001B[39mnotify_thread_suspended(thread_id, stop_reason):\n\u001B[0;32m-> 1185\u001B[0m     \u001B[38;5;28;43mself\u001B[39;49m\u001B[38;5;241;43m.\u001B[39;49m\u001B[43m_do_wait_suspend\u001B[49m\u001B[43m(\u001B[49m\u001B[43mthread\u001B[49m\u001B[43m,\u001B[49m\u001B[43m \u001B[49m\u001B[43mframe\u001B[49m\u001B[43m,\u001B[49m\u001B[43m \u001B[49m\u001B[43mevent\u001B[49m\u001B[43m,\u001B[49m\u001B[43m \u001B[49m\u001B[43marg\u001B[49m\u001B[43m,\u001B[49m\u001B[43m \u001B[49m\u001B[43msuspend_type\u001B[49m\u001B[43m,\u001B[49m\u001B[43m \u001B[49m\u001B[43mfrom_this_thread\u001B[49m\u001B[43m)\u001B[49m\n",
      "File \u001B[0;32m~/Library/Application Support/JetBrains/Toolbox/apps/PyCharm-P/ch-0/241.14494.241/PyCharm.app/Contents/plugins/python/helpers/pydev/pydevd.py:1200\u001B[0m, in \u001B[0;36mPyDB._do_wait_suspend\u001B[0;34m(self, thread, frame, event, arg, suspend_type, from_this_thread)\u001B[0m\n\u001B[1;32m   1197\u001B[0m             \u001B[38;5;28mself\u001B[39m\u001B[38;5;241m.\u001B[39m_call_mpl_hook()\n\u001B[1;32m   1199\u001B[0m         \u001B[38;5;28mself\u001B[39m\u001B[38;5;241m.\u001B[39mprocess_internal_commands()\n\u001B[0;32m-> 1200\u001B[0m         \u001B[43mtime\u001B[49m\u001B[38;5;241;43m.\u001B[39;49m\u001B[43msleep\u001B[49m\u001B[43m(\u001B[49m\u001B[38;5;241;43m0.01\u001B[39;49m\u001B[43m)\u001B[49m\n\u001B[1;32m   1202\u001B[0m \u001B[38;5;28mself\u001B[39m\u001B[38;5;241m.\u001B[39mcancel_async_evaluation(get_current_thread_id(thread), \u001B[38;5;28mstr\u001B[39m(\u001B[38;5;28mid\u001B[39m(frame)))\n\u001B[1;32m   1204\u001B[0m \u001B[38;5;66;03m# process any stepping instructions\u001B[39;00m\n",
      "\u001B[0;31mKeyboardInterrupt\u001B[0m: "
     ]
    }
   ],
   "execution_count": 78
  },
  {
   "metadata": {
    "ExecuteTime": {
     "end_time": "2024-05-07T10:21:01.098954Z",
     "start_time": "2024-05-07T10:21:01.095739Z"
    }
   },
   "cell_type": "code",
   "source": [
    "}def longest_substring(word):\n",
    "    seen = {}\n",
    "    l = 0\n",
    "    length = 0\n",
    "    for i in range(len(word)):\n",
    "        char = word[i]\n",
    "        if char in seen and seen[char] >= l:\n",
    "            l = seen[char] + 1\n",
    "            length = max(length, i - l + 1)\n",
    "\n",
    "        if char not in seen:\n",
    "            seen[char] = i\n",
    "            length = max(length, i - l + 1)\n",
    "\n",
    "    return length\n",
    "\n",
    "\n",
    "print(longest_substring(('aab')))\n",
    "\n"
   ],
   "id": "68eb84af9915c02a",
   "outputs": [
    {
     "ename": "SyntaxError",
     "evalue": "unmatched '}' (1495402675.py, line 1)",
     "output_type": "error",
     "traceback": [
      "\u001B[0;36m  Cell \u001B[0;32mIn[60], line 1\u001B[0;36m\u001B[0m\n\u001B[0;31m    }def longest_substring(word):\u001B[0m\n\u001B[0m    ^\u001B[0m\n\u001B[0;31mSyntaxError\u001B[0m\u001B[0;31m:\u001B[0m unmatched '}'\n"
     ]
    }
   ],
   "execution_count": 60
  },
  {
   "metadata": {
    "ExecuteTime": {
     "end_time": "2024-05-01T17:09:50.491416Z",
     "start_time": "2024-05-01T17:09:50.487987Z"
    }
   },
   "cell_type": "code",
   "source": [
    "a = 'bcdaefghlmnopq'\n",
    "print(len(a))"
   ],
   "id": "967778b752bb0527",
   "outputs": [
    {
     "name": "stdout",
     "output_type": "stream",
     "text": [
      "14\n"
     ]
    }
   ],
   "execution_count": 166
  },
  {
   "metadata": {
    "ExecuteTime": {
     "end_time": "2024-05-01T08:12:48.935860Z",
     "start_time": "2024-05-01T08:12:46.978617Z"
    }
   },
   "cell_type": "code",
   "source": [
    "| import numpy as np\n",
    "from collections import Counter\n",
    "\n",
    "if __name__ == '__main__':\n",
    "    n = int(input())\n",
    "    arr = list(map(int, input().split(\" \")))\n",
    "    print(np.mean(arr))\n",
    "    print(np.median(arr))\n",
    "    a = Counter(arr).most_common()\n",
    "    print(round(min([x for x, y in a if y == a[0][1]]), 1))"
   ],
   "id": "36cac25e0426c23d",
   "outputs": [
    {
     "name": "stdout",
     "output_type": "stream",
     "text": [
      "232.0\n",
      "232.0\n",
      "232\n"
     ]
    }
   ],
   "execution_count": 41
  },
  {
   "metadata": {
    "ExecuteTime": {
     "end_time": "2024-05-01T07:23:29.038497Z",
     "start_time": "2024-05-01T07:23:29.033537Z"
    }
   },
   "cell_type": "code",
   "source": [
    "4\n",
    "\n",
    "\n",
    "def bubble(items):\n",
    "    num_passes = 0\n",
    "    for i in range(len(items)):\n",
    "        for j in range(0, len(items) - 1 - i):\n",
    "            if items[j] > items[j + 1]:\n",
    "                items[j], items[j + 1] = items[j + 1], items[j]\n",
    "                num_passes += 1\n",
    "    print(f'Array is sorted in {num_passes} swaps.')\n",
    "    print(f'First Element: {items[0]}')\n",
    "    print(f'Last Element: {items[-1]}')\n",
    "\n",
    "\n",
    "bubble([1, 2, 6, 4, 7, 5])\n",
    "\n"
   ],
   "id": "705a736d92c313a6",
   "outputs": [
    {
     "name": "stdout",
     "output_type": "stream",
     "text": [
      "Array is sorted in 3 swaps.\n",
      "First Element: 1\n",
      "Last Element: 7\n",
      "None\n"
     ]
    }
   ],
   "execution_count": 7
  },
  {
   "metadata": {
    "ExecuteTime": {
     "end_time": "2024-04-30T16:32:47.669177Z",
     "start_time": "2024-04-30T16:32:47.664379Z"
    }
   },
   "cell_type": "code",
   "source": [
    "  def translation(text: str) -> str:\n",
    "    words = 'aeiouy'\n",
    "    for word in text:\n",
    "        if word in words:\n",
    "            print(word)\n",
    "\n",
    "\n",
    "print(\"Example:\")\n",
    "print(translation(\"hieeelalaooo\"))"
   ],
   "id": "46339ec195089f2c",
   "outputs": [
    {
     "name": "stdout",
     "output_type": "stream",
     "text": [
      "Example:\n",
      "i\n",
      "e\n",
      "e\n",
      "e\n",
      "a\n",
      "a\n",
      "o\n",
      "o\n",
      "o\n",
      "None\n"
     ]
    }
   ],
   "execution_count": 28
  },
  {
   "metadata": {
    "ExecuteTime": {
     "end_time": "2024-04-30T13:29:35.502092Z",
     "start_time": "2024-04-30T13:29:35.497140Z"
    }
   },
   "cell_type": "code",
   "source": [
    "def isValid(s: str) -> bool:\n",
    "    try:\n",
    "        stack = []\n",
    "        mapping = {'}': '{', ']': '[', ')': '('}\n",
    "        for chars in s:\n",
    "            if chars in mapping.values():\n",
    "                stack.append(chars)\n",
    "            if chars in mapping.keys():\n",
    "                if stack.pop() != mapping[chars]:\n",
    "                    return False\n",
    "        return stack == []\n",
    "\n",
    "    except Exception as e:\n",
    "        return False\n",
    "\n",
    "\n",
    "print(isValid('){'))"
   ],
   "id": "5b72864bd962545",
   "outputs": [
    {
     "name": "stdout",
     "output_type": "stream",
     "text": [
      "False\n"
     ]
    }
   ],
   "execution_count": 25
  },
  {
   "metadata": {
    "ExecuteTime": {
     "end_time": "2024-04-30T11:23:13.936877Z",
     "start_time": "2024-04-30T11:23:13.922580Z"
    }
   },
   "cell_type": "code",
   "source": [
    "import sys\n",
    "\n",
    "\n",
    "class Solution:\n",
    "    # Write your code here\n",
    "    def __init__(self):\n",
    "        self.stack = []\n",
    "        self.queue = []\n",
    "\n",
    "    def pushCharacter(self, character):\n",
    "        self.stack.append(character)\n",
    "\n",
    "    def enqueueCharacter(self, character):\n",
    "        self.queue.append(character)\n",
    "\n",
    "    def popCharacter(self):\n",
    "        return self.stack.pop()\n",
    "\n",
    "    def dequeueCharacter(self):\n",
    "        return self.queue.pop(0)\n",
    "\n",
    "\n",
    "# read the string s\n",
    "s = input()\n",
    "#Create the Solution class object\n",
    "obj = Solution()\n",
    "\n",
    "l = len(s)\n",
    "# push/enqueue all the characters of string s to stack\n",
    "for i in range(l):\n",
    "    obj.pushCharacter(s[i])\n",
    "    obj.enqueueCharacter(s[i])\n",
    "\n",
    "isPalindrome = True\n",
    "'''\n",
    "pop the top character from stack\n",
    "dequeue the first character from queue\n",
    "compare both the characters\n",
    "'''\n",
    "for i in range(l // 2):\n",
    "    if obj.popCharacter() != obj.dequeueCharacter():\n",
    "        isPalindrome = False\n",
    "        break\n",
    "#finally print whether string s is palindrome or not.\n",
    "if isPalindrome:\n",
    "    print(\"The word, \" + s + \", is a palindrome.\")\n",
    "else:\n",
    "    print(\"The word, \" + s + \", is not a palindrome.\")"
   ],
   "id": "4641133d3a2b0ffa",
   "outputs": [
    {
     "data": {
      "text/plain": [
       "2"
      ]
     },
     "execution_count": 7,
     "metadata": {},
     "output_type": "execute_result"
    }
   ],
   "execution_count": 7
  },
  {
   "metadata": {
    "ExecuteTime": {
     "end_time": "2024-04-30T08:46:10.749569Z",
     "start_time": "2024-04-30T08:46:10.744388Z"
    }
   },
   "cell_type": "code",
   "source": [
    "from typing import List, Tuple\n",
    "\n",
    "Coords = List[Tuple[int, int]]\n",
    "\n",
    "\n",
    "def similar_triangles(coords_1: Coords, coords_2: Coords) -> bool:\n",
    "    `\n",
    "\n",
    "\n",
    "if __name__ == '__main__':\n",
    "    print(\"Example:\")\n",
    "    print(similar_triangles([(0, 0), (1, 2), (2, 0)], [(3, 0), (4, 2), (5, 0)]))"
   ],
   "id": "6e1935109fe0ff",
   "outputs": [
    {
     "name": "stdout",
     "output_type": "stream",
     "text": [
      "Example:\n",
      "[(False, False, False, False, False), (True, False, False, False, False), (False, True, False, False, False), (False, False, True, False, False), (False, False, False, True, False), (False, False, False, False, True), (True, True, False, False, False), (True, False, True, False, False), (True, False, False, True, False), (True, False, False, False, True), (False, True, True, False, False), (False, True, False, True, False), (False, True, False, False, True), (False, False, True, True, False), (False, False, True, False, True), (False, False, False, True, True), (True, True, True, False, False), (True, True, False, True, False), (True, True, False, False, True), (True, False, True, True, False), (True, False, True, False, True), (True, False, False, True, True), (False, True, True, True, False), (False, True, True, False, True), (False, True, False, True, True), (False, False, True, True, True), (True, True, True, True, False), (True, True, True, False, True), (True, True, False, True, True), (True, False, True, True, True), (False, True, True, True, True), (True, True, True, True, True)]\n",
      "None\n"
     ]
    }
   ],
   "execution_count": 2
  },
  {
   "metadata": {
    "ExecuteTime": {
     "end_time": "2024-04-23T05:25:58.794412Z",
     "start_time": "2024-04-23T05:25:58.787449Z"
    }
   },
   "cell_type": "code",
   "source": [
    "from operator import itemgetter\n",
    "\n",
    "\n",
    "def is_majority(items: list[bool]) -> bool:\n",
    "    # your code here\n",
    "    count_T = items.count(True)\n",
    "    count_F = items.count(False)\n",
    "    return count_T > count_F\n",
    "\n",
    "\n",
    "print(\"Example:\")\n",
    "print(is_majority([True, True, False, True, False]))\n"
   ],
   "id": "99e580db66497eb6",
   "outputs": [
    {
     "name": "stdout",
     "output_type": "stream",
     "text": [
      "Example:\n",
      "True\n"
     ]
    }
   ],
   "execution_count": 61
  },
  {
   "metadata": {
    "ExecuteTime": {
     "end_time": "2024-04-29T16:51:59.674376Z",
     "start_time": "2024-04-29T16:51:59.656660Z"
    }
   },
   "cell_type": "code",
   "source": [
    "def sort_by_ext(files: list[str]) -> list[str]:\n",
    "    # your code here\n",
    "    return sorted(files, key=lambda x: [(b, a) if a else (a, b) for (a, b) in [x.rsplit('.', 1)]])\n",
    "\n",
    "\n",
    "print(\"Example:\")\n",
    "print(sort_by_ext([\"1.cad\", \"1.bat\", \"1.aa\"]))\n",
    "\n",
    "# These \"asserts\" are used for self-checking\n",
    "assert sort_by_ext([\"1.cad\", \"1.bat\", \"1.aa\"]) == [\"1.aa\", \"1.bat\", \"1.cad\"]\n",
    "assert sort_by_ext([\"1.cad\", \"1.bat\", \"1.aa\", \"2.bat\"]) == [\n",
    "    \"1.aa\",\n",
    "    \"1.bat\",\n",
    "    \"2.bat\",\n",
    "    \"1.cad\",\n",
    "]\n",
    "assert sort_by_ext([\"1.cad\", \"1.bat\", \"1.aa\", \".bat\"]) == [\n",
    "    \".bat\",\n",
    "    \"1.aa\",\n",
    "    \"1.bat\",\n",
    "    \"1.cad\",\n",
    "]\n",
    "assert sort_by_ext([\"1.cad\", \"1.bat\", \".aa\", \".bat\"]) == [\n",
    "    \".aa\",\n",
    "    \".bat\",\n",
    "    \"1.bat\",\n",
    "    \"1.cad\",\n",
    "]\n",
    "assert sort_by_ext([\"1.cad\", \"1.\", \"1.aa\"]) == [\"1.\", \"1.aa\", \"1.cad\"]\n",
    "assert sort_by_ext([\"1.cad\", \"1.bat\", \"1.aa\", \"1.aa.doc\"]) == [\n",
    "    \"1.aa\",\n",
    "    \"1.bat\",\n",
    "    \"1.cad\",\n",
    "    \"1.aa.doc\",\n",
    "]\n",
    "assert sort_by_ext([\"1.cad\", \"1.bat\", \"1.aa\", \".aa.doc\"]) == [\n",
    "    \"1.aa\",\n",
    "    \"1.bat\",\n",
    "    \"1.cad\",\n",
    "    \".aa.doc\",\n",
    "]\n",
    "print(sort_by_ext(['1.cad', '2.bat', '1.aa', '1.bat']))\n",
    "\n",
    "print(\"The mission is done! Click 'Check Solution' to earn rewards!\")\n"
   ],
   "id": "254eb04a3704064f",
   "outputs": [
    {
     "name": "stdout",
     "output_type": "stream",
     "text": [
      "Example:\n",
      "['1.aa', '1.bat', '1.cad']\n",
      "['1.aa', '1.bat', '2.bat', '1.cad']\n",
      "The mission is done! Click 'Check Solution' to earn rewards!\n"
     ]
    }
   ],
   "execution_count": 71
  },
  {
   "metadata": {
    "ExecuteTime": {
     "end_time": "2024-04-29T16:40:18.987120Z",
     "start_time": "2024-04-29T16:40:18.983602Z"
    }
   },
   "cell_type": "code",
   "source": [
    "a = '.xcc'\n",
    "print(a.\n",
    "      rsplit('.', maxsplit=1))"
   ],
   "id": "74b315271d2f0181",
   "outputs": [
    {
     "name": "stdout",
     "output_type": "stream",
     "text": [
      "['', 'xcc']\n"
     ]
    }
   ],
   "execution_count": 62
  },
  {
   "metadata": {},
   "cell_type": "code",
   "outputs": [],
   "execution_count": null,
   "source": "",
   "id": "196d7307cf81c3d9"
  },
  {
   "metadata": {
    "ExecuteTime": {
     "end_time": "2024-04-29T16:11:58.852617Z",
     "start_time": "2024-04-29T16:11:58.843441Z"
    }
   },
   "cell_type": "code",
   "source": [
    "def nearest_value(values: set[int], one: int) -> int:\n",
    "    d = dict()\n",
    "    for val in values:\n",
    "        d[val] = abs(val - one)\n",
    "    return sorted(d.items(), key=lambda x: x[1])[0][0]\n",
    "\n",
    "\n",
    "print(\"Example:\")\n",
    "print(nearest_value({4, 7, 10, 11, 12, 17}, 9))\n",
    "\n",
    "assert nearest_value({17, 4, 7, 10, 11, 12}, 9) == 10\n",
    "assert nearest_value({17, 4, 7, 10, 11, 12}, 8) == 7\n",
    "assert nearest_value({17, 4, 8, 10, 11, 12}, 9) == 8\n",
    "assert nearest_value({17, 4, 9, 10, 11, 12}, 9) == 9\n",
    "assert nearest_value({17, 4, 7, 10, 11, 12}, 0) == 4\n",
    "assert nearest_value({17, 4, 7, 10, 11, 12}, 100) == 17\n",
    "assert nearest_value({100, 5, 8, 89, 10, 12}, 7) == 8\n",
    "assert nearest_value({2, 3, -1}, 0) == -1\n",
    "assert nearest_value({5}, 5) == 5\n",
    "assert nearest_value({5}, 7) == 5\n",
    "print(\"The mission is done! Click 'Check Solution' to earn rewards!\")\n"
   ],
   "id": "b1b8df5f63284da8",
   "outputs": [
    {
     "name": "stdout",
     "output_type": "stream",
     "text": [
      "Example:\n",
      "10\n",
      "The mission is done! Click 'Check Solution' to earn rewards!\n"
     ]
    }
   ],
   "execution_count": 36
  },
  {
   "metadata": {
    "ExecuteTime": {
     "end_time": "2024-04-28T10:58:17.352509Z",
     "start_time": "2024-04-28T10:58:17.346844Z"
    }
   },
   "cell_type": "code",
   "source": [
    "from collections.abc import Iterable\n",
    "\n",
    "\n",
    "def sum_by_types(items: list[str, int]):\n",
    "    # your code here\n",
    "    sum_digit = 0\n",
    "    sum_string = \"\"\n",
    "    for i, val in enumerate(items):\n",
    "        if type(val) == str:\n",
    "            sum_string += val\n",
    "        elif type(val) == int:\n",
    "            sum_digit += val\n",
    "\n",
    "    return sum_string, sum_digit\n",
    "\n",
    "\n",
    "print(\"Example:\")\n",
    "print(list(sum_by_types([\"1\", 2, 3])))\n",
    "\n",
    "assert list(sum_by_types([])) == [\"\", 0]\n",
    "assert list(sum_by_types([1, 2, 3])) == [\"\", 6]\n",
    "assert list(sum_by_types([\"1\", 2, 3])) == [\"1\", 5]\n",
    "assert list(sum_by_types([\"1\", \"2\", 3])) == [\"12\", 3]\n",
    "assert list(sum_by_types([\"1\", \"2\", \"3\"])) == [\"123\", 0]\n",
    "assert list(sum_by_types([\"size\", 12, \"in\", 45, 0])) == [\"sizein\", 57]\n",
    "print(\"Done\")\n",
    "\n"
   ],
   "id": "fb96e4687e373560",
   "outputs": [
    {
     "name": "stdout",
     "output_type": "stream",
     "text": [
      "Example:\n",
      "['1', 5]\n",
      "Done\n"
     ]
    }
   ],
   "execution_count": 53
  },
  {
   "metadata": {
    "ExecuteTime": {
     "end_time": "2024-04-28T10:44:49.359805Z",
     "start_time": "2024-04-28T10:44:49.354612Z"
    }
   },
   "cell_type": "code",
   "source": [
    "}\n",
    "\n",
    "def isometric_strings(a: str, b: str) -> bool:\n",
    "    result = {}\n",
    "    for i, j in zip(a, b):\n",
    "        if i not in result:\n",
    "            result[i] = j\n",
    "        else:\n",
    "            if result[i] != j:\n",
    "                return False\n",
    "            else:\n",
    "                continue\n",
    "    return True\n",
    "\n",
    "\n",
    "print(\"Example:\")\n",
    "print(isometric_strings(\"add\", \"egg\"))\n",
    "\n",
    "# These \"asserts\" are used for self-checking\n",
    "assert isometric_strings(\"add\", \"egg\") == True\n",
    "assert isometric_strings(\"foo\", \"bar\") == False\n",
    "assert isometric_strings(\"bar\", \"foo\") == True\n",
    "assert isometric_strings(\"\", \"\") == True\n",
    "assert isometric_strings(\"all\", \"all\") == True\n",
    "assert isometric_strings(\"gogopy\", \"doodle\") == False\n",
    "assert isometric_strings(\"abba\", \"cccc\") == True\n",
    "\n",
    "\n"
   ],
   "id": "1f84de80e46c387c",
   "outputs": [
    {
     "name": "stdout",
     "output_type": "stream",
     "text": [
      "Example:\n",
      "True\n"
     ]
    }
   ],
   "execution_count": 21
  },
  {
   "metadata": {
    "ExecuteTime": {
     "end_time": "2024-04-28T10:40:52.531624Z",
     "start_time": "2024-04-28T10:40:52.529316Z"
    }
   },
   "cell_type": "code",
   "source": "",
   "id": "f1ee14ecb4443a6a",
   "outputs": [],
   "execution_count": 8
  },
  {
   "metadata": {
    "ExecuteTime": {
     "end_time": "2024-04-23T06:56:25.456435Z",
     "start_time": "2024-04-23T06:56:25.442342Z"
    }
   },
   "cell_type": "code",
   "source": [
    "def split_pairs(text):\n",
    "    if len(text) % 2 != 0:\n",
    "        text += '_'\n",
    "    result = []\n",
    "    while len(text) > 0:\n",
    "        result.append(text[:2])\n",
    "        text = text[2:]\n",
    "    return result\n",
    "\n",
    "\n",
    "print(\"Example:\")\n",
    "print(list(split_pairs(\"abd\")))"
   ],
   "id": "e7baabb7333d6323",
   "outputs": [
    {
     "name": "stdout",
     "output_type": "stream",
     "text": [
      "Example:\n",
      "['ab', 'd_']\n"
     ]
    }
   ],
   "execution_count": 123
  },
  {
   "metadata": {
    "ExecuteTime": {
     "end_time": "2024-04-23T07:10:33.167686Z",
     "start_time": "2024-04-23T07:10:33.145864Z"
    }
   },
   "cell_type": "code",
   "source": [
    "import re\n",
    "\n",
    "\n",
    "def correct_sentence(text: str) -> str:\n",
    "    if len(text) > 0:\n",
    "        text = text[0].upper() + text[1:]\n",
    "        if text[-1] != '.':\n",
    "            text += '.'\n",
    "    return text\n",
    "\n",
    "\n",
    "print(\"Example:\")\n",
    "print(correct_sentence(\"greetings, friends\"))\n",
    "\n",
    "# These \"asserts\" are used for self-checking\n",
    "assert correct_sentence(\"greetings, friends\") == \"Greetings, friends.\"\n",
    "assert correct_sentence(\"Greetings, friends\") == \"Greetings, friends.\"\n",
    "assert correct_sentence(\"Greetings, friends.\") == \"Greetings, friends.\"\n",
    "assert correct_sentence(\"greetings, friends.\") == \"Greetings, friends.\"\n",
    "\n",
    "print(\"The mission is done! Click 'Check Solution' to earn rewards!\")\n"
   ],
   "id": "772269fe1142a445",
   "outputs": [
    {
     "name": "stdout",
     "output_type": "stream",
     "text": [
      "Example:\n",
      "Greetings, friends.\n",
      "The mission is done! Click 'Check Solution' to earn rewards!\n"
     ]
    }
   ],
   "execution_count": 138
  },
  {
   "metadata": {
    "ExecuteTime": {
     "end_time": "2024-04-23T05:47:10.972224Z",
     "start_time": "2024-04-23T05:47:10.964766Z"
    }
   },
   "cell_type": "code",
   "source": [
    "from datetime import datetime, timedelta\n",
    "\n",
    "\n",
    "def sum_light(els):\n",
    "    \"\"\"\n",
    "    how long the light bulb has been turned on\n",
    "    \"\"\"\n",
    "    els_on = els[0::2]\n",
    "    els_off = els[1::2]\n",
    "    s = timedelta()\n",
    "    for on, off in zip(els_on, els_off):\n",
    "        s += (off - on)\n",
    "    return s.total_seconds()\n",
    "\n",
    "\n",
    "if __name__ == \"__main__\":\n",
    "    print(\n",
    "        sum_light([\n",
    "            datetime(2015, 1, 12, 10, 0, 0),\n",
    "            datetime(2015, 1, 12, 10, 0, 10),\n",
    "            datetime(2015, 1, 12, 11, 0, 0),\n",
    "            datetime(2015, 1, 13, 11, 0, 0)\n",
    "        ])\n",
    "    )\n"
   ],
   "id": "edef3ea6fcd87869",
   "outputs": [
    {
     "name": "stdout",
     "output_type": "stream",
     "text": [
      "86410.0\n"
     ]
    }
   ],
   "execution_count": 89
  },
  {
   "metadata": {},
   "cell_type": "code",
   "outputs": [],
   "execution_count": null,
   "source": "",
   "id": "8350348dece7635b"
  },
  {
   "metadata": {
    "ExecuteTime": {
     "end_time": "2024-04-23T05:21:52.619878Z",
     "start_time": "2024-04-23T05:21:52.613384Z"
    }
   },
   "cell_type": "code",
   "source": [
    "def is_ascending(items: list[int]) -> bool:\n",
    "    return sorted(set(items)) == set(items)\n",
    "\n",
    "\n",
    "print(\"Example:\")\n",
    "print(is_ascending([-5, -6]))"
   ],
   "id": "114058f6716cf097",
   "outputs": [
    {
     "name": "stdout",
     "output_type": "stream",
     "text": [
      "Example:\n",
      "False\n"
     ]
    }
   ],
   "execution_count": 57
  },
  {
   "metadata": {},
   "cell_type": "code",
   "outputs": [],
   "execution_count": null,
   "source": [
    "import re\n",
    "\n",
    "\n",
    "def is_all_upper(text: str) -> bool:\n",
    "    # your code here\n",
    "    #text = text.strip(' ')\n",
    "    a = re.sub(r'[\\d\\s]+', '', text)\n",
    "    if len(a) > 0:\n",
    "        return a.upper() == a\n",
    "    else:\n",
    "        return False\n",
    "\n",
    "\n",
    "print(\"Example:\")\n",
    "print(is_all_upper(\"123 456\"))"
   ],
   "id": "4fc38775718a1896"
  },
  {
   "metadata": {
    "ExecuteTime": {
     "end_time": "2024-04-21T04:20:15.256950Z",
     "start_time": "2024-04-21T04:20:15.249598Z"
    }
   },
   "cell_type": "code",
   "source": [
    "def missing_number(items: list[int]) -> int:\n",
    "    item = sorted(items)\n",
    "    for i in range(len(item)):\n",
    "        if item[i + 1] - item[i] != item[i + 2] - item[i + 1]:\n",
    "            return item[i + 2] - (item[i + 1] - item[i])\n",
    "\n",
    "\n",
    "print(\"Example:\")\n",
    "print(missing_number([1, 4, 2, 5]))"
   ],
   "id": "27566cdde57ccbde",
   "outputs": [
    {
     "name": "stdout",
     "output_type": "stream",
     "text": [
      "Example:\n",
      "3\n"
     ]
    }
   ],
   "execution_count": 9
  },
  {
   "metadata": {
    "ExecuteTime": {
     "end_time": "2024-04-21T04:40:36.476552Z",
     "start_time": "2024-04-21T04:40:36.470810Z"
    }
   },
   "cell_type": "code",
   "source": [
    "def replace_all(mainText: str, target: str, repl: str) -> str:\n",
    "    # your code here\n",
    "    mainText = mainText.replace(target, repl)\n",
    "    return mainText\n",
    "\n",
    "\n",
    "print(\"Example:\")\n",
    "print(replace_all(\"hello world\", \"world\", \"TypeScript\"))\n",
    "\n",
    "# These \"asserts\" are used for self-checking\n",
    "assert replace_all(\"hello world\", \"world\", \"TypeScript\") == \"hello TypeScript\"\n",
    "assert (\n",
    "        replace_all(\"hello world world\", \"world\", \"TypeScript\")\n",
    "        == \"hello TypeScript TypeScript\"\n",
    ")\n",
    "assert replace_all(\"TypeScript is fun\", \"fun\", \"awesome\") == \"TypeScript is awesome\"\n",
    "assert replace_all(\"aaa\", \"a\", \"b\") == \"bbb\"\n",
    "assert replace_all(\"replace all the all\", \"all\", \"some\") == \"replace some the some\"\n",
    "assert replace_all(\"nothing to replace\", \"something\", \"nothing\") == \"nothing to replace\"\n",
    "assert replace_all(\"same same same\", \"same\", \"same\") == \"same same same\"\n",
    "assert replace_all(\"123 123\", \"123\", \"321\") == \"321 321\"\n",
    "assert replace_all(\"OpenAI\", \"AI\", \"Source\") == \"OpenSource\"\n",
    "assert replace_all(\"\", \"anything\", \"nothing\") == \"\"\n",
    "\n",
    "print(\"The mission is done! Click 'Check Solution' to earn rewards!\")\n"
   ],
   "id": "e0f55af25e88edb8",
   "outputs": [
    {
     "name": "stdout",
     "output_type": "stream",
     "text": [
      "Example:\n",
      "hello TypeScript\n",
      "The mission is done! Click 'Check Solution' to earn rewards!\n"
     ]
    }
   ],
   "execution_count": 16
  },
  {
   "metadata": {
    "ExecuteTime": {
     "end_time": "2024-04-21T04:32:52.484322Z",
     "start_time": "2024-04-21T04:32:52.481240Z"
    }
   },
   "cell_type": "code",
   "source": [
    "def is_majority(items: list[bool]) -> bool:\n",
    "    print(items.count(True))\n",
    "\n",
    "\n",
    "print(\"Example:\")\n",
    "print(is_majority([True, True, False, True, False]))"
   ],
   "id": "c5b35ed34e7af19a",
   "outputs": [
    {
     "name": "stdout",
     "output_type": "stream",
     "text": [
      "Example:\n",
      "3\n",
      "None\n"
     ]
    }
   ],
   "execution_count": 14
  },
  {
   "metadata": {
    "ExecuteTime": {
     "end_time": "2024-04-21T04:25:56.035950Z",
     "start_time": "2024-04-21T04:25:56.029440Z"
    }
   },
   "cell_type": "code",
   "source": [
    "def index_power(ar: list[int], n: int) -> int:\n",
    "    # your code here\n",
    "    if len(ar) <= n:\n",
    "        return -1\n",
    "    else:\n",
    "        return ar[n] ** n\n",
    "\n",
    "\n",
    "print(\"Example:\")\n",
    "print(index_power([1, 2, 3], 2))\n",
    "\n",
    "# These \"asserts\" are used for self-checking\n",
    "assert index_power([1, 2, 3, 4], 2) == 9\n",
    "assert index_power([1, 3, 10, 100], 3) == 1000000\n",
    "assert index_power([0, 1], 0) == 1\n",
    "assert index_power([1, 2], 3) == -1"
   ],
   "id": "7fe780018952d8eb",
   "outputs": [
    {
     "name": "stdout",
     "output_type": "stream",
     "text": [
      "Example:\n",
      "9\n"
     ]
    }
   ],
   "execution_count": 11
  },
  {
   "cell_type": "code",
   "id": "initial_id",
   "metadata": {
    "collapsed": true,
    "ExecuteTime": {
     "end_time": "2024-04-16T07:23:13.986579Z",
     "start_time": "2024-04-16T07:23:13.978150Z"
    }
   },
   "source": [
    "#sorting by absolute value \n",
    "def checkio(values: list) -> list:\n",
    "    return sorted(values, key=lambda x: abs(x))\n",
    "\n",
    "\n",
    "print(\"Example:\")\n",
    "print(checkio([-20, -5, 10, 15]))\n",
    "\n",
    "# These \"asserts\" are used for self-checking\n",
    "assert checkio([-20, -5, 10, 15]) == [-5, 10, 15, -20]\n",
    "assert checkio([1, 2, 3, 0]) == [0, 1, 2, 3]\n",
    "assert checkio([-1, -2, -3, 0]) == [0, -1, -2, -3]\n",
    "\n",
    "print(\"The mission is done! Click 'Check Solution' to earn rewards!\")\n"
   ],
   "outputs": [
    {
     "name": "stdout",
     "output_type": "stream",
     "text": [
      "Example:\n",
      "[-5, 10, 15, -20]\n",
      "The mission is done! Click 'Check Solution' to earn rewards!\n"
     ]
    }
   ],
   "execution_count": 2
  },
  {
   "metadata": {
    "ExecuteTime": {
     "end_time": "2024-04-16T07:30:42.230716Z",
     "start_time": "2024-04-16T07:30:42.223906Z"
    }
   },
   "cell_type": "code",
   "source": [
    "import re\n",
    "\n",
    "\n",
    "def count_vowels(text: str) -> int:\n",
    "    return len(re.findall(\"[aeiou]\", text, re.IGNORECASE))\n",
    "\n",
    "\n",
    "print(\"Example:\")\n",
    "print(count_vowels(\"Hello\"))\n",
    "\n",
    "# These \"asserts\" are used for self-checking\n",
    "assert count_vowels(\"hello\") == 2\n",
    "assert count_vowels(\"openai\") == 4\n",
    "assert count_vowels(\"typescript\") == 2\n",
    "assert count_vowels(\"a\") == 1\n",
    "assert count_vowels(\"b\") == 0\n",
    "assert count_vowels(\"aeiou\") == 5\n",
    "assert count_vowels(\"AEIOU\") == 5\n",
    "assert count_vowels(\"The quick brown fox\") == 5\n",
    "assert count_vowels(\"Jumps over the lazy dog\") == 6\n",
    "assert count_vowels(\"\") == 0\n",
    "\n",
    "print(\"The mission is done! Click 'Check Solution' to earn rewards!\")"
   ],
   "id": "820b56354b556f4b",
   "outputs": [
    {
     "name": "stdout",
     "output_type": "stream",
     "text": [
      "Example:\n",
      "2\n",
      "The mission is done! Click 'Check Solution' to earn rewards!\n"
     ]
    }
   ],
   "execution_count": 11
  },
  {
   "metadata": {
    "ExecuteTime": {
     "end_time": "2024-04-16T07:39:19.396078Z",
     "start_time": "2024-04-16T07:39:19.389856Z"
    }
   },
   "cell_type": "code",
   "source": [
    "from typing import Any, Iterable\n",
    "import numpy as np\n",
    "\n",
    "\n",
    "def split_list(items: list[Any]) -> Iterable[list[Any]]:\n",
    "    base_len = int(np.ceil(len(items) / 2))\n",
    "    new_list = list([items[0:base_len], items[base_len:len(items)]])\n",
    "    return new_list\n",
    "\n",
    "\n",
    "print(\"Example:\")\n",
    "print(list(split_list([])))\n",
    "assert list(split_list([1, 2, 3])) == [[1, 2], [3]]\n",
    "assert list(split_list([\"banana\", \"apple\", \"orange\", \"cherry\", \"watermelon\"])) == [\n",
    "    [\"banana\", \"apple\", \"orange\"],\n",
    "    [\"cherry\", \"watermelon\"],\n",
    "]\n",
    "assert list(split_list([1])) == [[1], []]\n",
    "\n"
   ],
   "id": "c4b3eb4e135e1bec",
   "outputs": [
    {
     "name": "stdout",
     "output_type": "stream",
     "text": [
      "Example:\n",
      "[[], []]\n"
     ]
    }
   ],
   "execution_count": 28
  },
  {
   "metadata": {
    "ExecuteTime": {
     "end_time": "2024-04-16T08:09:24.374898Z",
     "start_time": "2024-04-16T08:09:24.369596Z"
    }
   },
   "cell_type": "code",
   "source": [
    "from datetime import datetime\n",
    "\n",
    "\n",
    "def date_time(time: str) -> str:\n",
    "    t = datetime.strptime(time, '%d.%m.%Y %H:%M')\n",
    "    return t.strftime(f'%-d %B %Y year %-H hour{\"s\" if t.hour != 1 else \"\"} %-M minute{\"s\" if t.minute != 1 else \"\"}')\n",
    "\n",
    "\n",
    "print(\"Example:\")\n",
    "print(date_time(\"01.01.2000 00:00\"))\n",
    "\n",
    "assert date_time(\"01.01.2000 00:00\") == \"1 January 2000 year 0 hours 0 minutes\"\n",
    "assert date_time(\"09.05.1945 06:07\") == \"9 May 1945 year 6 hours 7 minutes\"\n",
    "\n",
    "print(\"The mission is done! Click 'Check Solution' to earn rewards!\")\n"
   ],
   "id": "67d1ed6448e64319",
   "outputs": [
    {
     "name": "stdout",
     "output_type": "stream",
     "text": [
      "Example:\n",
      "1 January 2000 year 0 hours 0 minutes\n",
      "The mission is done! Click 'Check Solution' to earn rewards!\n"
     ]
    }
   ],
   "execution_count": 74
  },
  {
   "metadata": {
    "ExecuteTime": {
     "end_time": "2024-04-18T05:58:10.459017Z",
     "start_time": "2024-04-18T05:58:10.448945Z"
    }
   },
   "cell_type": "code",
   "source": [
    "from typing import Iterable\n",
    "\n",
    "\n",
    "def replace_last(line: list) -> Iterable:\n",
    "    if len(line) > 1:\n",
    "        x1 = line.pop(-1)\n",
    "        line.insert(0, x1)\n",
    "        return line\n",
    "    else:\n",
    "        return line\n",
    "\n",
    "\n",
    "print(\"Example:\")\n",
    "print(list(replace_last([])))"
   ],
   "id": "f723181f9f39accc",
   "outputs": [
    {
     "name": "stdout",
     "output_type": "stream",
     "text": [
      "Example:\n",
      "[]\n"
     ]
    }
   ],
   "execution_count": 13
  },
  {
   "metadata": {},
   "cell_type": "code",
   "outputs": [],
   "execution_count": null,
   "source": "",
   "id": "83993c9e314e86a3"
  },
  {
   "metadata": {
    "ExecuteTime": {
     "end_time": "2024-04-23T12:19:06.025766Z",
     "start_time": "2024-04-23T08:35:23.344750Z"
    }
   },
   "cell_type": "code",
   "source": [
    "class Node:\n",
    "    def __init__(self, data):\n",
    "        self.data = data\n",
    "        self.next = None\n",
    "\n",
    "\n",
    "class Solution:\n",
    "    def display(self, head):\n",
    "        current = head\n",
    "        while current:\n",
    "            print(current.data, end=' ')\n",
    "            current = current.next\n",
    "\n",
    "    def insert(self, head, data):\n",
    "        if head is None:\n",
    "            head = Node(data)\n",
    "        else:\n",
    "            current = head\n",
    "            while current.next:\n",
    "                current = current.next\n",
    "            current.next = Node(data)\n",
    "        return head\n",
    "\n",
    "\n",
    "# End of Solution class\n",
    "\n",
    "mylist = Solution()\n",
    "T = int(input(\"Enter the number of elements: \"))\n",
    "head = None\n",
    "for i in range(T):\n",
    "    data = int(input(\"Enter data for node {}: \".format(i + 1)))\n",
    "    head = mylist.insert(head, data)\n",
    "\n",
    "mylist.display(head)\n"
   ],
   "id": "d3b5de683ee8221f",
   "outputs": [
    {
     "ename": "KeyboardInterrupt",
     "evalue": "",
     "output_type": "error",
     "traceback": [
      "\u001B[0;31m---------------------------------------------------------------------------\u001B[0m",
      "\u001B[0;31mKeyboardInterrupt\u001B[0m                         Traceback (most recent call last)",
      "Cell \u001B[0;32mIn[1], line 30\u001B[0m\n\u001B[1;32m     28\u001B[0m \u001B[38;5;28;01mfor\u001B[39;00m i \u001B[38;5;129;01min\u001B[39;00m \u001B[38;5;28mrange\u001B[39m(T):\n\u001B[1;32m     29\u001B[0m     data \u001B[38;5;241m=\u001B[39m \u001B[38;5;28mint\u001B[39m(\u001B[38;5;28minput\u001B[39m(\u001B[38;5;124m\"\u001B[39m\u001B[38;5;124mEnter data for node \u001B[39m\u001B[38;5;132;01m{}\u001B[39;00m\u001B[38;5;124m: \u001B[39m\u001B[38;5;124m\"\u001B[39m\u001B[38;5;241m.\u001B[39mformat(i \u001B[38;5;241m+\u001B[39m \u001B[38;5;241m1\u001B[39m)))\n\u001B[0;32m---> 30\u001B[0m     head \u001B[38;5;241m=\u001B[39m \u001B[43mmylist\u001B[49m\u001B[38;5;241;43m.\u001B[39;49m\u001B[43minsert\u001B[49m\u001B[43m(\u001B[49m\u001B[43mhead\u001B[49m\u001B[43m,\u001B[49m\u001B[43m \u001B[49m\u001B[43mdata\u001B[49m\u001B[43m)\u001B[49m\n\u001B[1;32m     32\u001B[0m mylist\u001B[38;5;241m.\u001B[39mdisplay(head)\n",
      "Cell \u001B[0;32mIn[1], line 14\u001B[0m, in \u001B[0;36mSolution.insert\u001B[0;34m(self, head, data)\u001B[0m\n\u001B[1;32m     13\u001B[0m \u001B[38;5;28;01mdef\u001B[39;00m \u001B[38;5;21minsert\u001B[39m(\u001B[38;5;28mself\u001B[39m, head, data):\n\u001B[0;32m---> 14\u001B[0m     \u001B[38;5;28;01mif\u001B[39;00m \u001B[43mhead\u001B[49m \u001B[38;5;129;01mis\u001B[39;00m \u001B[38;5;28;01mNone\u001B[39;00m:\n\u001B[1;32m     15\u001B[0m         head \u001B[38;5;241m=\u001B[39m Node(data)\n\u001B[1;32m     16\u001B[0m     \u001B[38;5;28;01melse\u001B[39;00m:\n",
      "Cell \u001B[0;32mIn[1], line 14\u001B[0m, in \u001B[0;36mSolution.insert\u001B[0;34m(self, head, data)\u001B[0m\n\u001B[1;32m     13\u001B[0m \u001B[38;5;28;01mdef\u001B[39;00m \u001B[38;5;21minsert\u001B[39m(\u001B[38;5;28mself\u001B[39m, head, data):\n\u001B[0;32m---> 14\u001B[0m     \u001B[38;5;28;01mif\u001B[39;00m \u001B[43mhead\u001B[49m \u001B[38;5;129;01mis\u001B[39;00m \u001B[38;5;28;01mNone\u001B[39;00m:\n\u001B[1;32m     15\u001B[0m         head \u001B[38;5;241m=\u001B[39m Node(data)\n\u001B[1;32m     16\u001B[0m     \u001B[38;5;28;01melse\u001B[39;00m:\n",
      "File \u001B[0;32m_pydevd_bundle/pydevd_cython_darwin_39_64.pyx:1187\u001B[0m, in \u001B[0;36m_pydevd_bundle.pydevd_cython_darwin_39_64.SafeCallWrapper.__call__\u001B[0;34m()\u001B[0m\n",
      "File \u001B[0;32m_pydevd_bundle/pydevd_cython_darwin_39_64.pyx:627\u001B[0m, in \u001B[0;36m_pydevd_bundle.pydevd_cython_darwin_39_64.PyDBFrame.trace_dispatch\u001B[0;34m()\u001B[0m\n",
      "File \u001B[0;32m_pydevd_bundle/pydevd_cython_darwin_39_64.pyx:1103\u001B[0m, in \u001B[0;36m_pydevd_bundle.pydevd_cython_darwin_39_64.PyDBFrame.trace_dispatch\u001B[0;34m()\u001B[0m\n",
      "File \u001B[0;32m_pydevd_bundle/pydevd_cython_darwin_39_64.pyx:1061\u001B[0m, in \u001B[0;36m_pydevd_bundle.pydevd_cython_darwin_39_64.PyDBFrame.trace_dispatch\u001B[0;34m()\u001B[0m\n",
      "File \u001B[0;32m~/Library/Application Support/JetBrains/Toolbox/apps/PyCharm-P/ch-0/241.14494.241/PyCharm.app/Contents/plugins/python/helpers-pro/jupyter_debug/pydev_jupyter_plugin.py:169\u001B[0m, in \u001B[0;36mstop\u001B[0;34m(plugin, pydb, frame, event, args, stop_info, arg, step_cmd)\u001B[0m\n\u001B[1;32m    167\u001B[0m     frame \u001B[38;5;241m=\u001B[39m suspend_jupyter(main_debugger, thread, frame, step_cmd)\n\u001B[1;32m    168\u001B[0m     \u001B[38;5;28;01mif\u001B[39;00m frame:\n\u001B[0;32m--> 169\u001B[0m         \u001B[43mmain_debugger\u001B[49m\u001B[38;5;241;43m.\u001B[39;49m\u001B[43mdo_wait_suspend\u001B[49m\u001B[43m(\u001B[49m\u001B[43mthread\u001B[49m\u001B[43m,\u001B[49m\u001B[43m \u001B[49m\u001B[43mframe\u001B[49m\u001B[43m,\u001B[49m\u001B[43m \u001B[49m\u001B[43mevent\u001B[49m\u001B[43m,\u001B[49m\u001B[43m \u001B[49m\u001B[43marg\u001B[49m\u001B[43m)\u001B[49m\n\u001B[1;32m    170\u001B[0m         \u001B[38;5;28;01mreturn\u001B[39;00m \u001B[38;5;28;01mTrue\u001B[39;00m\n\u001B[1;32m    171\u001B[0m \u001B[38;5;28;01mreturn\u001B[39;00m \u001B[38;5;28;01mFalse\u001B[39;00m\n",
      "File \u001B[0;32m~/Library/Application Support/JetBrains/Toolbox/apps/PyCharm-P/ch-0/241.14494.241/PyCharm.app/Contents/plugins/python/helpers/pydev/pydevd.py:1185\u001B[0m, in \u001B[0;36mPyDB.do_wait_suspend\u001B[0;34m(self, thread, frame, event, arg, send_suspend_message, is_unhandled_exception)\u001B[0m\n\u001B[1;32m   1182\u001B[0m         from_this_thread\u001B[38;5;241m.\u001B[39mappend(frame_id)\n\u001B[1;32m   1184\u001B[0m \u001B[38;5;28;01mwith\u001B[39;00m \u001B[38;5;28mself\u001B[39m\u001B[38;5;241m.\u001B[39m_threads_suspended_single_notification\u001B[38;5;241m.\u001B[39mnotify_thread_suspended(thread_id, stop_reason):\n\u001B[0;32m-> 1185\u001B[0m     \u001B[38;5;28;43mself\u001B[39;49m\u001B[38;5;241;43m.\u001B[39;49m\u001B[43m_do_wait_suspend\u001B[49m\u001B[43m(\u001B[49m\u001B[43mthread\u001B[49m\u001B[43m,\u001B[49m\u001B[43m \u001B[49m\u001B[43mframe\u001B[49m\u001B[43m,\u001B[49m\u001B[43m \u001B[49m\u001B[43mevent\u001B[49m\u001B[43m,\u001B[49m\u001B[43m \u001B[49m\u001B[43marg\u001B[49m\u001B[43m,\u001B[49m\u001B[43m \u001B[49m\u001B[43msuspend_type\u001B[49m\u001B[43m,\u001B[49m\u001B[43m \u001B[49m\u001B[43mfrom_this_thread\u001B[49m\u001B[43m)\u001B[49m\n",
      "File \u001B[0;32m~/Library/Application Support/JetBrains/Toolbox/apps/PyCharm-P/ch-0/241.14494.241/PyCharm.app/Contents/plugins/python/helpers/pydev/pydevd.py:1200\u001B[0m, in \u001B[0;36mPyDB._do_wait_suspend\u001B[0;34m(self, thread, frame, event, arg, suspend_type, from_this_thread)\u001B[0m\n\u001B[1;32m   1197\u001B[0m             \u001B[38;5;28mself\u001B[39m\u001B[38;5;241m.\u001B[39m_call_mpl_hook()\n\u001B[1;32m   1199\u001B[0m         \u001B[38;5;28mself\u001B[39m\u001B[38;5;241m.\u001B[39mprocess_internal_commands()\n\u001B[0;32m-> 1200\u001B[0m         \u001B[43mtime\u001B[49m\u001B[38;5;241;43m.\u001B[39;49m\u001B[43msleep\u001B[49m\u001B[43m(\u001B[49m\u001B[38;5;241;43m0.01\u001B[39;49m\u001B[43m)\u001B[49m\n\u001B[1;32m   1202\u001B[0m \u001B[38;5;28mself\u001B[39m\u001B[38;5;241m.\u001B[39mcancel_async_evaluation(get_current_thread_id(thread), \u001B[38;5;28mstr\u001B[39m(\u001B[38;5;28mid\u001B[39m(frame)))\n\u001B[1;32m   1204\u001B[0m \u001B[38;5;66;03m# process any stepping instructions\u001B[39;00m\n",
      "\u001B[0;31mKeyboardInterrupt\u001B[0m: "
     ]
    }
   ],
   "execution_count": 1
  },
  {
   "metadata": {
    "ExecuteTime": {
     "end_time": "2024-04-18T06:24:23.796385Z",
     "start_time": "2024-04-18T06:24:23.783014Z"
    }
   },
   "cell_type": "code",
   "source": [
    "MORSE = {\n",
    "    \".-\": \"a\",\n",
    "    \"-...\": \"b\",\n",
    "    \"-.-.\": \"c\",\n",
    "    \"-..\": \"d\",\n",
    "    \".\": \"e\",\n",
    "    \"..-.\": \"f\",\n",
    "    \"--.\": \"g\",\n",
    "    \"....\": \"h\",\n",
    "    \"..\": \"i\",\n",
    "    \".---\": \"j\",\n",
    "    \"-.-\": \"k\",\n",
    "    \".-..\": \"l\",\n",
    "    \"--\": \"m\",\n",
    "    \"-.\": \"n\",\n",
    "    \"---\": \"o\",\n",
    "    \".--.\": \"p\",\n",
    "    \"--.-\": \"q\",\n",
    "    \".-.\": \"r\",\n",
    "    \"...\": \"s\",\n",
    "    \"-\": \"t\",\n",
    "    \"..-\": \"u\",\n",
    "    \"...-\": \"v\",\n",
    "    \".--\": \"w\",\n",
    "    \"-..-\": \"x\",\n",
    "    \"-.--\": \"y\",\n",
    "    \"--..\": \"z\",\n",
    "    \"-----\": \"0\",\n",
    "    \".----\": \"1\",\n",
    "    \"..---\": \"2\",\n",
    "    \"...--\": \"3\",\n",
    "    \"....-\": \"4\",\n",
    "    \".....\": \"5\",\n",
    "    \"-....\": \"6\",\n",
    "    \"--...\": \"7\",\n",
    "    \"---..\": \"8\",\n",
    "    \"----.\": \"9\",\n",
    "}\n",
    "\n",
    "\n",
    "def morse_decoder(code: str) -> str:\n",
    "    return ' '.join((''.join(MORSE[i] for i in cod.split())) for cod in code.split('   ')).capitalize()\n",
    "\n",
    "\n",
    "print(\"Example:\")\n",
    "print(morse_decoder(\"... --- -- .   - . -..- -\"))\n",
    "# These \"asserts\" are used for self-checking\n",
    "assert morse_decoder(\"... --- -- .   - . -..- -\") == \"Some text\"\n",
    "assert (\n",
    "        morse_decoder(\"..   .-- .- ...   -... --- .-. -.   .. -.   .---- ----. ----. -----\")\n",
    "        == \"I was born in 1990\"\n",
    ")\n",
    "\n",
    "print(\"The mission is done! Click 'Check Solution' to earn rewards!\")"
   ],
   "id": "27cf13f89442d60",
   "outputs": [
    {
     "name": "stdout",
     "output_type": "stream",
     "text": [
      "Example:\n",
      "Some text\n",
      "The mission is done! Click 'Check Solution' to earn rewards!\n"
     ]
    }
   ],
   "execution_count": 24
  },
  {
   "metadata": {},
   "cell_type": "markdown",
   "source": "    return ' '.join(''.join([MORSE[i] for i in cod.split()]) for cod in code.split('   ')).capitalize()",
   "id": "a48884762f81b2fc"
  },
  {
   "metadata": {
    "ExecuteTime": {
     "end_time": "2024-04-18T06:29:38.040142Z",
     "start_time": "2024-04-18T06:29:38.035618Z"
    }
   },
   "cell_type": "code",
   "source": [
    "def remove_all_before(items: list, border: int) -> Iterable:\n",
    "    if border in items:\n",
    "        return items[items.index(border):len(items)]\n",
    "    else:\n",
    "        return items\n",
    "\n",
    "\n",
    "print(\"Example:\")\n",
    "print(list(remove_all_before([1, 1, 2, 2, 3, 3], 2)))"
   ],
   "id": "2945f0beecfaacd7",
   "outputs": [
    {
     "name": "stdout",
     "output_type": "stream",
     "text": [
      "Example:\n",
      "[2, 2, 3, 3]\n"
     ]
    }
   ],
   "execution_count": 37
  },
  {
   "metadata": {
    "ExecuteTime": {
     "end_time": "2024-04-18T06:34:34.893732Z",
     "start_time": "2024-04-18T06:34:34.888931Z"
    }
   },
   "cell_type": "code",
   "source": [
    "\n",
    "def replace_first(items: list) -> Iterable:\n",
    "    if items:\n",
    "        x1 = items.pop(0)\n",
    "        items.insert(len(items), x1)\n",
    "        return items\n",
    "    else:\n",
    "        return items\n",
    "\n",
    "\n",
    "# These \"asserts\" are used for self-checking\n",
    "print(\"Example:\")\n",
    "print(list(replace_first([1, 2, 3, 4])))\n",
    "\n",
    "assert replace_first([1, 2, 3, 4]) == [2, 3, 4, 1]\n",
    "assert replace_first([1]) == [1]\n",
    "assert replace_first([]) == []"
   ],
   "id": "59662be446602d9b",
   "outputs": [
    {
     "name": "stdout",
     "output_type": "stream",
     "text": [
      "Example:\n",
      "[2, 3, 4, 1]\n"
     ]
    }
   ],
   "execution_count": 41
  },
  {
   "metadata": {
    "ExecuteTime": {
     "end_time": "2024-04-18T06:44:18.618319Z",
     "start_time": "2024-04-18T06:44:18.611910Z"
    }
   },
   "cell_type": "code",
   "source": [
    "def max_digit(value: int) -> int:\n",
    "    s1 = set(str(value))\n",
    "    print(max(s1))\n",
    "\n",
    "\n",
    "print(\"Example:\")\n",
    "print(max_digit(10))"
   ],
   "id": "bf4cedef522b40a5",
   "outputs": [
    {
     "name": "stdout",
     "output_type": "stream",
     "text": [
      "Example:\n",
      "1\n",
      "None\n"
     ]
    }
   ],
   "execution_count": 60
  },
  {
   "metadata": {
    "ExecuteTime": {
     "end_time": "2024-04-18T07:01:12.856374Z",
     "start_time": "2024-04-18T07:01:12.845458Z"
    }
   },
   "cell_type": "code",
   "source": [
    "import re\n",
    "\n",
    "\n",
    "def beginning_zeros(a: str) -> int:\n",
    "    int_a = int(a)\n",
    "    if int_a != 0:\n",
    "        return len(a) - len(str(int_a))\n",
    "    else:\n",
    "        return len(a)\n",
    "\n",
    "\n",
    "print(\"Example:\")\n",
    "print(beginning_zeros(\"0000\"))\n",
    "\n",
    "# These \"asserts\" are used for self-checking\n",
    "assert beginning_zeros(\"100\") == 0\n",
    "assert beginning_zeros(\"001\") == 2\n",
    "assert beginning_zeros(\"100100\") == 0\n",
    "assert beginning_zeros(\"001001\") == 2\n",
    "assert beginning_zeros(\"012345679\") == 1\n",
    "assert beginning_zeros(\"0000\") == 4\n",
    "\n",
    "print(\"The mission is done! Click 'Check Solution' to earn rewards!\")"
   ],
   "id": "f99a253366464faf",
   "outputs": [
    {
     "name": "stdout",
     "output_type": "stream",
     "text": [
      "Example:\n",
      "4\n",
      "The mission is done! Click 'Check Solution' to earn rewards!\n"
     ]
    }
   ],
   "execution_count": 74
  },
  {
   "metadata": {
    "ExecuteTime": {
     "end_time": "2024-04-18T15:50:07.468553Z",
     "start_time": "2024-04-18T15:50:07.449984Z"
    }
   },
   "cell_type": "code",
   "source": [
    "def to_title_case(sentence: str) -> str:\n",
    "    return \" \".join(map(lambda x: x.capitalize(), sentence.split(' ')))\n",
    "\n",
    "\n",
    "print(\"Example:\")\n",
    "print(to_title_case(\"hello world\"))\n",
    "\n",
    "# These \"asserts\" are used for self-checking\n",
    "assert to_title_case(\"hello world\") == \"Hello World\"\n",
    "assert to_title_case(\"openai gpt-4\") == \"Openai Gpt-4\"\n",
    "assert to_title_case(\"this is a title\") == \"This Is A Title\"\n",
    "assert to_title_case(\"THE QUICK BROWN FOX\") == \"The Quick Brown Fox\"\n",
    "assert to_title_case(\"JUMPs ovER a LAZy dog\") == \"Jumps Over A Lazy Dog\"\n",
    "assert to_title_case(\"typescript is great\") == \"Typescript Is Great\"\n",
    "assert to_title_case(\"the answer is 42\") == \"The Answer Is 42\"\n",
    "assert to_title_case(\"to be or not to be\") == \"To Be Or Not To Be\"\n",
    "assert to_title_case(\"that is the question\") == \"That Is The Question\"\n",
    "assert to_title_case(\"\") == \"\"\n"
   ],
   "id": "37bc25514fcaff20",
   "outputs": [
    {
     "name": "stdout",
     "output_type": "stream",
     "text": [
      "Example:\n",
      "Hello World\n"
     ]
    }
   ],
   "execution_count": 82
  },
  {
   "metadata": {
    "ExecuteTime": {
     "end_time": "2024-04-20T03:11:21.286613Z",
     "start_time": "2024-04-20T03:11:21.280655Z"
    }
   },
   "cell_type": "code",
   "source": [
    "def words_order(text: str, words: list) -> bool:\n",
    "    if len(set(words)) < len(words):\n",
    "        return False\n",
    "    new_word = []\n",
    "    for w in text.split(' '):\n",
    "        if w in words and w not in new_word:\n",
    "            new_word.append(w)\n",
    "    return new_word == words\n",
    "\n",
    "\n",
    "# Test cases\n",
    "print(words_order(\"hi world im here\", [\"world\", \"here\"]))"
   ],
   "id": "9f11c1602e1c6295",
   "outputs": [
    {
     "name": "stdout",
     "output_type": "stream",
     "text": [
      "True\n"
     ]
    }
   ],
   "execution_count": 32
  },
  {
   "metadata": {
    "ExecuteTime": {
     "end_time": "2024-04-20T03:26:14.141Z",
     "start_time": "2024-04-20T03:26:14.133098Z"
    }
   },
   "cell_type": "code",
   "source": [
    "from functools import reduce\n",
    "\n",
    "\n",
    "def checkio(number: int) -> int:\n",
    "    a = [int(dig) for dig in str(number).replace('0', '')]\n",
    "    return reduce((lambda x, y: x * y), a)\n",
    "\n",
    "\n",
    "print(\"Example:\")\n",
    "print(checkio(1234005))"
   ],
   "id": "cb35986df2a75048",
   "outputs": [
    {
     "name": "stdout",
     "output_type": "stream",
     "text": [
      "Example:\n",
      "120\n"
     ]
    }
   ],
   "execution_count": 68
  },
  {
   "metadata": {
    "ExecuteTime": {
     "end_time": "2024-04-20T03:30:33.176347Z",
     "start_time": "2024-04-20T03:30:33.169806Z"
    }
   },
   "cell_type": "code",
   "source": [
    "# Taken from mission Acceptable Password I\n",
    "import re\n",
    "\n",
    "\n",
    "def is_acceptable_password(password: str) -> bool:\n",
    "    # your code here\n",
    "    if len(list(password)) > 6 and re.findall(\"[0-9]\", str(password)):\n",
    "        return True\n",
    "    else:\n",
    "        return False\n",
    "\n",
    "\n",
    "print(is_acceptable_password(\"shorttt9\"))\n",
    "\n"
   ],
   "id": "d1a46a08d7cc0e60",
   "outputs": [
    {
     "name": "stdout",
     "output_type": "stream",
     "text": [
      "True\n"
     ]
    }
   ],
   "execution_count": 73
  },
  {
   "metadata": {
    "ExecuteTime": {
     "end_time": "2024-04-20T03:32:30.497454Z",
     "start_time": "2024-04-20T03:32:30.479921Z"
    }
   },
   "cell_type": "code",
   "source": [
    "# Taken from mission Acceptable Password II\n",
    "\n",
    "# Taken from mission Acceptable Password I\n",
    "import re\n",
    "\n",
    "\n",
    "def is_acceptable_password(password: str) -> bool:\n",
    "    # your code here\n",
    "    if len(list(password)) > 6 and re.findall(\"[0-9]\", str(password)) and re.findall(\"[a-z]\", str(password)):\n",
    "        return True\n",
    "    else:\n",
    "        return False\n",
    "\n",
    "\n",
    "print(\"Example:\")\n",
    "print(is_acceptable_password(\"short\"))\n",
    "\n",
    "# These \"asserts\" are used for self-checking\n",
    "assert is_acceptable_password(\"short\") == False\n",
    "assert is_acceptable_password(\"muchlonger\") == False\n",
    "assert is_acceptable_password(\"ashort\") == False\n",
    "assert is_acceptable_password(\"muchlonger5\") == True\n",
    "assert is_acceptable_password(\"sh5\") == False\n",
    "assert is_acceptable_password(\"1234567\") == False\n",
    "\n",
    "print(\"The mission is done! Click 'Check Solution' to earn rewards!\")\n"
   ],
   "id": "62b45c61fa376b1e",
   "outputs": [
    {
     "name": "stdout",
     "output_type": "stream",
     "text": [
      "Example:\n",
      "False\n",
      "The mission is done! Click 'Check Solution' to earn rewards!\n"
     ]
    }
   ],
   "execution_count": 74
  },
  {
   "metadata": {},
   "cell_type": "code",
   "outputs": [
    {
     "name": "stdout",
     "output_type": "stream",
     "text": [
      "Example:\n",
      "False\n",
      "The mission is done! Click 'Check Solution' to earn rewards!\n"
     ]
    }
   ],
   "execution_count": 76,
   "source": [
    "# Taken from mission Acceptable Password III\n",
    "\n",
    "# Taken from mission Acceptable Password II\n",
    "# Taken from mission Acceptable Password I\n",
    "import re\n",
    "\n",
    "\n",
    "def is_acceptable_password(password: str) -> bool:\n",
    "    # your code here\n",
    "    if (len(list(password)) > 6 and len(list(password))) and re.findall(\"[0-9]\", str(password)) and re.findall(\"[a-z]\",\n",
    "                                                                                                               str(password)):\n",
    "        return True\n",
    "    elif len(list(password)) > 9:\n",
    "        return True\n",
    "    else:\n",
    "        return False\n",
    "\n",
    "\n",
    "print(\"Example:\")\n",
    "print(is_acceptable_password(\"short\"))\n",
    "\n",
    "# These \"asserts\" are used for self-checking\n",
    "assert is_acceptable_password(\"short\") == False\n",
    "assert is_acceptable_password(\"short54\") == True\n",
    "assert is_acceptable_password(\"muchlonger\") == True\n",
    "assert is_acceptable_password(\"ashort\") == False\n",
    "assert is_acceptable_password(\"notshort\") == False\n",
    "assert is_acceptable_password(\"muchlonger5\") == True\n",
    "assert is_acceptable_password(\"sh5\") == False\n",
    "assert is_acceptable_password(\"1234567\") == False\n",
    "assert is_acceptable_password(\"12345678910\") == True\n",
    "\n",
    "print(\"The mission is done! Click 'Check Solution' to earn rewards!\")"
   ],
   "id": "5281a3eae690778d"
  },
  {
   "metadata": {
    "ExecuteTime": {
     "end_time": "2024-04-20T03:40:33.096244Z",
     "start_time": "2024-04-20T03:40:33.090309Z"
    }
   },
   "cell_type": "code",
   "source": [
    "# Taken from mission Acceptable Password III\n",
    "\n",
    "# Taken from mission Acceptable Password II\n",
    "# Taken from mission Acceptable Password I\n",
    "import re\n",
    "\n",
    "\n",
    "def is_acceptable_password(password: str) -> bool:\n",
    "    # your code here\n",
    "    if (len(list(password)) > 6 and len(list(password))) and re.findall(\"[0-9]\", str(password)) and re.findall(\"[a-z]\",\n",
    "                                                                                                               str(password)) and not re.findall(\n",
    "            'password', str(password).lower()):\n",
    "        return True\n",
    "    elif len(list(password)) > 9 and not re.findall('password', str(password).lower()):\n",
    "        return True\n",
    "    else:\n",
    "        return False\n",
    "\n",
    "\n",
    "print(\"Example:\")\n",
    "print(is_acceptable_password(\"short\"))\n",
    "\n",
    "# These \"asserts\" are used for self-checking\n",
    "assert is_acceptable_password(\"short\") == False\n",
    "assert is_acceptable_password(\"short54\") == True\n",
    "assert is_acceptable_password(\"muchlonger\") == True\n",
    "assert is_acceptable_password(\"ashort\") == False\n",
    "assert is_acceptable_password(\"notshort\") == False\n",
    "assert is_acceptable_password(\"muchlonger5\") == True\n",
    "assert is_acceptable_password(\"sh5\") == False\n",
    "assert is_acceptable_password(\"1234567\") == False\n",
    "assert is_acceptable_password(\"PASSWORD12345\") == False\n",
    "\n",
    "print(\"The mission is done! Click 'Check Solution' to earn rewards!\")"
   ],
   "id": "9611aee8d338c9f4",
   "outputs": [
    {
     "name": "stdout",
     "output_type": "stream",
     "text": [
      "Example:\n",
      "False\n",
      "The mission is done! Click 'Check Solution' to earn rewards!\n"
     ]
    }
   ],
   "execution_count": 79
  },
  {
   "metadata": {
    "ExecuteTime": {
     "end_time": "2024-04-20T04:07:21.770885Z",
     "start_time": "2024-04-20T04:07:21.766524Z"
    }
   },
   "cell_type": "code",
   "source": [
    "import re\n",
    "\n",
    "\n",
    "def is_acceptable_password(password: str) -> bool:\n",
    "    # Condition 1: Length should be bigger than 6\n",
    "    if len(password) <= 6:\n",
    "        return False\n",
    "\n",
    "    # Condition 2: Should contain at least one digit, but cannot consist of just digits\n",
    "    if (password.isdigit() or password.isnumeric()) and len(password) < 9:\n",
    "        return False\n",
    "\n",
    "    # Condition 3: Having numbers or containing just numbers does not apply to the password longer than 9\n",
    "\n",
    "    # Condition 4: A string should not contain the word \"password\" in any case\n",
    "    if \"password\" in password.lower():\n",
    "        return False\n",
    "\n",
    "    # Condition 5: Must contain at least 3 different (case-sensitive) letters or digits even if it is longer than 10\n",
    "    unique_chars = set(password)\n",
    "    if len(unique_chars) < 3 and len(password) < 9:\n",
    "        return False\n",
    "\n",
    "    return True\n",
    "\n",
    "\n",
    "# Test cases\n",
    "print(is_acceptable_password(\"12345678910\"))  # False\n",
    "\n",
    "\n"
   ],
   "id": "bbf7eb288f99ec9b",
   "outputs": [
    {
     "name": "stdout",
     "output_type": "stream",
     "text": [
      "True\n"
     ]
    }
   ],
   "execution_count": 108
  },
  {
   "metadata": {
    "ExecuteTime": {
     "end_time": "2024-04-20T05:52:30.113473Z",
     "start_time": "2024-04-20T05:52:30.101763Z"
    }
   },
   "cell_type": "code",
   "source": [
    "def changing_direction(elements: list[int]) -> int:\n",
    "    # your code here\n",
    "    dirs = []\n",
    "    for i, j in zip(elements, elements[1:]):\n",
    "        print(i, j)\n",
    "\n",
    "\n",
    "print(\"Example:\")\n",
    "print(changing_direction([1, 2, 3, 2, 1]))"
   ],
   "id": "5b5edfc907de9844",
   "outputs": [
    {
     "name": "stdout",
     "output_type": "stream",
     "text": [
      "Example:\n",
      "1 2\n",
      "2 3\n",
      "3 2\n",
      "2 1\n",
      "None\n"
     ]
    }
   ],
   "execution_count": 115
  },
  {
   "metadata": {
    "ExecuteTime": {
     "end_time": "2024-04-20T09:06:29.854192Z",
     "start_time": "2024-04-20T09:06:29.846016Z"
    }
   },
   "cell_type": "code",
   "source": [
    "def longest_prefix(words: list[str]) -> str:\n",
    "    if not words:\n",
    "        return \"\"\n",
    "\n",
    "    prefix = \"\"\n",
    "    # Sort the words to ensure the shortest and longest are adjacent\n",
    "    words.sort(key=len)\n",
    "    for i, char in enumerate(words[0]):\n",
    "        if all(string[i] == char for string in words):\n",
    "            prefix += char\n",
    "\n",
    "    return prefix\n",
    "\n",
    "\n",
    "print(longest_prefix(['aaabc', 'aabc', 'abcddd']))  # Output: 'abc'\n"
   ],
   "id": "1bfe38ceec823e7c",
   "outputs": [
    {
     "name": "stdout",
     "output_type": "stream",
     "text": [
      "a\n"
     ]
    }
   ],
   "execution_count": 131
  },
  {
   "metadata": {
    "ExecuteTime": {
     "end_time": "2024-04-20T09:15:11.893612Z",
     "start_time": "2024-04-20T09:15:11.888089Z"
    }
   },
   "cell_type": "code",
   "source": [
    "def find_pais(words: list[str]) -> int:\n",
    "    reversed_words = [x[::-1] for x in words]\n",
    "    count = 0\n",
    "    for word in reversed_words:\n",
    "        if word in words:\n",
    "            count += .5\n",
    "\n",
    "    print(int(count))\n",
    "\n",
    "\n",
    "find_pais(['aaabc', 'ab', 'ba', 'abcddd'])"
   ],
   "id": "3fdcde542ea27437",
   "outputs": [
    {
     "name": "stdout",
     "output_type": "stream",
     "text": [
      "1\n"
     ]
    }
   ],
   "execution_count": 143
  },
  {
   "metadata": {
    "ExecuteTime": {
     "end_time": "2024-04-20T09:23:50.737948Z",
     "start_time": "2024-04-20T09:23:50.732396Z"
    }
   },
   "cell_type": "code",
   "source": [
    "def is_valid(s: str) -> bool:\n",
    "    stack = []\n",
    "    mapping = {')': '(', '}': '{', ']': '['}\n",
    "\n",
    "    for char in s:\n",
    "        if char in mapping.values():\n",
    "            stack.append(char)\n",
    "        elif char in mapping.keys():\n",
    "            if not stack or stack.pop() != mapping[char]:\n",
    "                return False\n",
    "        else:\n",
    "            # Ignore non-parentheses characters\n",
    "            continue\n",
    "\n",
    "    return len(stack) < 1\n",
    "\n",
    "\n",
    "print(is_valid(\"{[()]}}\"))  # Output: True\n"
   ],
   "id": "2a7ad25fb470eeb8",
   "outputs": [
    {
     "name": "stdout",
     "output_type": "stream",
     "text": [
      "False\n"
     ]
    }
   ],
   "execution_count": 147
  },
  {
   "metadata": {},
   "cell_type": "code",
   "outputs": [],
   "execution_count": null,
   "source": [
    "class Solution:\n",
    "    def getConcatenation(self, nums: List[int]) -> List[int]:\n",
    "        l = len(nums)\n",
    "        n = [None] * 2 * l\n",
    "\n",
    "        for i in range(len(nums)):\n",
    "            n[i] = nums[i]\n",
    "            n[i + l] = nums[i]"
   ],
   "id": "fd7ef4bf2e908814"
  },
  {
   "metadata": {},
   "cell_type": "code",
   "outputs": [],
   "execution_count": null,
   "source": "",
   "id": "ef25f5d01e6e5792"
  },
  {
   "metadata": {},
   "cell_type": "code",
   "outputs": [],
   "execution_count": null,
   "source": "",
   "id": "c3000f26388fe9f0"
  },
  {
   "metadata": {},
   "cell_type": "markdown",
   "source": "# Hacker Rank",
   "id": "cba1c0aa9e394e84"
  },
  {
   "metadata": {
    "ExecuteTime": {
     "end_time": "2024-04-23T16:03:44.753198Z",
     "start_time": "2024-04-23T16:03:41.740746Z"
    }
   },
   "cell_type": "code",
   "source": [
    "class Node:\n",
    "    def __init__(self, data):\n",
    "        self.data = data\n",
    "        self.next = None\n",
    "\n",
    "\n",
    "class Solution:\n",
    "    def display(self, head):\n",
    "        current = head\n",
    "        while current:\n",
    "            print(current.data, end=' ')\n",
    "            current = current.next\n",
    "\n",
    "    def insert(self, head, data):\n",
    "        if head == None:\n",
    "            head = Node(data)\n",
    "        else:\n",
    "            current = head\n",
    "            while current.next:\n",
    "                current = current.next\n",
    "            current.next = Node(data)\n",
    "        return head\n",
    "\n",
    "\n",
    "mylist = Solution()\n",
    "T = int(input())\n",
    "head = None\n",
    "for i in range(T):\n",
    "    data = int(input())\n",
    "    head = mylist.insert(head, data)\n",
    "mylist.display(head);"
   ],
   "id": "749892f3c375fef3",
   "outputs": [
    {
     "name": "stdout",
     "output_type": "stream",
     "text": [
      "1 2 "
     ]
    }
   ],
   "execution_count": 2
  },
  {
   "metadata": {
    "ExecuteTime": {
     "end_time": "2024-04-20T16:29:16.365659Z",
     "start_time": "2024-04-20T16:29:14.972026Z"
    }
   },
   "cell_type": "code",
   "source": [
    "#!/bin/python3\n",
    "\n",
    "import math\n",
    "import os\n",
    "import random\n",
    "import re\n",
    "import sys\n",
    "\n",
    "if __name__ == '__main__':\n",
    "    n = int(input().strip())\n",
    "    binary = bin(n)\n",
    "    m = -1\n",
    "    count = 0\n",
    "    for i in range(len(binary)):\n",
    "        if binary[i] == '1':\n",
    "            count += 1\n",
    "            m = max(m, count)\n",
    "        else:\n",
    "            m = max(m, count)\n",
    "            count = 0\n",
    "    print(m)\n",
    "\n"
   ],
   "id": "9b82d09fcdd652b0",
   "outputs": [
    {
     "name": "stdout",
     "output_type": "stream",
     "text": [
      "2\n"
     ]
    }
   ],
   "execution_count": 156
  },
  {
   "metadata": {},
   "cell_type": "code",
   "outputs": [],
   "execution_count": null,
   "source": "",
   "id": "76d2652d170d578a"
  },
  {
   "metadata": {
    "ExecuteTime": {
     "end_time": "2024-04-19T02:18:08.327862Z",
     "start_time": "2024-04-19T02:18:03.670711Z"
    }
   },
   "cell_type": "code",
   "source": [
    "#hacker rank\n",
    "import re\n",
    "import sys\n",
    "\n",
    "if __name__ == '__main__':\n",
    "    N = int(input().strip())\n",
    "    if (N & 1 == 1) or (N & 1 == 0 and (N >= 6 and N <= 20)):\n",
    "        print('Weird')\n",
    "    elif (N >= 2 and N <= 5) or N > 0:\n",
    "        print('Not Weird')\n",
    "\n"
   ],
   "id": "f70662c7a475545",
   "outputs": [
    {
     "name": "stdout",
     "output_type": "stream",
     "text": [
      "Weird\n"
     ]
    }
   ],
   "execution_count": 89
  },
  {
   "metadata": {
    "ExecuteTime": {
     "end_time": "2024-04-19T02:35:26.001380Z",
     "start_time": "2024-04-19T02:35:21.844637Z"
    }
   },
   "cell_type": "code",
   "source": [
    "class Person:\n",
    "    def __init__(self, initialAge):\n",
    "        if initialAge < 0:\n",
    "            print(\"Age is not valid, setting age to 0.\")\n",
    "            self.age = 0\n",
    "        else:\n",
    "            self.age = initialAge\n",
    "\n",
    "    def amIOld(self):\n",
    "        if self.age < 13:\n",
    "            print('You are young.')\n",
    "        elif 13 <= self.age < 18:\n",
    "            print('You are a teenager.')\n",
    "        else:\n",
    "            print('You are old.')\n",
    "\n",
    "    def yearPasses(self):\n",
    "        self.age += 1\n",
    "\n",
    "\n",
    "# Provided code for testing\n",
    "t = int(input(\"Enter the number of test cases: \"))\n",
    "for _ in range(t):\n",
    "    age = int(input(\"Enter the age: \"))\n",
    "    person = Person(age)\n",
    "    person.amIOld()\n",
    "    for _ in range(3):\n",
    "        person.yearPasses()\n",
    "    person.amIOld()\n",
    "    print(\"\")\n"
   ],
   "id": "bee53e9721d0cd16",
   "outputs": [
    {
     "name": "stdout",
     "output_type": "stream",
     "text": [
      "Age is not valid, setting age to 0.\n",
      "You are young.\n",
      "You are young.\n",
      "\n"
     ]
    }
   ],
   "execution_count": 99
  },
  {
   "metadata": {
    "ExecuteTime": {
     "end_time": "2024-04-19T02:39:43.602378Z",
     "start_time": "2024-04-19T02:39:42.631774Z"
    }
   },
   "cell_type": "code",
   "source": [
    "import math\n",
    "import os\n",
    "import random\n",
    "import re\n",
    "import sys\n",
    "\n",
    "if __name__ == '__main__':\n",
    "    n = int(input().strip())\n",
    "    for i in range(1, 11):\n",
    "        print(f\"{i} * {n} = {n * i}\")"
   ],
   "id": "2a0a4559cadecd34",
   "outputs": [
    {
     "name": "stdout",
     "output_type": "stream",
     "text": [
      "1 * 2 = 2\n",
      "2 * 2 = 4\n",
      "3 * 2 = 6\n",
      "4 * 2 = 8\n",
      "5 * 2 = 10\n",
      "6 * 2 = 12\n",
      "7 * 2 = 14\n",
      "8 * 2 = 16\n",
      "9 * 2 = 18\n",
      "10 * 2 = 20\n"
     ]
    }
   ],
   "execution_count": 106
  },
  {
   "metadata": {
    "ExecuteTime": {
     "end_time": "2024-04-19T03:12:23.002204Z",
     "start_time": "2024-04-19T03:12:22.986779Z"
    }
   },
   "cell_type": "code",
   "source": [
    "words = 'hacker rank'\n",
    "op = str()\n",
    "for word in words.split():\n",
    "    f = {}\n",
    "    even = []\n",
    "    odd = []\n",
    "    for i in range(len(word)):\n",
    "        f[i] = word[i]\n",
    "    for key, value in f.items():\n",
    "        if key % 2 == 0:\n",
    "            even.append(value)\n",
    "        else:\n",
    "            odd.append(value)\n",
    "\n",
    "    op += ''.join(even) + ' ' + ''.join(odd) + '\\n'\n",
    "print(op)"
   ],
   "id": "a46b7d66dd0e760a",
   "outputs": [
    {
     "name": "stdout",
     "output_type": "stream",
     "text": [
      "hce akr\n",
      "rn ak\n",
      "\n"
     ]
    }
   ],
   "execution_count": 162
  },
  {
   "metadata": {
    "ExecuteTime": {
     "end_time": "2024-04-19T03:02:10.984407Z",
     "start_time": "2024-04-19T03:02:06.548323Z"
    }
   },
   "cell_type": "code",
   "source": [
    "\n",
    "# Sentence to process\n",
    "sentence = input(\"Enter a sentence: \")\n",
    "\n",
    "# Split the sentence into words\n",
    "words = sentence.split()\n",
    "\n",
    "# Initialize lists to store even and odd characters for all words\n",
    "all_even = []\n",
    "all_odd = []\n",
    "\n",
    "# Iterate over each word in the sentence\n",
    "for word in words:\n",
    "    # Separate even and odd indexed characters for the current word\n",
    "    even = ''.join(word[i] for i in range(len(word)) if i % 2 == 0)\n",
    "    odd = ''.join(word[i] for i in range(len(word)) if i % 2 != 0)\n",
    "\n",
    "    # Add even and odd characters for the current word to the lists\n",
    "    all_even.append(even)\n",
    "    all_odd.append(odd)\n",
    "\n",
    "# Print even and odd characters for all words while maintaining order\n",
    "print(' '.join(all_even), ' '.join(all_odd))\n"
   ],
   "id": "6449a6b98488beb",
   "outputs": [
    {
     "name": "stdout",
     "output_type": "stream",
     "text": [
      "hce rn akr ak\n"
     ]
    }
   ],
   "execution_count": 131
  },
  {
   "metadata": {
    "ExecuteTime": {
     "end_time": "2024-04-20T02:06:51.078981Z",
     "start_time": "2024-04-20T02:06:49.989481Z"
    }
   },
   "cell_type": "code",
   "source": [
    "#!/bin/python3\n",
    "#hacker rank \n",
    "import math\n",
    "import os\n",
    "import random\n",
    "import re\n",
    "import sys\n",
    "\n",
    "\n",
    "#\n",
    "# Complete the 'factorial' function below.\n",
    "#\n",
    "# The function is expected to return an INTEGER.\n",
    "# The function accepts INTEGER n as parameter.\n",
    "#\n",
    "\n",
    "def factorial(n):\n",
    "    if n > 0:\n",
    "        return n * factorial(n - 1)\n",
    "    else:\n",
    "        return 1\n",
    "\n",
    "\n",
    "if __name__ == '__main__':\n",
    "    n = int(input().strip())\n",
    "\n",
    "    result = factorial(n)\n",
    "    print(result)"
   ],
   "id": "7343c90945d03dd9",
   "outputs": [
    {
     "name": "stdout",
     "output_type": "stream",
     "text": [
      "6\n"
     ]
    }
   ],
   "execution_count": 4
  },
  {
   "metadata": {
    "ExecuteTime": {
     "end_time": "2024-04-20T02:06:57.625424Z",
     "start_time": "2024-04-20T02:06:55.224344Z"
    }
   },
   "cell_type": "code",
   "source": [
    "# Enter your code here. Read input from STDIN. Print output to STDOUT\n",
    "N = int(input())\n",
    "book = {}\n",
    "for i in range(N):\n",
    "    name, phone = input().split(' ')\n",
    "    book[name] = phone\n",
    "\n",
    "names = []\n",
    "while True:\n",
    "    try:\n",
    "        name = input().strip()\n",
    "        if not name:\n",
    "            break\n",
    "        names.append(name)\n",
    "    except EOFError:\n",
    "        break\n",
    "\n",
    "op = ''\n",
    "for name in names:\n",
    "    if name in book:\n",
    "        phone = book[name]\n",
    "        op += name + '=' + phone + '\\n'\n",
    "    elif name not in book:\n",
    "        op += 'Not found' + '\\n'\n",
    "\n",
    "print(op)\n"
   ],
   "id": "b8db50fbec0cc1f0",
   "outputs": [
    {
     "ename": "ValueError",
     "evalue": "invalid literal for int() with base 10: ''",
     "output_type": "error",
     "traceback": [
      "\u001B[0;31m---------------------------------------------------------------------------\u001B[0m",
      "\u001B[0;31mValueError\u001B[0m                                Traceback (most recent call last)",
      "Cell \u001B[0;32mIn[5], line 2\u001B[0m\n\u001B[1;32m      1\u001B[0m \u001B[38;5;66;03m# Enter your code here. Read input from STDIN. Print output to STDOUT\u001B[39;00m\n\u001B[0;32m----> 2\u001B[0m N \u001B[38;5;241m=\u001B[39m \u001B[38;5;28;43mint\u001B[39;49m\u001B[43m(\u001B[49m\u001B[38;5;28;43minput\u001B[39;49m\u001B[43m(\u001B[49m\u001B[43m)\u001B[49m\u001B[43m)\u001B[49m\n\u001B[1;32m      3\u001B[0m book \u001B[38;5;241m=\u001B[39m {}\n\u001B[1;32m      4\u001B[0m \u001B[38;5;28;01mfor\u001B[39;00m i \u001B[38;5;129;01min\u001B[39;00m \u001B[38;5;28mrange\u001B[39m(N):\n",
      "\u001B[0;31mValueError\u001B[0m: invalid literal for int() with base 10: ''"
     ]
    }
   ],
   "execution_count": 5
  },
  {
   "metadata": {
    "ExecuteTime": {
     "end_time": "2024-04-24T15:04:09.097578Z",
     "start_time": "2024-04-24T15:04:09.090937Z"
    }
   },
   "cell_type": "code",
   "source": [
    "\n",
    "def trap(height):\n",
    "\n",
    "\n",
    "print(trap([0, 1, 0, 2, 1, 0, 1, 3, 2, 1, 2, 1]))\n"
   ],
   "id": "65004e225f1fdbf",
   "outputs": [
    {
     "name": "stdout",
     "output_type": "stream",
     "text": [
      "1\n"
     ]
    }
   ],
   "execution_count": 31
  },
  {
   "metadata": {},
   "cell_type": "code",
   "outputs": [],
   "execution_count": null,
   "source": [
    "#raising a n expcep\n",
    "class Calculator:\n",
    "    def __init__(self):\n",
    "        pass\n",
    "\n",
    "    def power(self, n, p):\n",
    "        if n < 0 or p < 0:\n",
    "            raise ValueError('n and p should be non-negative')\n",
    "        return n ** p\n",
    "\n",
    "\n",
    "myCalculator = Calculator()\n",
    "T = int(input())\n",
    "for i in range(T):\n",
    "    n, p = map(int, input().split())\n",
    "    try:\n",
    "        ans = myCalculator.power(n, p)\n",
    "        print(ans)\n",
    "    except Exception as e:\n",
    "        print(e)"
   ],
   "id": "42e3dd65ea6592b4"
  },
  {
   "metadata": {},
   "cell_type": "code",
   "outputs": [],
   "execution_count": null,
   "source": "",
   "id": "c1f6103f91bee90f"
  },
  {
   "metadata": {},
   "cell_type": "code",
   "outputs": [],
   "execution_count": null,
   "source": "",
   "id": "2210a1d5b43e3c6d"
  },
  {
   "metadata": {},
   "cell_type": "code",
   "outputs": [],
   "execution_count": null,
   "source": "",
   "id": "7cf1f9c3e1b7fd03"
  },
  {
   "metadata": {
    "ExecuteTime": {
     "end_time": "2024-04-20T02:14:06.229086Z",
     "start_time": "2024-04-20T02:14:06.223194Z"
    }
   },
   "cell_type": "code",
   "source": [
    "def containsDuplicate(nums) -> bool:\n",
    "    return (len(set(nums)) == len(nums))\n",
    "\n",
    "\n",
    "containsDuplicate([2, 3, 32, 2])"
   ],
   "id": "1d694788f30507b0",
   "outputs": [
    {
     "data": {
      "text/plain": [
       "False"
      ]
     },
     "execution_count": 17,
     "metadata": {},
     "output_type": "execute_result"
    }
   ],
   "execution_count": 17
  },
  {
   "metadata": {
    "ExecuteTime": {
     "end_time": "2024-04-20T16:04:52.173085Z",
     "start_time": "2024-04-20T16:04:52.169602Z"
    }
   },
   "cell_type": "code",
   "source": [
    "for i in range(3):\n",
    "    print(i)"
   ],
   "id": "1061a1adb1d63155",
   "outputs": [
    {
     "name": "stdout",
     "output_type": "stream",
     "text": [
      "0\n",
      "1\n",
      "2\n"
     ]
    }
   ],
   "execution_count": 150
  },
  {
   "metadata": {},
   "cell_type": "code",
   "outputs": [],
   "execution_count": null,
   "source": [
    "\n",
    "if __name__ == '__main__':\n",
    "    arr = []\n",
    "    for _ in range(6):\n",
    "        arr.append(list(map(int, input().rstrip().split())))\n",
    "    hcount = []\n",
    "\n",
    "    for i in range(len(arr) - 2):\n",
    "        for j in range(len(arr[i]) - 2):\n",
    "            hcount.append(sum(arr[i][j:j + 3]) + arr[i + 1][j + 1] + sum(arr[i + 2][j:j + 3]))\n",
    "    max(hcount)"
   ],
   "id": "b19954ae3f0dbdc6"
  },
  {
   "metadata": {},
   "cell_type": "code",
   "outputs": [],
   "execution_count": null,
   "source": "",
   "id": "6230a39d4b637a10"
  },
  {
   "metadata": {
    "ExecuteTime": {
     "end_time": "2024-04-21T12:59:55.319433Z",
     "start_time": "2024-04-21T12:59:55.308786Z"
    }
   },
   "cell_type": "code",
   "source": [
    "def topKFrequent(nums, k):\n",
    "    d = {}\n",
    "    for i, val in enumerate(nums):\n",
    "        if val not in d:\n",
    "            d[val] = [i]\n",
    "        elif val in d:\n",
    "            d[val].append(i)\n",
    "    x = sorted(d, key=lambda x: len(d[x]), reverse=True)\n",
    "    return x[:k]\n",
    "\n",
    "\n",
    "topKFrequent([1, 2, 3, 4, 5, 1, 2, 1, 2, 3], 2)"
   ],
   "id": "fb1f9bf6fa318ed",
   "outputs": [
    {
     "data": {
      "text/plain": [
       "[1, 2]"
      ]
     },
     "execution_count": 24,
     "metadata": {},
     "output_type": "execute_result"
    }
   ],
   "execution_count": 24
  },
  {
   "metadata": {
    "ExecuteTime": {
     "end_time": "2024-04-21T13:19:49.411120Z",
     "start_time": "2024-04-21T13:19:49.400773Z"
    }
   },
   "cell_type": "code",
   "source": [
    "import re\n",
    "\n",
    "\n",
    "def isPalindrome(s: str) -> bool:\n",
    "    s = re.sub(r'[^a-zA-Z0-9]', '', s).lower()\n",
    "    print(s)\n",
    "    return s == s[::-1]\n",
    "\n",
    "\n",
    "isPalindrome('ab_a')"
   ],
   "id": "fff7076cbf5b6e50",
   "outputs": [
    {
     "name": "stdout",
     "output_type": "stream",
     "text": [
      "aba\n"
     ]
    },
    {
     "data": {
      "text/plain": [
       "True"
      ]
     },
     "execution_count": 30,
     "metadata": {},
     "output_type": "execute_result"
    }
   ],
   "execution_count": 30
  },
  {
   "metadata": {
    "ExecuteTime": {
     "end_time": "2024-04-22T04:39:31.180883Z",
     "start_time": "2024-04-22T04:39:31.174086Z"
    }
   },
   "cell_type": "code",
   "source": [
    "def maxProfit(prices) -> int:\n",
    "    l = 0\n",
    "    r = 1\n",
    "    max_p = 0\n",
    "    while r < len(prices):\n",
    "        if prices[r] > prices[l]:\n",
    "            profit = prices[r] - prices[l]\n",
    "            max_p = max(max_p, profit)\n",
    "        else:\n",
    "            l = r\n",
    "        r += 1\n",
    "    return max_p\n",
    "\n",
    "\n",
    "print(maxProfit([1, 2]))"
   ],
   "id": "e57c163d64011be2",
   "outputs": [
    {
     "name": "stdout",
     "output_type": "stream",
     "text": [
      "1\n"
     ]
    }
   ],
   "execution_count": 23
  },
  {
   "metadata": {
    "ExecuteTime": {
     "end_time": "2024-04-22T11:12:03.483942Z",
     "start_time": "2024-04-22T11:12:03.458745Z"
    }
   },
   "cell_type": "code",
   "source": [
    "def productExceptSelf(nums):\n",
    "    l = []\n",
    "    for i in range(len(nums) - 1):\n",
    "        id_a = len(nums) - 1 - i\n",
    "        print(nums[id_a])\n",
    "\n",
    "\n",
    "print(productExceptSelf([1, 2, 3, 4, 5]))"
   ],
   "id": "f25b68851f89aca2",
   "outputs": [
    {
     "name": "stdout",
     "output_type": "stream",
     "text": [
      "120\n"
     ]
    }
   ],
   "execution_count": 27
  },
  {
   "metadata": {
    "ExecuteTime": {
     "end_time": "2024-04-22T12:27:27.306648Z",
     "start_time": "2024-04-22T12:27:27.303633Z"
    }
   },
   "cell_type": "code",
   "source": "a = [1, 2, 3, 4]",
   "id": "4ab6495290c5ec57",
   "outputs": [],
   "execution_count": 6
  },
  {
   "metadata": {
    "ExecuteTime": {
     "end_time": "2024-04-22T12:34:37.969Z",
     "start_time": "2024-04-22T12:27:39.203111Z"
    }
   },
   "cell_type": "code",
   "source": [
    "from typing import List\n",
    "\n",
    "\n",
    "def productExceptSelf(nums: List[int]) -> List[int]:\n",
    "    n = len(nums)\n",
    "    left_products = [1] * n\n",
    "    right_products = [1] * n\n",
    "    result = [0] * n\n",
    "\n",
    "    # Calculate left products\n",
    "    for i in range(1, n):\n",
    "        left_products[i] = left_products[i - 1] * nums[i - 1]\n",
    "\n",
    "    # Calculate right products\n",
    "    for i in range(n - 2, -1, -1):\n",
    "        right_products[i] = right_products[i + 1] * nums[i + 1]\n",
    "\n",
    "    # Calculate the result\n",
    "    for i in range(n):\n",
    "        result[i] = left_products[i] * right_products[i]\n",
    "\n",
    "    return result\n",
    "\n",
    "\n",
    "productExceptSelf(a)\n"
   ],
   "id": "1896161267b0ed03",
   "outputs": [
    {
     "ename": "KeyboardInterrupt",
     "evalue": "",
     "output_type": "error",
     "traceback": [
      "\u001B[0;31m---------------------------------------------------------------------------\u001B[0m",
      "\u001B[0;31mKeyboardInterrupt\u001B[0m                         Traceback (most recent call last)",
      "Cell \u001B[0;32mIn[8], line 24\u001B[0m\n\u001B[1;32m     20\u001B[0m         result[i] \u001B[38;5;241m=\u001B[39m left_products[i] \u001B[38;5;241m*\u001B[39m right_products[i]\n\u001B[1;32m     22\u001B[0m     \u001B[38;5;28;01mreturn\u001B[39;00m result\n\u001B[0;32m---> 24\u001B[0m \u001B[43mproductExceptSelf\u001B[49m\u001B[43m(\u001B[49m\u001B[43ma\u001B[49m\u001B[43m)\u001B[49m\n",
      "Cell \u001B[0;32mIn[8], line 19\u001B[0m, in \u001B[0;36mproductExceptSelf\u001B[0;34m(nums)\u001B[0m\n\u001B[1;32m     16\u001B[0m     right_products[i] \u001B[38;5;241m=\u001B[39m right_products[i \u001B[38;5;241m+\u001B[39m \u001B[38;5;241m1\u001B[39m] \u001B[38;5;241m*\u001B[39m nums[i \u001B[38;5;241m+\u001B[39m \u001B[38;5;241m1\u001B[39m]\n\u001B[1;32m     18\u001B[0m \u001B[38;5;66;03m# Calculate the result\u001B[39;00m\n\u001B[0;32m---> 19\u001B[0m \u001B[38;5;28;01mfor\u001B[39;00m i \u001B[38;5;129;01min\u001B[39;00m \u001B[38;5;28mrange\u001B[39m(n):\n\u001B[1;32m     20\u001B[0m     result[i] \u001B[38;5;241m=\u001B[39m left_products[i] \u001B[38;5;241m*\u001B[39m right_products[i]\n\u001B[1;32m     22\u001B[0m \u001B[38;5;28;01mreturn\u001B[39;00m result\n",
      "Cell \u001B[0;32mIn[8], line 19\u001B[0m, in \u001B[0;36mproductExceptSelf\u001B[0;34m(nums)\u001B[0m\n\u001B[1;32m     16\u001B[0m     right_products[i] \u001B[38;5;241m=\u001B[39m right_products[i \u001B[38;5;241m+\u001B[39m \u001B[38;5;241m1\u001B[39m] \u001B[38;5;241m*\u001B[39m nums[i \u001B[38;5;241m+\u001B[39m \u001B[38;5;241m1\u001B[39m]\n\u001B[1;32m     18\u001B[0m \u001B[38;5;66;03m# Calculate the result\u001B[39;00m\n\u001B[0;32m---> 19\u001B[0m \u001B[38;5;28;01mfor\u001B[39;00m i \u001B[38;5;129;01min\u001B[39;00m \u001B[38;5;28mrange\u001B[39m(n):\n\u001B[1;32m     20\u001B[0m     result[i] \u001B[38;5;241m=\u001B[39m left_products[i] \u001B[38;5;241m*\u001B[39m right_products[i]\n\u001B[1;32m     22\u001B[0m \u001B[38;5;28;01mreturn\u001B[39;00m result\n",
      "File \u001B[0;32m_pydevd_bundle/pydevd_cython_darwin_39_64.pyx:1187\u001B[0m, in \u001B[0;36m_pydevd_bundle.pydevd_cython_darwin_39_64.SafeCallWrapper.__call__\u001B[0;34m()\u001B[0m\n",
      "File \u001B[0;32m_pydevd_bundle/pydevd_cython_darwin_39_64.pyx:627\u001B[0m, in \u001B[0;36m_pydevd_bundle.pydevd_cython_darwin_39_64.PyDBFrame.trace_dispatch\u001B[0;34m()\u001B[0m\n",
      "File \u001B[0;32m_pydevd_bundle/pydevd_cython_darwin_39_64.pyx:1103\u001B[0m, in \u001B[0;36m_pydevd_bundle.pydevd_cython_darwin_39_64.PyDBFrame.trace_dispatch\u001B[0;34m()\u001B[0m\n",
      "File \u001B[0;32m_pydevd_bundle/pydevd_cython_darwin_39_64.pyx:1061\u001B[0m, in \u001B[0;36m_pydevd_bundle.pydevd_cython_darwin_39_64.PyDBFrame.trace_dispatch\u001B[0;34m()\u001B[0m\n",
      "File \u001B[0;32m~/Library/Application Support/JetBrains/Toolbox/apps/PyCharm-P/ch-0/241.14494.241/PyCharm.app/Contents/plugins/python/helpers-pro/jupyter_debug/pydev_jupyter_plugin.py:169\u001B[0m, in \u001B[0;36mstop\u001B[0;34m(plugin, pydb, frame, event, args, stop_info, arg, step_cmd)\u001B[0m\n\u001B[1;32m    167\u001B[0m     frame \u001B[38;5;241m=\u001B[39m suspend_jupyter(main_debugger, thread, frame, step_cmd)\n\u001B[1;32m    168\u001B[0m     \u001B[38;5;28;01mif\u001B[39;00m frame:\n\u001B[0;32m--> 169\u001B[0m         \u001B[43mmain_debugger\u001B[49m\u001B[38;5;241;43m.\u001B[39;49m\u001B[43mdo_wait_suspend\u001B[49m\u001B[43m(\u001B[49m\u001B[43mthread\u001B[49m\u001B[43m,\u001B[49m\u001B[43m \u001B[49m\u001B[43mframe\u001B[49m\u001B[43m,\u001B[49m\u001B[43m \u001B[49m\u001B[43mevent\u001B[49m\u001B[43m,\u001B[49m\u001B[43m \u001B[49m\u001B[43marg\u001B[49m\u001B[43m)\u001B[49m\n\u001B[1;32m    170\u001B[0m         \u001B[38;5;28;01mreturn\u001B[39;00m \u001B[38;5;28;01mTrue\u001B[39;00m\n\u001B[1;32m    171\u001B[0m \u001B[38;5;28;01mreturn\u001B[39;00m \u001B[38;5;28;01mFalse\u001B[39;00m\n",
      "File \u001B[0;32m~/Library/Application Support/JetBrains/Toolbox/apps/PyCharm-P/ch-0/241.14494.241/PyCharm.app/Contents/plugins/python/helpers/pydev/pydevd.py:1185\u001B[0m, in \u001B[0;36mPyDB.do_wait_suspend\u001B[0;34m(self, thread, frame, event, arg, send_suspend_message, is_unhandled_exception)\u001B[0m\n\u001B[1;32m   1182\u001B[0m         from_this_thread\u001B[38;5;241m.\u001B[39mappend(frame_id)\n\u001B[1;32m   1184\u001B[0m \u001B[38;5;28;01mwith\u001B[39;00m \u001B[38;5;28mself\u001B[39m\u001B[38;5;241m.\u001B[39m_threads_suspended_single_notification\u001B[38;5;241m.\u001B[39mnotify_thread_suspended(thread_id, stop_reason):\n\u001B[0;32m-> 1185\u001B[0m     \u001B[38;5;28;43mself\u001B[39;49m\u001B[38;5;241;43m.\u001B[39;49m\u001B[43m_do_wait_suspend\u001B[49m\u001B[43m(\u001B[49m\u001B[43mthread\u001B[49m\u001B[43m,\u001B[49m\u001B[43m \u001B[49m\u001B[43mframe\u001B[49m\u001B[43m,\u001B[49m\u001B[43m \u001B[49m\u001B[43mevent\u001B[49m\u001B[43m,\u001B[49m\u001B[43m \u001B[49m\u001B[43marg\u001B[49m\u001B[43m,\u001B[49m\u001B[43m \u001B[49m\u001B[43msuspend_type\u001B[49m\u001B[43m,\u001B[49m\u001B[43m \u001B[49m\u001B[43mfrom_this_thread\u001B[49m\u001B[43m)\u001B[49m\n",
      "File \u001B[0;32m~/Library/Application Support/JetBrains/Toolbox/apps/PyCharm-P/ch-0/241.14494.241/PyCharm.app/Contents/plugins/python/helpers/pydev/pydevd.py:1200\u001B[0m, in \u001B[0;36mPyDB._do_wait_suspend\u001B[0;34m(self, thread, frame, event, arg, suspend_type, from_this_thread)\u001B[0m\n\u001B[1;32m   1197\u001B[0m             \u001B[38;5;28mself\u001B[39m\u001B[38;5;241m.\u001B[39m_call_mpl_hook()\n\u001B[1;32m   1199\u001B[0m         \u001B[38;5;28mself\u001B[39m\u001B[38;5;241m.\u001B[39mprocess_internal_commands()\n\u001B[0;32m-> 1200\u001B[0m         \u001B[43mtime\u001B[49m\u001B[38;5;241;43m.\u001B[39;49m\u001B[43msleep\u001B[49m\u001B[43m(\u001B[49m\u001B[38;5;241;43m0.01\u001B[39;49m\u001B[43m)\u001B[49m\n\u001B[1;32m   1202\u001B[0m \u001B[38;5;28mself\u001B[39m\u001B[38;5;241m.\u001B[39mcancel_async_evaluation(get_current_thread_id(thread), \u001B[38;5;28mstr\u001B[39m(\u001B[38;5;28mid\u001B[39m(frame)))\n\u001B[1;32m   1204\u001B[0m \u001B[38;5;66;03m# process any stepping instructions\u001B[39;00m\n",
      "\u001B[0;31mKeyboardInterrupt\u001B[0m: "
     ]
    }
   ],
   "execution_count": 8
  },
  {
   "metadata": {},
   "cell_type": "code",
   "outputs": [],
   "execution_count": null,
   "source": [
    "class Person:\n",
    "    def __init__(self, firstName, lastName, idNumber):\n",
    "        self.firstName = firstName\n",
    "        self.lastName = lastName\n",
    "        self.idNumber = idNumber\n",
    "\n",
    "    def printPerson(self):\n",
    "        print(\"Name:\", self.lastName + \",\", self.firstName)\n",
    "        print(\"ID:\", self.idNumber)\n",
    "\n",
    "\n",
    "class Student(Person):\n",
    "    #   Class Constructor\n",
    "    def __init__(self, firstName, lastName, idNumber, scores):\n",
    "        super().__init__(firstName, lastName, idNumber)\n",
    "        self.scores = scores\n",
    "\n",
    "    def calculate(self):\n",
    "        grade = sum(self.scores) / len(self.scores)\n",
    "        return (\n",
    "            \"O\" if grade >= 90 else \"E\" if 80 <= grade < 90 else \"A\" if 70 <= grade < 80 else \"P\" if 55 <= grade < 70 else \"D\" if 40 <= grade < 55 else \"T\")\n",
    "\n",
    "\n",
    "line = input().split()\n",
    "firstName = line[0]\n",
    "lastName = line[1]\n",
    "idNum = line[2]\n",
    "numScores = int(input())  # not needed for Python\n",
    "scores = list(map(int, input().split()))\n",
    "s = Student(firstName, lastName, idNum, scores)\n",
    "s.printPerson()\n",
    "print(\"Grade:\", s.calculate())"
   ],
   "id": "a4551971b2f37e8c"
  },
  {
   "metadata": {
    "ExecuteTime": {
     "end_time": "2024-04-22T13:15:12.474929Z",
     "start_time": "2024-04-22T13:15:12.469659Z"
    }
   },
   "cell_type": "code",
   "source": [
    "from abc import ABCMeta, abstractmethod\n",
    "\n",
    "\n",
    "class Book(object, metaclass=ABCMeta):\n",
    "    def __init__(self, title, author):\n",
    "        self.title = title\n",
    "        self.author = author\n",
    "\n",
    "    @abstractmethod\n",
    "    def display(): pass\n",
    "\n",
    "\n",
    "class MyBook(Book):\n",
    "    def __init__(self, title, author, price):\n",
    "        super().__init__(title, author)\n",
    "        self.price = price\n",
    "\n",
    "    def display(self):\n",
    "        print('Title:', self.title)\n",
    "        print('Author:', self.author)\n",
    "        print('Price:', self.price)\n",
    "\n",
    "\n",
    "#Write MyBook class\n",
    "\n",
    "title = input()\n",
    "author = input()\n",
    "price = int(input())\n",
    "new_novel = MyBook(title, author, price)\n",
    "new_novel.display()"
   ],
   "id": "bce7551ec6feb474",
   "outputs": [
    {
     "ename": "SyntaxError",
     "evalue": "invalid syntax (2052342992.py, line 2)",
     "output_type": "error",
     "traceback": [
      "\u001B[0;36m  Cell \u001B[0;32mIn[12], line 2\u001B[0;36m\u001B[0m\n\u001B[0;31m    public def __init__(self):\u001B[0m\n\u001B[0m           ^\u001B[0m\n\u001B[0;31mSyntaxError\u001B[0m\u001B[0;31m:\u001B[0m invalid syntax\n"
     ]
    }
   ],
   "execution_count": 12
  },
  {
   "metadata": {
    "ExecuteTime": {
     "end_time": "2024-04-23T02:37:36.123621Z",
     "start_time": "2024-04-23T02:37:36.086277Z"
    }
   },
   "cell_type": "code",
   "source": [
    "def longestConsecutive(nums: List[int]) -> int:\n",
    "    d = []\n",
    "    nums = sorted(list(set(nums)))\n",
    "    c = 1\n",
    "    for i in range(len(nums) - 1):\n",
    "        if nums[i + 1] - nums[i] == 1:\n",
    "            c += 1\n",
    "        else:\n",
    "            c = 1\n",
    "        d.append(c)\n",
    "    return max(d)\n",
    "\n",
    "\n",
    "print(longestConsecutive([0, 0]))"
   ],
   "id": "da35e6fae6608c3a",
   "outputs": [
    {
     "ename": "ValueError",
     "evalue": "max() arg is an empty sequence",
     "output_type": "error",
     "traceback": [
      "\u001B[0;31m---------------------------------------------------------------------------\u001B[0m",
      "\u001B[0;31mValueError\u001B[0m                                Traceback (most recent call last)",
      "Cell \u001B[0;32mIn[34], line 13\u001B[0m\n\u001B[1;32m     10\u001B[0m         d\u001B[38;5;241m.\u001B[39mappend(c)\n\u001B[1;32m     11\u001B[0m     \u001B[38;5;28;01mreturn\u001B[39;00m \u001B[38;5;28mmax\u001B[39m(d)\n\u001B[0;32m---> 13\u001B[0m \u001B[38;5;28mprint\u001B[39m(\u001B[43mlongestConsecutive\u001B[49m\u001B[43m(\u001B[49m\u001B[43m[\u001B[49m\u001B[38;5;241;43m0\u001B[39;49m\u001B[43m,\u001B[49m\u001B[38;5;241;43m0\u001B[39;49m\u001B[43m]\u001B[49m\u001B[43m)\u001B[49m)\n",
      "Cell \u001B[0;32mIn[34], line 11\u001B[0m, in \u001B[0;36mlongestConsecutive\u001B[0;34m(nums)\u001B[0m\n\u001B[1;32m      9\u001B[0m         c\u001B[38;5;241m=\u001B[39m \u001B[38;5;241m1\u001B[39m\n\u001B[1;32m     10\u001B[0m     d\u001B[38;5;241m.\u001B[39mappend(c)\n\u001B[0;32m---> 11\u001B[0m \u001B[38;5;28;01mreturn\u001B[39;00m \u001B[38;5;28;43mmax\u001B[39;49m\u001B[43m(\u001B[49m\u001B[43md\u001B[49m\u001B[43m)\u001B[49m\n",
      "\u001B[0;31mValueError\u001B[0m: max() arg is an empty sequence"
     ]
    }
   ],
   "execution_count": 34
  },
  {
   "metadata": {
    "ExecuteTime": {
     "end_time": "2024-04-23T02:36:56.264263Z",
     "start_time": "2024-04-23T02:36:56.259663Z"
    }
   },
   "cell_type": "code",
   "source": [
    "a = [1, 2, 2, 3, 3, 4]\n",
    "print(list(set(a)))"
   ],
   "id": "fed1e937fdc3ea5e",
   "outputs": [
    {
     "name": "stdout",
     "output_type": "stream",
     "text": [
      "[1, 2, 3, 4]\n"
     ]
    }
   ],
   "execution_count": 32
  },
  {
   "metadata": {
    "ExecuteTime": {
     "end_time": "2024-04-23T02:50:19.021139Z",
     "start_time": "2024-04-23T02:50:19.016099Z"
    }
   },
   "cell_type": "code",
   "source": [
    "def twoSum(numbers: List[int], target: int) -> List[int]:\n",
    "    d = {}\n",
    "    for i, val in enumerate(numbers):\n",
    "        if (target - val) not in d:\n",
    "            d[val] = i\n",
    "        elif (target - val) in d:\n",
    "            return d[target - val], i\n",
    "        else:\n",
    "            return None\n",
    "\n",
    "\n",
    "print(twoSum([2, 7, 11, 15], 9))"
   ],
   "id": "5108a278caa12c6c",
   "outputs": [
    {
     "name": "stdout",
     "output_type": "stream",
     "text": [
      "(0, 1)\n"
     ]
    }
   ],
   "execution_count": 41
  },
  {
   "metadata": {
    "ExecuteTime": {
     "end_time": "2024-04-23T03:09:09.391739Z",
     "start_time": "2024-04-23T03:09:09.376618Z"
    }
   },
   "cell_type": "code",
   "source": [
    "def maxArea(height: List[int]) -> int:\n",
    "    m = 1\n",
    "    l = 0\n",
    "    r = len(height) - 1\n",
    "    while l < r:\n",
    "        area = min(height[l], height[r]) * (r - l)\n",
    "        if height[l] < height[r]:\n",
    "            l += 1\n",
    "        else:\n",
    "            r -= 1\n",
    "        m = max(m, area)\n",
    "    return m\n",
    "\n",
    "\n",
    "maxArea([1, 8, 6, 2, 5, 4, 8, 3, 7])"
   ],
   "id": "3a35fad917cb366f",
   "outputs": [
    {
     "data": {
      "text/plain": [
       "49"
      ]
     },
     "execution_count": 47,
     "metadata": {},
     "output_type": "execute_result"
    }
   ],
   "execution_count": 47
  },
  {
   "metadata": {
    "ExecuteTime": {
     "end_time": "2024-04-24T07:02:00.263437Z",
     "start_time": "2024-04-24T07:02:00.258038Z"
    }
   },
   "cell_type": "code",
   "source": [
    "def threeSum(nums):\n",
    "    result = []\n",
    "    nums.sort()\n",
    "    n = len(nums)\n",
    "\n",
    "    for i in range(n):\n",
    "        if i > 0 and nums[i] == nums[i - 1]:\n",
    "            continue\n",
    "\n",
    "        l, r = i + 1, n - 1\n",
    "\n",
    "        while l < r:\n",
    "            total = nums[i] + nums[l] + nums[r]\n",
    "\n",
    "            if total < 0:\n",
    "                l += 1\n",
    "            elif total > 0:\n",
    "                r -= 1\n",
    "            else:\n",
    "                result.append([nums[i], nums[l], nums[r]])\n",
    "\n",
    "                while l < r and nums[l] == nums[l + 1]:\n",
    "                    l += 1\n",
    "                while l < r and nums[r] == nums[r - 1]:\n",
    "                    r -= 1\n",
    "\n",
    "                l += 1\n",
    "                r -= 1\n",
    "\n",
    "    return result\n",
    "\n",
    "\n",
    "print(threeSum([-1, 0, 1, 2, -1, -4]))\n"
   ],
   "id": "563902c8938c8c7b",
   "outputs": [
    {
     "name": "stdout",
     "output_type": "stream",
     "text": [
      "[]\n"
     ]
    }
   ],
   "execution_count": 27
  },
  {
   "metadata": {
    "ExecuteTime": {
     "end_time": "2024-04-25T10:52:59.233231Z",
     "start_time": "2024-04-25T10:52:59.225857Z"
    }
   },
   "cell_type": "code",
   "source": [
    "def longest_common_prefix(strs):\n",
    "    if not strs:\n",
    "        return \"\"\n",
    "\n",
    "    # Sort the list of strings to ensure the shortest string is the first one\n",
    "    strs.sort()\n",
    "\n",
    "    # Compare the first and last strings (the extremes)\n",
    "    first_str = strs[0]\n",
    "    last_str = strs[-1]\n",
    "\n",
    "    # Find the common prefix between the first and last strings\n",
    "    common_prefix = \"\"\n",
    "    for i in range(len(first_str)):\n",
    "        if i < len(last_str) and first_str[i] == last_str[i]:\n",
    "            common_prefix += first_str[i]\n",
    "        else:\n",
    "            break\n",
    "\n",
    "\n",
    "def longest_common_prefix(words):\n",
    "    if not words:\n",
    "        return \"\"\n",
    "\n",
    "    # Take the first word as a reference\n",
    "    prefix = words[0]\n",
    "\n",
    "    for word in words[1:]:\n",
    "        # Check if the word starts with the current prefix\n",
    "        while not word.startswith(prefix):\n",
    "            # If not, shorten the prefix by one character\n",
    "            prefix = prefix[:-1]\n",
    "            if not prefix:  # If prefix becomes empty, return immediately\n",
    "                return \"\"\n",
    "\n",
    "    return prefix\n",
    "\n",
    "\n",
    "# Test cases\n",
    "print(longest_common_prefix([\"flower\", \"flow\", \"fly\"]))  # Output: \"fl\"\n",
    "print(longest_common_prefix([\"flower\", \"flow\", \"abc\"]))  # Output: \"\"\n",
    "\n",
    "return '\"' + common_prefix + '\"'\n",
    "\n",
    "print(longest_common_prefix(['flight', 'fl']))"
   ],
   "id": "9d1842f3fa71efbe",
   "outputs": [
    {
     "name": "stdout",
     "output_type": "stream",
     "text": [
      "fl\n",
      "\n"
     ]
    },
    {
     "ename": "SyntaxError",
     "evalue": "'return' outside function (4056545469.py, line 40)",
     "output_type": "error",
     "traceback": [
      "\u001B[0;36m  Cell \u001B[0;32mIn[39], line 40\u001B[0;36m\u001B[0m\n\u001B[0;31m    return '\"' + common_prefix + '\"'\u001B[0m\n\u001B[0m    ^\u001B[0m\n\u001B[0;31mSyntaxError\u001B[0m\u001B[0;31m:\u001B[0m 'return' outside function\n"
     ]
    }
   ],
   "execution_count": 39
  },
  {
   "metadata": {
    "ExecuteTime": {
     "end_time": "2024-04-25T12:05:20.956091Z",
     "start_time": "2024-04-25T12:05:20.946733Z"
    }
   },
   "cell_type": "code",
   "source": [
    "def longest_common_prefix(words):\n",
    "    if not words:\n",
    "        return \"\"\n",
    "\n",
    "    # Take the first word as a reference\n",
    "    prefix = words[0]\n",
    "\n",
    "    for word in words[1:]:\n",
    "        # Check if the word starts with the current prefix\n",
    "        while not word.startswith(prefix):\n",
    "            # If not, shorten the prefix by one character\n",
    "            prefix = prefix[:-1]\n",
    "            if not prefix:  # If prefix becomes empty, return immediately\n",
    "                return \"\"\n",
    "\n",
    "    return prefix\n",
    "\n",
    "\n",
    "# Test cases\n",
    "assert longest_common_prefix([\"flower\", \"flow\", \"fly\"]) == \"fl\"\n",
    "print(longest_common_prefix([\"flower\", \"flow\", \"abc\"]))  # Output: \"\"\n"
   ],
   "id": "e06f0f6a8f970f03",
   "outputs": [
    {
     "name": "stdout",
     "output_type": "stream",
     "text": [
      "\n"
     ]
    }
   ],
   "execution_count": 41
  },
  {
   "metadata": {
    "ExecuteTime": {
     "end_time": "2024-04-27T04:45:31.305448Z",
     "start_time": "2024-04-27T04:45:31.298393Z"
    }
   },
   "cell_type": "code",
   "source": [
    "from typing import List\n",
    "\n",
    "\n",
    "class Solution:\n",
    "    def findSubstring(self, s: str, words: List[str]) -> List[int]:\n",
    "        if not s or not words:\n",
    "            return []\n",
    "\n",
    "        word_length = len(words[0])\n",
    "        total_length = len(words) * word_length\n",
    "        words_count = {}\n",
    "\n",
    "        for word in words:\n",
    "            if word in words_count:\n",
    "                words_count[word] += 1\n",
    "            else:\n",
    "                words_count[word] = 1\n",
    "\n",
    "        result = []\n",
    "\n",
    "        for i in range(len(s) - total_length + 1):\n",
    "            substring = s[i:i + total_length]\n",
    "            found_words = {}\n",
    "            j = 0\n",
    "\n",
    "            while j < total_length:\n",
    "                word = substring[j:j + word_length]\n",
    "\n",
    "                if word not in words_count:\n",
    "                    break\n",
    "\n",
    "                found_words[word] = found_words.get(word, 0) + 1\n",
    "\n",
    "                if found_words[word] > words_count[word]:\n",
    "                    break\n",
    "\n",
    "                j += word_length\n",
    "\n",
    "            if j == total_length:\n",
    "                result.append(i)\n",
    "\n",
    "        return result\n",
    "\n",
    "\n",
    "# Test\n",
    "solution = Solution()\n",
    "print(solution.findSubstring('aaa', ['a', 'a']))  # Output: [0, 1]\n"
   ],
   "id": "451ae879701ea33d",
   "outputs": [
    {
     "name": "stdout",
     "output_type": "stream",
     "text": [
      "[0, 1]\n"
     ]
    }
   ],
   "execution_count": 140
  },
  {
   "metadata": {
    "ExecuteTime": {
     "end_time": "2024-04-26T16:40:55.157970Z",
     "start_time": "2024-04-26T16:40:55.117080Z"
    }
   },
   "cell_type": "code",
   "source": "print(word_to_find)",
   "id": "bb2052e4a5ad9832",
   "outputs": [
    {
     "ename": "NameError",
     "evalue": "name 'word_to_find' is not defined",
     "output_type": "error",
     "traceback": [
      "\u001B[0;31m---------------------------------------------------------------------------\u001B[0m",
      "\u001B[0;31mNameError\u001B[0m                                 Traceback (most recent call last)",
      "Cell \u001B[0;32mIn[65], line 1\u001B[0m\n\u001B[0;32m----> 1\u001B[0m \u001B[38;5;28mprint\u001B[39m(\u001B[43mword_to_find\u001B[49m)\n",
      "\u001B[0;31mNameError\u001B[0m: name 'word_to_find' is not defined"
     ]
    }
   ],
   "execution_count": 65
  },
  {
   "metadata": {
    "ExecuteTime": {
     "end_time": "2024-04-27T04:55:12.192187Z",
     "start_time": "2024-04-27T04:55:12.187515Z"
    }
   },
   "cell_type": "code",
   "source": [
    "from itertools import permutations\n",
    "\n",
    "\n",
    "def checkInclusion(s1: str, s2: str) -> bool:\n",
    "    combs = [''.join(perm) for perm in permutations(s1)]\n",
    "    for c in combs:\n",
    "        if s2.__contains__(c):\n",
    "            return True\n",
    "        else:\n",
    "            continue\n",
    "    return False\n",
    "\n",
    "\n",
    "checkInclusion('sa', 'assf')\n"
   ],
   "id": "a8df6bcce568cf22",
   "outputs": [
    {
     "data": {
      "text/plain": [
       "True"
      ]
     },
     "execution_count": 156,
     "metadata": {},
     "output_type": "execute_result"
    }
   ],
   "execution_count": 156
  },
  {
   "metadata": {
    "ExecuteTime": {
     "end_time": "2024-04-28T12:39:57.725603Z",
     "start_time": "2024-04-28T12:39:57.720378Z"
    }
   },
   "cell_type": "code",
   "source": [
    "# Definition for singly-linked list.\n",
    "class ListNode:\n",
    "    def __init__(self, val=0, next=None):\n",
    "        self.val = val\n",
    "        self.next = next\n",
    "\n",
    "\n",
    "class Solution:\n",
    "    def reverseList(self, head):\n",
    "        new_list = None\n",
    "        current = head\n",
    "\n",
    "        while current:\n",
    "            next_node = current.next\n",
    "            current.next = new_list\n",
    "            new_list = current\n",
    "            current = next_node\n",
    "        return new_list\n"
   ],
   "id": "d22242b3b71426b6",
   "outputs": [],
   "execution_count": 56
  },
  {
   "metadata": {},
   "cell_type": "code",
   "outputs": [],
   "execution_count": null,
   "source": "",
   "id": "9ba01f36d00806e4"
  },
  {
   "metadata": {
    "ExecuteTime": {
     "end_time": "2024-04-29T06:49:58.117529Z",
     "start_time": "2024-04-29T06:49:58.108127Z"
    }
   },
   "cell_type": "code",
   "source": [
    "class ListNode:\n",
    "    def __init__(self, val=0, next=None):\n",
    "        self.val = val\n",
    "        self.next = next\n",
    "\n",
    "\n",
    "def mergeTwoLists(list1, list2):\n",
    "    dummy = ListNode()\n",
    "    cur = dummy\n",
    "    while list1 and list2:\n",
    "        if list1.val < list2.val:\n",
    "            cur.next = list1\n",
    "            list1 = list1.next\n",
    "        else:\n",
    "            cur.next = list2\n",
    "            list2 = list2.next\n",
    "\n",
    "        cur = cur.next\n",
    "\n",
    "    if list1:\n",
    "        cur.next = list1\n",
    "    elif list2:\n",
    "        cur.next = list2\n",
    "\n",
    "    return dummy.next\n",
    "\n",
    "\n",
    "# Example usage:\n",
    "list1 = ListNode(1)\n",
    "list1.next = ListNode(2)\n",
    "list1.next.next = ListNode(4)\n",
    "\n",
    "list2 = ListNode(1)\n",
    "list2.next = ListNode(3)\n",
    "list2.next.next = ListNode(4)\n",
    "\n",
    "# Call mergeTwoLists function"
   ],
   "id": "ac13a95e7987708",
   "outputs": [],
   "execution_count": 15
  },
  {
   "metadata": {
    "ExecuteTime": {
     "end_time": "2024-04-29T06:49:59.128256Z",
     "start_time": "2024-04-29T06:49:59.124011Z"
    }
   },
   "cell_type": "code",
   "source": [
    "merged_list = mergeTwoLists(list1, list2)\n",
    "while merged_list:\n",
    "    print(merged_list.val, end=\" -> \")\n",
    "    merged_list = merged_list.next"
   ],
   "id": "a155f0309873b759",
   "outputs": [
    {
     "name": "stdout",
     "output_type": "stream",
     "text": [
      "1 -> 1 -> 2 -> 3 -> 4 -> 4 -> "
     ]
    }
   ],
   "execution_count": 16
  },
  {
   "metadata": {},
   "cell_type": "code",
   "outputs": [],
   "execution_count": null,
   "source": "    \n",
   "id": "ac84df8c5b264005"
  },
  {
   "metadata": {
    "ExecuteTime": {
     "end_time": "2024-05-02T11:48:10.435133Z",
     "start_time": "2024-05-02T11:48:04.200070Z"
    }
   },
   "cell_type": "code",
   "source": [
    "# Enter your code here. Read input from STDIN. Print output to STDOUT\n",
    "from datetime import datetime\n",
    "from dateutil import relativedelta\n",
    "\n",
    "if __name__ == '__main__':\n",
    "    def td(time_diff):\n",
    "\n",
    "        if time_diff.years and time_diff.years > 0:\n",
    "            return time_diff.years * 10000\n",
    "        if time_diff.months and time_diff.months > 0:\n",
    "            return time_diff.months * 500\n",
    "        if time_diff.days and time_diff.days > 0:\n",
    "            return time_diff.days * 15\n",
    "        else:\n",
    "            return 0\n",
    "\n",
    "\n",
    "    date_sub = input()\n",
    "    due_date = input()\n",
    "    date_sub = datetime.strptime(date_sub, '%d %m %Y')\n",
    "    due_date = datetime.strptime(due_date, '%d %m %Y')\n",
    "    time_diff = relativedelta.relativedelta(date_sub, due_date)\n",
    "    print(td(time_diff))"
   ],
   "id": "43aa496f747b32f",
   "outputs": [
    {
     "ename": "ValueError",
     "evalue": "time data '8 8 8' does not match format '%d %m %Y'",
     "output_type": "error",
     "traceback": [
      "\u001B[0;31m---------------------------------------------------------------------------\u001B[0m",
      "\u001B[0;31mValueError\u001B[0m                                Traceback (most recent call last)",
      "Cell \u001B[0;32mIn[177], line 20\u001B[0m\n\u001B[1;32m     18\u001B[0m date_sub \u001B[38;5;241m=\u001B[39m \u001B[38;5;28minput\u001B[39m()\n\u001B[1;32m     19\u001B[0m due_date \u001B[38;5;241m=\u001B[39m \u001B[38;5;28minput\u001B[39m()\n\u001B[0;32m---> 20\u001B[0m date_sub \u001B[38;5;241m=\u001B[39m \u001B[43mdatetime\u001B[49m\u001B[38;5;241;43m.\u001B[39;49m\u001B[43mstrptime\u001B[49m\u001B[43m(\u001B[49m\u001B[43mdate_sub\u001B[49m\u001B[43m,\u001B[49m\u001B[38;5;124;43m'\u001B[39;49m\u001B[38;5;132;43;01m%d\u001B[39;49;00m\u001B[38;5;124;43m \u001B[39;49m\u001B[38;5;124;43m%\u001B[39;49m\u001B[38;5;124;43mm \u001B[39;49m\u001B[38;5;124;43m%\u001B[39;49m\u001B[38;5;124;43mY\u001B[39;49m\u001B[38;5;124;43m'\u001B[39;49m\u001B[43m)\u001B[49m\n\u001B[1;32m     21\u001B[0m due_date \u001B[38;5;241m=\u001B[39m datetime\u001B[38;5;241m.\u001B[39mstrptime(due_date,\u001B[38;5;124m'\u001B[39m\u001B[38;5;132;01m%d\u001B[39;00m\u001B[38;5;124m \u001B[39m\u001B[38;5;124m%\u001B[39m\u001B[38;5;124mm \u001B[39m\u001B[38;5;124m%\u001B[39m\u001B[38;5;124mY\u001B[39m\u001B[38;5;124m'\u001B[39m)\n\u001B[1;32m     22\u001B[0m time_diff \u001B[38;5;241m=\u001B[39m relativedelta\u001B[38;5;241m.\u001B[39mrelativedelta(date_sub, due_date)\n",
      "File \u001B[0;32m~/anaconda3/envs/Data_Science/lib/python3.9/_strptime.py:568\u001B[0m, in \u001B[0;36m_strptime_datetime\u001B[0;34m(cls, data_string, format)\u001B[0m\n\u001B[1;32m    565\u001B[0m \u001B[38;5;28;01mdef\u001B[39;00m \u001B[38;5;21m_strptime_datetime\u001B[39m(\u001B[38;5;28mcls\u001B[39m, data_string, \u001B[38;5;28mformat\u001B[39m\u001B[38;5;241m=\u001B[39m\u001B[38;5;124m\"\u001B[39m\u001B[38;5;132;01m%a\u001B[39;00m\u001B[38;5;124m \u001B[39m\u001B[38;5;124m%\u001B[39m\u001B[38;5;124mb \u001B[39m\u001B[38;5;132;01m%d\u001B[39;00m\u001B[38;5;124m \u001B[39m\u001B[38;5;124m%\u001B[39m\u001B[38;5;124mH:\u001B[39m\u001B[38;5;124m%\u001B[39m\u001B[38;5;124mM:\u001B[39m\u001B[38;5;124m%\u001B[39m\u001B[38;5;124mS \u001B[39m\u001B[38;5;124m%\u001B[39m\u001B[38;5;124mY\u001B[39m\u001B[38;5;124m\"\u001B[39m):\n\u001B[1;32m    566\u001B[0m \u001B[38;5;250m    \u001B[39m\u001B[38;5;124;03m\"\"\"Return a class cls instance based on the input string and the\u001B[39;00m\n\u001B[1;32m    567\u001B[0m \u001B[38;5;124;03m    format string.\"\"\"\u001B[39;00m\n\u001B[0;32m--> 568\u001B[0m     tt, fraction, gmtoff_fraction \u001B[38;5;241m=\u001B[39m \u001B[43m_strptime\u001B[49m\u001B[43m(\u001B[49m\u001B[43mdata_string\u001B[49m\u001B[43m,\u001B[49m\u001B[43m \u001B[49m\u001B[38;5;28;43mformat\u001B[39;49m\u001B[43m)\u001B[49m\n\u001B[1;32m    569\u001B[0m     tzname, gmtoff \u001B[38;5;241m=\u001B[39m tt[\u001B[38;5;241m-\u001B[39m\u001B[38;5;241m2\u001B[39m:]\n\u001B[1;32m    570\u001B[0m     args \u001B[38;5;241m=\u001B[39m tt[:\u001B[38;5;241m6\u001B[39m] \u001B[38;5;241m+\u001B[39m (fraction,)\n",
      "File \u001B[0;32m~/anaconda3/envs/Data_Science/lib/python3.9/_strptime.py:349\u001B[0m, in \u001B[0;36m_strptime\u001B[0;34m(data_string, format)\u001B[0m\n\u001B[1;32m    347\u001B[0m found \u001B[38;5;241m=\u001B[39m format_regex\u001B[38;5;241m.\u001B[39mmatch(data_string)\n\u001B[1;32m    348\u001B[0m \u001B[38;5;28;01mif\u001B[39;00m \u001B[38;5;129;01mnot\u001B[39;00m found:\n\u001B[0;32m--> 349\u001B[0m     \u001B[38;5;28;01mraise\u001B[39;00m \u001B[38;5;167;01mValueError\u001B[39;00m(\u001B[38;5;124m\"\u001B[39m\u001B[38;5;124mtime data \u001B[39m\u001B[38;5;132;01m%r\u001B[39;00m\u001B[38;5;124m does not match format \u001B[39m\u001B[38;5;132;01m%r\u001B[39;00m\u001B[38;5;124m\"\u001B[39m \u001B[38;5;241m%\u001B[39m\n\u001B[1;32m    350\u001B[0m                      (data_string, \u001B[38;5;28mformat\u001B[39m))\n\u001B[1;32m    351\u001B[0m \u001B[38;5;28;01mif\u001B[39;00m \u001B[38;5;28mlen\u001B[39m(data_string) \u001B[38;5;241m!=\u001B[39m found\u001B[38;5;241m.\u001B[39mend():\n\u001B[1;32m    352\u001B[0m     \u001B[38;5;28;01mraise\u001B[39;00m \u001B[38;5;167;01mValueError\u001B[39;00m(\u001B[38;5;124m\"\u001B[39m\u001B[38;5;124munconverted data remains: \u001B[39m\u001B[38;5;132;01m%s\u001B[39;00m\u001B[38;5;124m\"\u001B[39m \u001B[38;5;241m%\u001B[39m\n\u001B[1;32m    353\u001B[0m                       data_string[found\u001B[38;5;241m.\u001B[39mend():])\n",
      "\u001B[0;31mValueError\u001B[0m: time data '8 8 8' does not match format '%d %m %Y'"
     ]
    }
   ],
   "execution_count": 177
  },
  {
   "metadata": {
    "ExecuteTime": {
     "end_time": "2024-05-02T13:02:24.527571Z",
     "start_time": "2024-05-02T13:02:24.517262Z"
    }
   },
   "cell_type": "code",
   "source": [
    "import numpy as np\n",
    "\n",
    "\n",
    "class MinStack:\n",
    "    def __init__(self):\n",
    "        self.min = np.inf\n",
    "        self.stack = []\n",
    "\n",
    "    def push(self, val: int) -> None:\n",
    "        if val < self.min:\n",
    "            self.stack.append(self.min)\n",
    "            self.min = val\n",
    "        self.stack.append((val))\n",
    "\n",
    "    def pop(self) -> None:\n",
    "        t = self.stack[-1]\n",
    "        self.stack.pop()\n",
    "        if t == self.min:\n",
    "            self.min = self.stack[-1]\n",
    "            self.stack.pop()\n",
    "\n",
    "    def top(self) -> int:\n",
    "        return self.stack[-1]\n",
    "\n",
    "    def getMin(self) -> int:\n",
    "        return self.min"
   ],
   "id": "b806ca6be5974b60",
   "outputs": [],
   "execution_count": 212
  },
  {
   "metadata": {
    "ExecuteTime": {
     "end_time": "2024-05-02T13:02:25.697396Z",
     "start_time": "2024-05-02T13:02:25.695139Z"
    }
   },
   "cell_type": "code",
   "source": [
    "obj = MinStack()\n",
    "obj.push(-2)\n",
    "obj.push(0)\n",
    "obj.push(-3)\n",
    "obj.getMin()\n",
    "\n",
    "print(obj.pop())\n",
    "print(obj.top())\n",
    "print(obj.getMin())"
   ],
   "id": "4592fc2810b938ad",
   "outputs": [
    {
     "name": "stdout",
     "output_type": "stream",
     "text": [
      "None\n",
      "0\n",
      "-2\n"
     ]
    }
   ],
   "execution_count": 213
  },
  {
   "metadata": {},
   "cell_type": "code",
   "outputs": [],
   "execution_count": null,
   "source": "",
   "id": "b4abd80fbfe31f54"
  }
 ],
 "metadata": {
  "kernelspec": {
   "display_name": "Python 3",
   "language": "python",
   "name": "python3"
  },
  "language_info": {
   "codemirror_mode": {
    "name": "ipython",
    "version": 2
   },
   "file_extension": ".py",
   "mimetype": "text/x-python",
   "name": "python",
   "nbconvert_exporter": "python",
   "pygments_lexer": "ipython2",
   "version": "2.7.6"
  }
 },
 "nbformat": 4,
 "nbformat_minor": 5
}
