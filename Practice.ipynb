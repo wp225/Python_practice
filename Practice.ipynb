{
 "cells": [
  {
   "cell_type": "code",
   "id": "initial_id",
   "metadata": {
    "collapsed": true,
    "ExecuteTime": {
     "end_time": "2024-04-16T07:23:13.986579Z",
     "start_time": "2024-04-16T07:23:13.978150Z"
    }
   },
   "source": [
    "#sorting by absolute value \n",
    "def checkio(values: list) -> list:\n",
    "    return sorted(values,key= lambda x:abs(x))\n",
    "    \n",
    "\n",
    "print(\"Example:\")\n",
    "print(checkio([-20, -5, 10, 15]))\n",
    "\n",
    "# These \"asserts\" are used for self-checking\n",
    "assert checkio([-20, -5, 10, 15]) == [-5, 10, 15, -20]\n",
    "assert checkio([1, 2, 3, 0]) == [0, 1, 2, 3]\n",
    "assert checkio([-1, -2, -3, 0]) == [0, -1, -2, -3]\n",
    "\n",
    "print(\"The mission is done! Click 'Check Solution' to earn rewards!\")\n"
   ],
   "outputs": [
    {
     "name": "stdout",
     "output_type": "stream",
     "text": [
      "Example:\n",
      "[-5, 10, 15, -20]\n",
      "The mission is done! Click 'Check Solution' to earn rewards!\n"
     ]
    }
   ],
   "execution_count": 2
  },
  {
   "metadata": {
    "ExecuteTime": {
     "end_time": "2024-04-16T07:30:42.230716Z",
     "start_time": "2024-04-16T07:30:42.223906Z"
    }
   },
   "cell_type": "code",
   "source": [
    "import re\n",
    "def count_vowels(text: str) -> int:\n",
    "    return len(re.findall(\"[aeiou]\", text,re.IGNORECASE))    \n",
    "\n",
    "print(\"Example:\")\n",
    "print(count_vowels(\"Hello\"))\n",
    "\n",
    "\n",
    "\n",
    "# These \"asserts\" are used for self-checking\n",
    "assert count_vowels(\"hello\") == 2\n",
    "assert count_vowels(\"openai\") == 4\n",
    "assert count_vowels(\"typescript\") == 2\n",
    "assert count_vowels(\"a\") == 1\n",
    "assert count_vowels(\"b\") == 0\n",
    "assert count_vowels(\"aeiou\") == 5\n",
    "assert count_vowels(\"AEIOU\") == 5\n",
    "assert count_vowels(\"The quick brown fox\") == 5\n",
    "assert count_vowels(\"Jumps over the lazy dog\") == 6\n",
    "assert count_vowels(\"\") == 0\n",
    "\n",
    "print(\"The mission is done! Click 'Check Solution' to earn rewards!\")"
   ],
   "id": "820b56354b556f4b",
   "outputs": [
    {
     "name": "stdout",
     "output_type": "stream",
     "text": [
      "Example:\n",
      "2\n",
      "The mission is done! Click 'Check Solution' to earn rewards!\n"
     ]
    }
   ],
   "execution_count": 11
  },
  {
   "metadata": {
    "ExecuteTime": {
     "end_time": "2024-04-16T07:39:19.396078Z",
     "start_time": "2024-04-16T07:39:19.389856Z"
    }
   },
   "cell_type": "code",
   "source": [
    "from typing import Any, Iterable\n",
    "import numpy as np \n",
    "\n",
    "\n",
    "def split_list(items: list[Any]) -> Iterable[list[Any]]:\n",
    "    base_len = int(np.ceil(len(items) / 2))\n",
    "    new_list = list([items[0:base_len],items[base_len:len(items)]])\n",
    "    return new_list\n",
    "    \n",
    "    \n",
    "print(\"Example:\")\n",
    "print(list(split_list([])))\n",
    "assert list(split_list([1, 2, 3])) == [[1, 2], [3]]\n",
    "assert list(split_list([\"banana\", \"apple\", \"orange\", \"cherry\", \"watermelon\"])) == [\n",
    "    [\"banana\", \"apple\", \"orange\"],\n",
    "    [\"cherry\", \"watermelon\"],\n",
    "]\n",
    "assert list(split_list([1])) == [[1], []]\n",
    "\n"
   ],
   "id": "c4b3eb4e135e1bec",
   "outputs": [
    {
     "name": "stdout",
     "output_type": "stream",
     "text": [
      "Example:\n",
      "[[], []]\n"
     ]
    }
   ],
   "execution_count": 28
  },
  {
   "metadata": {
    "ExecuteTime": {
     "end_time": "2024-04-16T08:09:24.374898Z",
     "start_time": "2024-04-16T08:09:24.369596Z"
    }
   },
   "cell_type": "code",
   "source": [
    "from datetime import datetime\n",
    "def date_time(time: str) -> str:\n",
    "    t=datetime.strptime(time,'%d.%m.%Y %H:%M')\n",
    "    return t.strftime(f'%-d %B %Y year %-H hour{\"s\" if t.hour!=1 else \"\"} %-M minute{\"s\" if t.minute!=1 else \"\"}')\n",
    "\n",
    "print(\"Example:\")\n",
    "print(date_time(\"01.01.2000 00:00\"))\n",
    "\n",
    "assert date_time(\"01.01.2000 00:00\") == \"1 January 2000 year 0 hours 0 minutes\"\n",
    "assert date_time(\"09.05.1945 06:07\") == \"9 May 1945 year 6 hours 7 minutes\"\n",
    "\n",
    "print(\"The mission is done! Click 'Check Solution' to earn rewards!\")\n"
   ],
   "id": "67d1ed6448e64319",
   "outputs": [
    {
     "name": "stdout",
     "output_type": "stream",
     "text": [
      "Example:\n",
      "1 January 2000 year 0 hours 0 minutes\n",
      "The mission is done! Click 'Check Solution' to earn rewards!\n"
     ]
    }
   ],
   "execution_count": 74
  },
  {
   "metadata": {},
   "cell_type": "code",
   "outputs": [],
   "execution_count": null,
   "source": "",
   "id": "f723181f9f39accc"
  }
 ],
 "metadata": {
  "kernelspec": {
   "display_name": "Python 3",
   "language": "python",
   "name": "python3"
  },
  "language_info": {
   "codemirror_mode": {
    "name": "ipython",
    "version": 2
   },
   "file_extension": ".py",
   "mimetype": "text/x-python",
   "name": "python",
   "nbconvert_exporter": "python",
   "pygments_lexer": "ipython2",
   "version": "2.7.6"
  }
 },
 "nbformat": 4,
 "nbformat_minor": 5
}
