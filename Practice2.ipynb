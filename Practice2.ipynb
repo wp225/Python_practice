{
 "cells": [
  {
   "cell_type": "code",
   "id": "initial_id",
   "metadata": {
    "collapsed": true,
    "ExecuteTime": {
     "end_time": "2024-05-23T16:11:54.624319Z",
     "start_time": "2024-05-23T16:11:54.621294Z"
    }
   },
   "source": "# Merge Sort ",
   "outputs": [],
   "execution_count": 1
  },
  {
   "metadata": {
    "ExecuteTime": {
     "end_time": "2024-05-24T02:28:29.510449Z",
     "start_time": "2024-05-24T02:28:29.495696Z"
    }
   },
   "cell_type": "code",
   "source": [
    "# MergeSort in Python\n",
    "\n",
    "\n",
    "def mergeSort(array):\n",
    "    if len(array) > 1:\n",
    "\n",
    "        r = len(array)//2\n",
    "        L = array[:r]\n",
    "        M = array[r:]\n",
    "\n",
    "        mergeSort(L)\n",
    "        mergeSort(M)\n",
    "\n",
    "        i = j = k = 0\n",
    "\n",
    "        while i < len(L) and j < len(M):\n",
    "            if L[i] < M[j]:\n",
    "                array[k] = L[i]\n",
    "                i += 1\n",
    "            else:\n",
    "                array[k] = M[j]\n",
    "                j += 1\n",
    "            k += 1\n",
    "\n",
    "        while i < len(L):\n",
    "            array[k] = L[i]\n",
    "            i += 1\n",
    "            k += 1\n",
    "\n",
    "        while j < len(M):\n",
    "            array[k] = M[j]\n",
    "            j += 1\n",
    "            k += 1\n",
    "\n",
    "\n",
    "\n",
    "if __name__ == '__main__':\n",
    "    array = [1,2,5,7,9,2]\n",
    "\n",
    "    mergeSort(array)\n",
    "    print(array)"
   ],
   "id": "444e0b10ecdfa3ea",
   "outputs": [
    {
     "name": "stdout",
     "output_type": "stream",
     "text": [
      "[1, 2, 2, 5, 7, 9]\n"
     ]
    }
   ],
   "execution_count": 17
  },
  {
   "metadata": {
    "ExecuteTime": {
     "end_time": "2024-05-24T03:57:05.819733Z",
     "start_time": "2024-05-24T03:54:07.691985Z"
    }
   },
   "cell_type": "code",
   "source": [
    "import numpy as np\n",
    "\n",
    "def findMaxAverage(nums, k: int) -> float:\n",
    "    if len(nums) < k:\n",
    "        return float('-inf')\n",
    "\n",
    "    max_sum = sum(nums[:k])\n",
    "    curr_sum = max_sum\n",
    "\n",
    "    for i in range(k, len(nums)):\n",
    "        curr_sum += nums[i] - nums[i - k]\n",
    "        max_sum = max(max_sum, curr_sum)\n",
    "\n",
    "    return max_sum / k\n",
    "\n",
    "# Example usage\n",
    "result = findMaxAverage([1, 2, 4, 5, -10, 6, 2, 3, -5, 2, 5, 5, -2], 5)\n",
    "print(\"Maximum average of subarray of length 5:\", result)\n"
   ],
   "id": "1624971e0a5118fe",
   "outputs": [
    {
     "ename": "IndexError",
     "evalue": "list index out of range",
     "output_type": "error",
     "traceback": [
      "\u001B[0;31m---------------------------------------------------------------------------\u001B[0m",
      "\u001B[0;31mIndexError\u001B[0m                                Traceback (most recent call last)",
      "Cell \u001B[0;32mIn[31], line 15\u001B[0m\n\u001B[1;32m     12\u001B[0m         max_sum\u001B[38;5;241m=\u001B[39m\u001B[38;5;28mmax\u001B[39m(max_sum,curr_sum)\n\u001B[1;32m     13\u001B[0m         r\u001B[38;5;241m+\u001B[39m\u001B[38;5;241m=\u001B[39m\u001B[38;5;241m1\u001B[39m\n\u001B[0;32m---> 15\u001B[0m \u001B[43mfindMaxAverage\u001B[49m\u001B[43m(\u001B[49m\u001B[43m[\u001B[49m\u001B[38;5;241;43m1\u001B[39;49m\u001B[43m,\u001B[49m\u001B[38;5;241;43m2\u001B[39;49m\u001B[43m,\u001B[49m\u001B[38;5;241;43m4\u001B[39;49m\u001B[43m,\u001B[49m\u001B[38;5;241;43m5\u001B[39;49m\u001B[43m,\u001B[49m\u001B[38;5;241;43m-\u001B[39;49m\u001B[38;5;241;43m10\u001B[39;49m\u001B[43m,\u001B[49m\u001B[38;5;241;43m6\u001B[39;49m\u001B[43m,\u001B[49m\u001B[38;5;241;43m2\u001B[39;49m\u001B[43m,\u001B[49m\u001B[38;5;241;43m3\u001B[39;49m\u001B[43m,\u001B[49m\u001B[38;5;241;43m-\u001B[39;49m\u001B[38;5;241;43m5\u001B[39;49m\u001B[43m,\u001B[49m\u001B[38;5;241;43m2\u001B[39;49m\u001B[43m,\u001B[49m\u001B[38;5;241;43m5\u001B[39;49m\u001B[43m,\u001B[49m\u001B[38;5;241;43m5\u001B[39;49m\u001B[43m,\u001B[49m\u001B[38;5;241;43m-\u001B[39;49m\u001B[38;5;241;43m2\u001B[39;49m\u001B[43m]\u001B[49m\u001B[43m,\u001B[49m\u001B[38;5;241;43m5\u001B[39;49m\u001B[43m)\u001B[49m\n",
      "Cell \u001B[0;32mIn[31], line 7\u001B[0m, in \u001B[0;36mfindMaxAverage\u001B[0;34m(nums, k)\u001B[0m\n\u001B[1;32m      5\u001B[0m l\u001B[38;5;241m=\u001B[39m\u001B[38;5;241m0\u001B[39m\n\u001B[1;32m      6\u001B[0m \u001B[38;5;28;01mwhile\u001B[39;00m r\u001B[38;5;241m<\u001B[39m\u001B[38;5;28mlen\u001B[39m(nums)\u001B[38;5;241m-\u001B[39m\u001B[38;5;241m1\u001B[39m:\n\u001B[0;32m----> 7\u001B[0m     \u001B[38;5;28;01mwhile\u001B[39;00m nums[l]\u001B[38;5;241m>\u001B[39m\u001B[43mnums\u001B[49m\u001B[43m[\u001B[49m\u001B[43mr\u001B[49m\u001B[43m]\u001B[49m:\n\u001B[1;32m      8\u001B[0m         r\u001B[38;5;241m+\u001B[39m\u001B[38;5;241m=\u001B[39m\u001B[38;5;241m1\u001B[39m\n\u001B[1;32m     10\u001B[0m     l\u001B[38;5;241m=\u001B[39mr\u001B[38;5;241m-\u001B[39mk\n",
      "\u001B[0;31mIndexError\u001B[0m: list index out of range"
     ]
    }
   ],
   "execution_count": 31
  },
  {
   "metadata": {
    "ExecuteTime": {
     "end_time": "2024-05-24T03:54:03.130712Z",
     "start_time": "2024-05-24T03:54:03.035074Z"
    }
   },
   "cell_type": "code",
   "source": "",
   "id": "748c34ee7324493b",
   "outputs": [],
   "execution_count": 30
  }
 ],
 "metadata": {
  "kernelspec": {
   "display_name": "Python 3",
   "language": "python",
   "name": "python3"
  },
  "language_info": {
   "codemirror_mode": {
    "name": "ipython",
    "version": 2
   },
   "file_extension": ".py",
   "mimetype": "text/x-python",
   "name": "python",
   "nbconvert_exporter": "python",
   "pygments_lexer": "ipython2",
   "version": "2.7.6"
  }
 },
 "nbformat": 4,
 "nbformat_minor": 5
}
