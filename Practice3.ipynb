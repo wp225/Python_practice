{
 "cells": [
  {
   "cell_type": "code",
   "id": "initial_id",
   "metadata": {
    "collapsed": true,
    "ExecuteTime": {
     "end_time": "2024-07-25T10:39:57.220394Z",
     "start_time": "2024-07-25T10:39:57.210875Z"
    }
   },
   "source": [
    "from typing import List\n",
    "def search(nums: List[int], target: int) -> int:\n",
    "    left, right = 0, len(nums) - 1\n",
    "    \n",
    "    while left <= right:\n",
    "        mid = (left + right) // 2\n",
    "        if nums[mid] == target:\n",
    "            return mid\n",
    "        elif nums[mid] < target:\n",
    "            left = mid + 1\n",
    "        else:\n",
    "            right = mid - 1\n",
    "    \n",
    "    return -1\n",
    "\n",
    "%time\n",
    "search([1,3,5,7,12],3)\n"
   ],
   "outputs": [
    {
     "name": "stdout",
     "output_type": "stream",
     "text": [
      "CPU times: user 2 µs, sys: 1 µs, total: 3 µs\n",
      "Wall time: 5.72 µs\n"
     ]
    },
    {
     "data": {
      "text/plain": [
       "1"
      ]
     },
     "execution_count": 39,
     "metadata": {},
     "output_type": "execute_result"
    }
   ],
   "execution_count": 39
  },
  {
   "metadata": {
    "ExecuteTime": {
     "end_time": "2024-07-25T10:42:09.998583Z",
     "start_time": "2024-07-25T10:42:09.992683Z"
    }
   },
   "cell_type": "code",
   "source": [
    "def search(nums: List[int], target: int) -> int:\n",
    "    left, right = 0, len(nums) - 1\n",
    "    while left<=right:\n",
    "        mid = (left+right) // 2 \n",
    "\n",
    "        if nums[left] == target:\n",
    "            return left\n",
    "        elif nums[right] == target:\n",
    "            return right\n",
    "        elif nums[mid] == target:\n",
    "            return mid\n",
    "        elif nums[mid] > target:\n",
    "            right = mid - 1\n",
    "        else:\n",
    "            left = mid + 1\n",
    "            \n",
    "    return -1\n",
    "\n",
    "%time      \n",
    "search([5],5)\n"
   ],
   "id": "41e4f83689bc7df4",
   "outputs": [
    {
     "name": "stdout",
     "output_type": "stream",
     "text": [
      "CPU times: user 1 µs, sys: 1 µs, total: 2 µs\n",
      "Wall time: 1.91 µs\n"
     ]
    },
    {
     "data": {
      "text/plain": [
       "0"
      ]
     },
     "execution_count": 43,
     "metadata": {},
     "output_type": "execute_result"
    }
   ],
   "execution_count": 43
  },
  {
   "metadata": {},
   "cell_type": "markdown",
   "source": "### O(logn)",
   "id": "461189f671dba096"
  },
  {
   "metadata": {},
   "cell_type": "code",
   "outputs": [],
   "execution_count": null,
   "source": [
    "def searchRange(self, nums: List[int], target: int) -> List[int]:\n",
    "    pass"
   ],
   "id": "a7831b986fe1c9e7"
  },
  {
   "metadata": {
    "ExecuteTime": {
     "end_time": "2024-07-25T13:06:43.826726Z",
     "start_time": "2024-07-25T13:06:43.811429Z"
    }
   },
   "cell_type": "code",
   "source": [
    "def go_left(nums: List[int],target: int) -> List[int]:\n",
    "    output = -1\n",
    "    left, right = 0, len(nums)-1\n",
    "    while left <= right:\n",
    "        mid = (left+right) // 2 \n",
    "        if nums[mid] == target:\n",
    "            output = mid\n",
    "            right = mid -1\n",
    "        elif nums[mid] < target:\n",
    "            left = mid +1\n",
    "        else: \n",
    "            right = mid + 1\n",
    "        \n",
    "    return output\n",
    "\n",
    "def go_right(nums: List[int],target: int) -> List[int]:\n",
    "    output = -1\n",
    "    left, right = 0, len(nums)-1\n",
    "    while left <= right:\n",
    "        mid = (left+right) // 2 \n",
    "        if nums[mid] == target:\n",
    "            output = mid\n",
    "            left = mid + 1\n",
    "        elif nums[mid] < target:\n",
    "            left = mid +1\n",
    "        else: \n",
    "            right = mid + 1\n",
    "        \n",
    "    return output\n"
   ],
   "id": "22eadcfaa5f0dc88",
   "outputs": [],
   "execution_count": 52
  },
  {
   "metadata": {
    "ExecuteTime": {
     "end_time": "2024-07-25T13:06:45.476786Z",
     "start_time": "2024-07-25T13:06:45.473840Z"
    }
   },
   "cell_type": "code",
   "source": "print(go_left([5,5,5,5,8,8,8,9,10],8))",
   "id": "99ad07c13b0e8f3b",
   "outputs": [
    {
     "name": "stdout",
     "output_type": "stream",
     "text": [
      "4\n"
     ]
    }
   ],
   "execution_count": 53
  },
  {
   "metadata": {},
   "cell_type": "code",
   "outputs": [],
   "execution_count": null,
   "source": "",
   "id": "eb98626ceae0c5f"
  }
 ],
 "metadata": {
  "kernelspec": {
   "display_name": "Python 3",
   "language": "python",
   "name": "python3"
  },
  "language_info": {
   "codemirror_mode": {
    "name": "ipython",
    "version": 2
   },
   "file_extension": ".py",
   "mimetype": "text/x-python",
   "name": "python",
   "nbconvert_exporter": "python",
   "pygments_lexer": "ipython2",
   "version": "2.7.6"
  }
 },
 "nbformat": 4,
 "nbformat_minor": 5
}
